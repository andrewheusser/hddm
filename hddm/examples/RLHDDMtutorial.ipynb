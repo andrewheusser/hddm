{
 "cells": [
  {
   "cell_type": "markdown",
   "metadata": {},
   "source": [
    "# Tutorial for analyzing instrumental learning data with the HDDMrl module\n",
    "This is a tutorial for using the HDDMrl module to simultaneously estimate reinforcement learning parameters and decision parameters within a fully hierarchical bayesian estimation framework, including steps for sampling, assessing convergence, model fit, parameter recovery, and posterior predictive checks (model validation). The module uses the reinforcement learning drift diffusion model (RLDDM), a reinforcement learning model that replaces the standard “softmax” choice function with a drift diffusion process. The softmax and drift diffusion process is equivalent for capturing choice proportions, but the DDM also takes RT distributions into account; options are provided to also only fit RL parameters without RT. The RLDDM estimates trial-by-trial drift rate as a scaled difference in expected rewards (expected reward for upper bound alternative minus expected reward for lower bound alternative). Expected rewards are updated with a delta learning rule using either a single learning rate or with separate learning rates for positive and negative prediction errors. The model also includes the standard DDM-parameters. The RLDDM is described in detail in [Pedersen, Frank & Biele (2017).](http://ski.clps.brown.edu/papers/PedersenEtAl_RLDDM.pdf) (Note this approach differs from Frank et al (2015) who used HDDM to fit instrumental learning but did not allow for simultaneous estimation of learning parameters). \n",
    "\n",
    "## OUTLINE \n",
    "\n",
    "[1. Background](#1.-Background) <br>\n",
    "[2. Installing the module](#2.-Installing-the-module) <br>\n",
    "[3. How the RLDDM works](#3.-How-the-RLDDM-works) <br>\n",
    "[4. Structuring data](#4.-Structuring-data) <br>\n",
    "[5. Running basic model](#5.-Running-basic-model) <br>\n",
    "[6. Checking results](#6.-Checking-results) <br>\n",
    "[7. Posterior predictive checks](#7.-Posterior-predictive-checks)<br>\n",
    "[8. Parameter recovery](#8.-Parameter-recovery)<br>\n",
    "[9. Separate learning rates for positive and negative prediction errors](#9.-Separate-learning-rates-for-positive-and-negative-prediction-errors)<br>\n",
    "[10. depends_on vs. split_by](#10.-depends_on-vs.-split_by)<br>\n",
    "[11. Probabilistic binary outcomes vs. normally distributed outcomes](#11.-Probabilistic-binary-outcomes-vs.-normally-distributed-outcomes)<br>\n",
    "[12. HDDMrlRegressor](#12.-HDDMrlRegressor)<br>\n",
    "[13. Regular RL without RT](#13.-Regular-RL-without-RT)\n"
   ]
  },
  {
   "cell_type": "markdown",
   "metadata": {},
   "source": [
    "## 1. Background\n",
    "Traditional RL models typically assume static decision processes (e.g. softmax), and the DDM typically assumes static decision variables (stimuli are modeled with the same drift rate across trials). The RLDDM combines dynamic decision variables from RL and dynamic choice process from DDM by assuming trial-by-trial drift rate that depends on the difference in expected rewards, which are updated on each trial by a rate of the prediction error dependent on the learning rate. The potential benefit of the RLDDM is thus to gain a better insight into decision processes in instrumental learning by also accounting for speed of decision making."
   ]
  },
  {
   "cell_type": "markdown",
   "metadata": {},
   "source": [
    "## 2. Installing the module\n",
    "The new version of HDDM (version 0.7.1) that includes the RLDDM is currently not uploaded to conda. So to install you would either have to use pip:<br>\n",
    "'pip install hddm' <br>\n",
    "OR <br>\n",
    "docker: 'pull madslupe/hddm', which runs hddm in jupyter notebook <br>"
   ]
  },
  {
   "cell_type": "markdown",
   "metadata": {},
   "source": [
    "## 3. How the RLDDM works\n",
    "The main idea of the RLDDM is that reward-based choices can be captured by an accumulation-to-bound process where drift rate is proportional to the difference in expected reward between options, and where expected rewards subsequently are updated in a trial-by-trial basis via reinforcement learning. <br><br>\n",
    "__drift rate on each trial depends on difference in expected rewards for the two alternatives (q_up and q_low):__ <br>\n",
    "drift rate = (q_up - q_low) * scaling <br><br>\n",
    "_where the scaling parameter describes the weight to put on the difference in q-values._<br><br>\n",
    "__expeceted reward (q) for chosen option is updated according to delta learning rule :__ <br>\n",
    "q_chosen = q_chosen + alpha * (feedback-q_chosen) <br><br>\n",
    "_where alpha weights the rate of learning on each trial._<br><br>\n",
    "So in principle all you need is the Wiener first passage time likelihood-function. The reason why HDDM is useful (and hence also HDDMrl) is that it automates the process of setting up and running your model, which tends to be very time consuming. So after structuring the data it is simple to run a model with HDDMrl. In particular it separates subjects and conditions (using the split_by-column, see next section) so that the updating process works correctly, which can be especially difficult to do for RL models. "
   ]
  },
  {
   "cell_type": "markdown",
   "metadata": {},
   "source": [
    "## 4. Structuring data\n",
    "The HDDMrl module was created to make it easier to model instrumental learning data with the RLDDM. If you are familiar with using HDDM it shouldn't be a big step to start using HDDMrl. Please refresh your memory by starting with the [tutorial for HDDM](http://ski.clps.brown.edu/hddm_docs/index.html) first (especially critical if you have not used HDDM at all). Running HDDMrl does require a few extra steps compared to HDDM, and because the model includes increased potential for parameter colinearity  (typically learning rate and the scaling parameter on drift rate) it is even more important to assess model fit, which will be covered below. Here are the most important steps for structuring your dataframe:\n",
    "1. Sort trials in ascending order within subject and condition, to ensure proper updating of expected rewards.\n",
    "2. Include a column called __'split_by'__ which identifies the different task conditions (__as integers__), to ensure reward updating will work properly for each condition without mixing values learned from one trial type to another. \n",
    "3. Code the response column with [stimulus-coding] (http://ski.clps.brown.edu/hddm_docs/howto.html#code-subject-responses). Although stimulus-coding and accuracy-coding often are the same in instrumental learning it is important that the upper and lower boundaries are represented by the same alternative within a condition, because expected rewards are linked to the thresholds/boundaries.\n",
    "4. __feedback__-column. This should be the reward received for the chosen option on each trial.\n",
    "5. __q_init__. Adjusting initial q-values is something that can improve model fit quite a bit. To allow the user to set their own initial values we therefore require that the dataframe includes a column called q_init. The function will set all initial q-values according to the first value in q_init. So this is not the most elegant method of allowing users to set inital value for expected rewards, but it works for now.\n",
    "\n",
    "#### Required columns in data:\n",
    "* __rt__: in seconds, same as in HDDM\n",
    "* __response__: 0 or 1. defines chosen stimulus, not accuracy.\n",
    "* __split_by__: needs to be an integer. Split_by defines conditions (trial-types) that should have the same variables (e.g. Q values) within subject: the trials need to be split by condition to ensure proper updating of expected rewards that do not bleed over into other trial-types. (e.g. if you have stimulus A and get reward you want that updated value to impact choice only for the next stimulus A trial but not necessarily the immediate trial afterwards, which may be of a different condition) \n",
    "* __subj_idx__: same as in HDDM, but even more important here because it is used to split trials\n",
    "* __feedback__: feedback on the current trial. can be any value.\n",
    "* __q_init__: used to initialize expected rewards. can be any value, but an unbiased initial value should be somewhere between the minimum and and maximum reward values (e.g. 0.5 for tasks with rewards of 0 and 1)."
   ]
  },
  {
   "cell_type": "markdown",
   "metadata": {},
   "source": [
    "## 5. Running basic model\n",
    "To illustrate how to run the model we will use example data from the learning phase of the probabilistic selection task (PST). During the learning phase of the PST subjects choose between two  stimuli presented as Hiragana-letters (here represented as letters from the latin alphabet). There are three conditions with different probabilities of receiving reward (feedback=1) and non-reward (feedback=0). In the AB condition A is rewarded with 80% probability, B with 20%. In the CD condition C is rewarded with 70% probability and D with 30%, while in the EF condition E is rewarded with a 60% probability and F with 40%. The dataset is included in the data-folder in your installation of HDDM."
   ]
  },
  {
   "cell_type": "code",
   "execution_count": 12,
   "metadata": {},
   "outputs": [],
   "source": [
    "#import\n",
    "import pandas as pd\n",
    "import numpy as np\n",
    "import hddm\n",
    "from scipy import stats\n",
    "import seaborn as sns\n",
    "import matplotlib.pyplot as plt\n",
    "import pymc\n",
    "import kabuki\n",
    "import pickle\n",
    "sns.set(style=\"white\")\n",
    "%matplotlib inline\n",
    "from tqdm import tqdm\n",
    "import warnings\n",
    "warnings.filterwarnings(\"ignore\", category=np.VisibleDeprecationWarning)"
   ]
  },
  {
   "cell_type": "code",
   "execution_count": 2,
   "metadata": {},
   "outputs": [
    {
     "data": {
      "text/html": [
       "<div>\n",
       "<style scoped>\n",
       "    .dataframe tbody tr th:only-of-type {\n",
       "        vertical-align: middle;\n",
       "    }\n",
       "\n",
       "    .dataframe tbody tr th {\n",
       "        vertical-align: top;\n",
       "    }\n",
       "\n",
       "    .dataframe thead th {\n",
       "        text-align: right;\n",
       "    }\n",
       "</style>\n",
       "<table border=\"1\" class=\"dataframe\">\n",
       "  <thead>\n",
       "    <tr style=\"text-align: right;\">\n",
       "      <th></th>\n",
       "      <th>subj_idx</th>\n",
       "      <th>response</th>\n",
       "      <th>cond</th>\n",
       "      <th>rt</th>\n",
       "      <th>trial</th>\n",
       "      <th>split_by</th>\n",
       "      <th>feedback</th>\n",
       "      <th>q_init</th>\n",
       "    </tr>\n",
       "  </thead>\n",
       "  <tbody>\n",
       "    <tr>\n",
       "      <th>0</th>\n",
       "      <td>42</td>\n",
       "      <td>0.0</td>\n",
       "      <td>CD</td>\n",
       "      <td>1.255</td>\n",
       "      <td>1.0</td>\n",
       "      <td>1</td>\n",
       "      <td>0.0</td>\n",
       "      <td>0.5</td>\n",
       "    </tr>\n",
       "    <tr>\n",
       "      <th>1</th>\n",
       "      <td>42</td>\n",
       "      <td>1.0</td>\n",
       "      <td>EF</td>\n",
       "      <td>0.778</td>\n",
       "      <td>1.0</td>\n",
       "      <td>2</td>\n",
       "      <td>0.0</td>\n",
       "      <td>0.5</td>\n",
       "    </tr>\n",
       "    <tr>\n",
       "      <th>2</th>\n",
       "      <td>42</td>\n",
       "      <td>1.0</td>\n",
       "      <td>AB</td>\n",
       "      <td>0.647</td>\n",
       "      <td>1.0</td>\n",
       "      <td>0</td>\n",
       "      <td>1.0</td>\n",
       "      <td>0.5</td>\n",
       "    </tr>\n",
       "    <tr>\n",
       "      <th>3</th>\n",
       "      <td>42</td>\n",
       "      <td>1.0</td>\n",
       "      <td>AB</td>\n",
       "      <td>0.750</td>\n",
       "      <td>2.0</td>\n",
       "      <td>0</td>\n",
       "      <td>1.0</td>\n",
       "      <td>0.5</td>\n",
       "    </tr>\n",
       "    <tr>\n",
       "      <th>4</th>\n",
       "      <td>42</td>\n",
       "      <td>0.0</td>\n",
       "      <td>EF</td>\n",
       "      <td>0.772</td>\n",
       "      <td>2.0</td>\n",
       "      <td>2</td>\n",
       "      <td>1.0</td>\n",
       "      <td>0.5</td>\n",
       "    </tr>\n",
       "  </tbody>\n",
       "</table>\n",
       "</div>"
      ],
      "text/plain": [
       "   subj_idx  response cond     rt  trial  split_by  feedback  q_init\n",
       "0        42       0.0   CD  1.255    1.0         1       0.0     0.5\n",
       "1        42       1.0   EF  0.778    1.0         2       0.0     0.5\n",
       "2        42       1.0   AB  0.647    1.0         0       1.0     0.5\n",
       "3        42       1.0   AB  0.750    2.0         0       1.0     0.5\n",
       "4        42       0.0   EF  0.772    2.0         2       1.0     0.5"
      ]
     },
     "execution_count": 2,
     "metadata": {},
     "output_type": "execute_result"
    }
   ],
   "source": [
    "#load data. you will find this dataset in your hddm-folder under hddm/examples/rlddm_data.csv\n",
    "data = hddm.load_csv('rlddm_data.csv')\n",
    "#check structure\n",
    "data.head()"
   ]
  },
  {
   "cell_type": "markdown",
   "metadata": {},
   "source": [
    "The columns in the datafile represent: __subj_idx__ (subject id), __response__ (1=best option), __cond__ (identifies condition, but not used in model), __rt__ (in seconds), 0=worst option), __trial__ (the trial-iteration for a subject within each condition), __split_by__ (identifying condition, used for running the model), __feedback__ (whether the response given was rewarded or not), __q_init__ (the initial q-value used for the model, explained above)."
   ]
  },
  {
   "cell_type": "code",
   "execution_count": 3,
   "metadata": {},
   "outputs": [
    {
     "name": "stdout",
     "output_type": "stream",
     "text": [
      "WienerRL\n",
      "{}\n",
      "()\n",
      "No model attribute --> setting up standard HDDM\n",
      "Includes supplied:  ()\n",
      "printing self.nn\n",
      "False\n",
      "Set model to ddm\n",
      " [-----------------100%-----------------] 1501 of 1500 complete in 1741.6 sec                    mean       std       2.5q        25q        50q        75q      97.5q    mc err\n",
      "a               0.847009  0.039241   0.774129   0.819918   0.845788   0.871909   0.934179  0.001576\n",
      "a_std           0.198713  0.031803    0.14797   0.176164   0.194353   0.218246   0.274781  0.001338\n",
      "a_subj.3        0.997559  0.054989   0.894954   0.959259   0.995162   1.031614   1.114794  0.002595\n",
      "a_subj.4        0.948961  0.032146   0.887687   0.926653    0.94718   0.970691   1.019406  0.001273\n",
      "a_subj.5        0.685983  0.042352   0.608949   0.656607   0.681183   0.712389    0.78252  0.001877\n",
      "a_subj.6        1.174182  0.051257   1.076507   1.138601   1.172927   1.206912   1.275957  0.002194\n",
      "a_subj.8        1.121546  0.062885   1.006693    1.07724   1.119269   1.163487   1.258072  0.002613\n",
      "a_subj.12        0.85555  0.032152   0.797186   0.833366   0.853134   0.876135   0.922814  0.001352\n",
      "a_subj.17       0.613721  0.031533   0.556807   0.591217    0.61318   0.635102   0.677968  0.001313\n",
      "a_subj.18       0.786518  0.038737   0.712186   0.759691   0.783192   0.811341   0.869231  0.001689\n",
      "a_subj.19        0.78714  0.028799   0.733521   0.767495   0.785487   0.806793   0.845756  0.001217\n",
      "a_subj.20       0.743494  0.031048   0.686096   0.721577   0.742479   0.763623   0.811305  0.001374\n",
      "a_subj.22        0.60253   0.02027   0.566861   0.588502   0.601532   0.615137    0.64345     0.001\n",
      "a_subj.23       0.922344  0.044785   0.838984   0.891876   0.919118   0.950102   1.014408  0.002055\n",
      "a_subj.24       0.679343  0.038618   0.609528   0.651546   0.678027   0.704959    0.76152  0.001706\n",
      "a_subj.26       1.190831  0.057856   1.085539   1.150749   1.190953   1.226686   1.308629  0.002487\n",
      "a_subj.33       0.809114   0.05087   0.714305   0.773855    0.80732   0.844625   0.915111  0.001978\n",
      "a_subj.34       0.884047  0.050215   0.789729   0.851135   0.883034   0.916926   0.985262  0.001871\n",
      "a_subj.35        0.92001  0.053534   0.829736   0.881047   0.917481   0.954441    1.03032  0.002407\n",
      "a_subj.36       0.729608  0.084394   0.580598   0.649636   0.749836   0.794741    0.86664  0.007391\n",
      "a_subj.39       0.854738  0.043798   0.773402    0.82441   0.851659   0.884996   0.943719  0.001955\n",
      "a_subj.42       0.796128  0.033747   0.728095   0.773549   0.796226   0.819718   0.863325  0.001565\n",
      "a_subj.50       0.740508  0.026002   0.692319   0.723129   0.740094   0.755111   0.795052  0.001034\n",
      "a_subj.52       1.077533  0.047624   0.988054   1.043359   1.075282   1.108267   1.180413  0.001857\n",
      "a_subj.56        0.83807  0.033201   0.776449   0.815588   0.836359   0.859925   0.906659  0.001395\n",
      "a_subj.59       0.621499  0.025957   0.569671      0.605   0.621066    0.63771   0.672626  0.001069\n",
      "a_subj.63       0.877318  0.049857   0.786431   0.843585   0.875714   0.908369   0.984713  0.002269\n",
      "a_subj.71        0.66791  0.024008   0.625505   0.650952   0.666778    0.68346   0.719013  0.001144\n",
      "a_subj.75       0.507399  0.022419   0.466394   0.490257   0.506954   0.521981   0.553716  0.000909\n",
      "a_subj.80       1.154579  0.050731   1.055909   1.120294   1.154389   1.188928   1.256662   0.00167\n",
      "v               9.429199   1.80485   5.988359   8.234896   9.342105  10.598629  13.306168  0.100175\n",
      "v_std           8.542531  1.209619   6.494616    7.68341   8.447433   9.311015  11.105457   0.07747\n",
      "v_subj.3        8.828476  4.821711   2.553627   4.984375   7.973696  11.666867  20.396498  0.354394\n",
      "v_subj.4        6.176528  3.766983   1.485216   3.417018   5.318912   7.967116  16.425184  0.265112\n",
      "v_subj.5        9.776728   4.89886   2.875921   6.229128   8.970295  12.270204  21.642281  0.250412\n",
      "v_subj.6         6.36541  3.534095   2.376107   3.972817   5.512351   7.851603  16.195529  0.287696\n",
      "v_subj.8        4.204946  5.930979  -7.920299   1.104588   3.980785   7.342648  17.499493  0.177957\n",
      "v_subj.12       4.757085  2.496182   2.449008    3.35624   4.129667   5.216893  12.271472  0.222435\n",
      "v_subj.17      17.607715  5.497774   8.558677  13.683883  17.189805  20.822808  29.007418  0.302678\n",
      "v_subj.18       9.528634  4.574379   3.434335   6.242322    8.49486  11.856894  21.095514  0.301017\n",
      "v_subj.19       8.501228  3.159193   3.253642   6.672155   8.398096  10.323315  14.835526   0.12989\n",
      "v_subj.20       9.958431  4.489603   4.019338   6.832749   8.970975  11.941948  21.609247  0.314077\n",
      "v_subj.22      18.921758    4.8545  10.888517  15.527889  18.391548  21.480483  30.393098  0.332319\n",
      "v_subj.23      13.224231  5.212978    4.80606   9.306643  12.753802  16.317778  25.021819  0.274905\n",
      "v_subj.24      -6.495391  7.045828 -19.752004 -11.158239  -6.550749  -2.319858   8.950258  0.281812\n",
      "v_subj.26     -12.277186  4.801854 -23.030418 -15.031061 -11.853756  -8.932956  -4.327872  0.247082\n",
      "v_subj.33      17.783681  4.919667   9.384297  14.292145  17.370543  20.892317  28.263695  0.281082\n",
      "v_subj.34      14.219148  6.830617   2.373356   9.541137  13.679817  18.478761  28.517806  0.252921\n",
      "v_subj.35       8.221014   3.94264   3.874306   5.331453   7.051358  10.138151  19.118439  0.318979\n",
      "v_subj.36      22.241259  6.300485  11.715042  17.563909  21.936998  26.376672  35.805547  0.391001\n",
      "v_subj.39       30.49658  6.140715  19.525254  26.198601  30.074018  34.471128   43.90243  0.326934\n",
      "v_subj.42       8.183112  4.261333   2.856639   5.052407   7.220376  10.092733  18.975302  0.266447\n",
      "v_subj.50      13.701169    3.4062   9.070636  11.469747  13.037002  15.178665  21.893998  0.204873\n",
      "v_subj.52        8.09871  4.509837   2.639094    4.82012   6.867157  10.002856  19.690554  0.310086\n",
      "v_subj.56       7.378591   2.01582   4.138531   6.040831   7.077037   8.408801  12.568719  0.129121\n",
      "v_subj.59      16.584135  6.600447   5.449278  11.757753  16.109924  20.813273  31.806174  0.494118\n",
      "v_subj.63      11.128508  4.548783    4.50001   7.722563  10.174849  14.022839  22.130199  0.312658\n",
      "v_subj.71      28.502268  7.123027  16.340799  23.341453  27.692281  32.910646   43.56159  0.435413\n",
      "v_subj.75      32.476199  6.444923  20.609312  27.950946  32.433374  36.702956   46.13435  0.323647\n",
      "v_subj.80       5.896829  4.228281    0.52439   2.935605   4.984276      7.847  16.520867   0.22248\n",
      "t                0.43219  0.047379   0.353456   0.396835   0.428449   0.463446   0.534457  0.002346\n",
      "t_std           0.244222  0.049237   0.170577   0.209532   0.237758   0.269765   0.353791   0.00266\n",
      "t_subj.3        1.048743  0.038438   0.967936   1.023781   1.053026   1.076657   1.111973  0.001874\n",
      "t_subj.4        0.509352  0.021693   0.461709    0.49551   0.511287   0.524545   0.549391  0.000747\n",
      "t_subj.5        0.618038   0.02137   0.568262   0.605301   0.620946   0.633961   0.651947  0.001059\n",
      "t_subj.6        0.418556  0.035079   0.344404   0.395619   0.422242   0.442891   0.479958  0.001547\n",
      "t_subj.8        0.690703  0.050755   0.577853   0.660993   0.699447   0.725936   0.769818  0.002252\n",
      "t_subj.12       0.421915  0.015224   0.390297   0.410979   0.423004   0.432796   0.449825  0.000639\n",
      "t_subj.17       0.518678  0.012925   0.491838   0.510278   0.519462   0.527756    0.54289  0.000591\n",
      "t_subj.18       0.454312  0.021507   0.410641   0.440434   0.456164   0.470475   0.491528  0.000975\n",
      "t_subj.19       0.419028  0.016068   0.386014   0.408883   0.420186   0.429663   0.449959  0.000656\n",
      "t_subj.20        0.49628  0.015635   0.464084   0.486368   0.496562    0.50671    0.52515  0.000635\n",
      "t_subj.22       0.320324   0.00813   0.302278   0.315533   0.320676   0.325945   0.334987  0.000401\n",
      "t_subj.23       0.492762  0.028484   0.436319   0.472757   0.494672   0.514373   0.542437   0.00122\n",
      "t_subj.24       0.463296  0.018679    0.42235   0.451912   0.465397   0.476438   0.495499  0.000849\n",
      "t_subj.26       0.367141   0.03583   0.288163   0.344892   0.369891    0.39244   0.428668  0.001568\n",
      "t_subj.33       0.205118  0.021555   0.159028    0.19227   0.206942   0.220182   0.241106  0.000935\n",
      "t_subj.34       0.375427  0.029915   0.312133   0.357552   0.377511   0.396706   0.428337  0.001187\n",
      "t_subj.35       0.349377  0.025332   0.293805    0.33338   0.351744    0.36723   0.391146  0.001093\n",
      "t_subj.36        0.35403  0.081872   0.258994   0.288523    0.30903    0.45482   0.479716   0.00781\n",
      "t_subj.39        0.60555  0.014636   0.575313   0.596143   0.606141   0.616152   0.631634  0.000635\n",
      "t_subj.42       0.415449  0.017176   0.380403   0.404605   0.416516    0.42758   0.445275  0.000834\n",
      "t_subj.50       0.506844  0.011443    0.48212   0.499841   0.507589   0.514886   0.527184  0.000472\n",
      "t_subj.52       0.505818  0.032413   0.435996   0.486781   0.506455   0.526961   0.567567  0.001289\n",
      "t_subj.56       0.088807  0.016923   0.052177   0.077855   0.090637   0.100989   0.118172  0.000675\n",
      "t_subj.59       0.305609  0.011769      0.283   0.298012   0.305465   0.312202   0.330387  0.000471\n",
      "t_subj.63       0.485774  0.026362   0.425991    0.46983   0.487155   0.503814   0.533505  0.001195\n",
      "t_subj.71       0.159126  0.009459   0.139793   0.153236   0.159275   0.165528   0.175775  0.000437\n",
      "t_subj.75        0.24005  0.007647   0.223709   0.235301   0.240707   0.245445   0.253557  0.000314\n",
      "t_subj.80       0.043761  0.020205    0.00963   0.028899   0.041246   0.057661   0.088729  0.000734\n",
      "alpha          -3.197087  0.237806  -3.643862  -3.357274  -3.209753   -3.02492  -2.704297  0.018315\n",
      "alpha_std       0.703811  0.177927   0.420618   0.564307   0.687813   0.821557   1.090521  0.013234\n",
      "alpha_subj.3   -3.381045   0.72417  -4.621485  -3.881976  -3.480627  -2.968118  -1.677599  0.055836\n",
      "alpha_subj.4   -3.624117  0.666968  -4.877007  -4.101844  -3.626382  -3.188607   -2.32158  0.046263\n",
      "alpha_subj.5    -3.21747  0.656254  -4.372598  -3.659347  -3.243244  -2.819892  -1.765852  0.035346\n",
      "alpha_subj.6   -3.074627  0.764528  -4.505856  -3.604478  -3.087036  -2.550731   -1.54168  0.061893\n",
      "alpha_subj.8   -3.110094  0.920845  -4.756057  -3.788211  -3.171487  -2.445312  -1.214263  0.048704\n",
      "alpha_subj.12  -2.896429  0.724721   -4.59163   -3.31323  -2.846326  -2.420122  -1.608459  0.060329\n",
      "alpha_subj.17  -3.312561  0.404636  -4.026032   -3.60846  -3.318373   -3.04233  -2.480312  0.022663\n",
      "alpha_subj.18  -3.676484  0.535289  -4.716952  -4.043182  -3.650313  -3.295035  -2.616003  0.035802\n",
      "alpha_subj.19  -2.379138    0.4502  -3.489334  -2.607527  -2.312968  -2.089369  -1.693788  0.021411\n",
      "alpha_subj.20  -3.297776  0.568875  -4.431364  -3.647543   -3.29423  -2.923337  -2.199635  0.039168\n",
      "alpha_subj.22   -3.80255  0.308981   -4.39794   -4.01539  -3.809615  -3.596323  -3.218201  0.021196\n",
      "alpha_subj.23  -2.938045  0.508733  -3.960569  -3.268499  -2.924268  -2.606538  -1.926539  0.024827\n",
      "alpha_subj.24  -3.233124    0.6065     -4.646  -3.556274  -3.174751   -2.84671  -2.141557  0.029127\n",
      "alpha_subj.26  -3.487384  0.354853  -4.167781  -3.722271   -3.49493  -3.255863  -2.751503  0.017478\n",
      "alpha_subj.33  -3.229459  0.406951  -4.006312  -3.513159  -3.211513  -2.953193   -2.46597  0.022688\n",
      "alpha_subj.34  -3.082509  0.594718  -4.250912  -3.466023  -3.069767  -2.703965  -1.931662  0.022871\n",
      "alpha_subj.35  -2.627961  0.786244  -4.029201  -3.224112   -2.65851  -2.045341   -1.19683  0.064034\n",
      "alpha_subj.36  -2.931433  0.397274  -3.662662  -3.208513  -2.921502  -2.652183  -2.163141  0.024504\n",
      "alpha_subj.39   -3.33136  0.217727  -3.747935  -3.489934  -3.320313  -3.189613  -2.887987   0.01107\n",
      "alpha_subj.42  -2.933378  0.786385    -4.2308  -3.487151  -3.038594   -2.44303  -1.133382  0.051809\n",
      "alpha_subj.50  -3.137762  0.413164  -4.009336  -3.399154  -3.101985  -2.852824  -2.416417  0.025174\n",
      "alpha_subj.52  -2.992342  0.753015  -4.312244  -3.518825  -3.031933  -2.494849  -1.362327  0.052663\n",
      "alpha_subj.56  -3.175716   0.43171  -4.119403  -3.424929  -3.147829  -2.884905  -2.400859  0.028608\n",
      "alpha_subj.59  -2.519148  0.538512  -3.417423  -2.889026  -2.579451   -2.21963  -1.176301  0.042357\n",
      "alpha_subj.63  -2.937594  0.622931  -4.008283  -3.377142  -3.014175  -2.512105  -1.539711  0.043465\n",
      "alpha_subj.71   -4.40187  0.259413  -4.893192  -4.576714   -4.39501  -4.224399   -3.90071   0.01572\n",
      "alpha_subj.75  -3.519956   0.25705   -4.06219  -3.682002  -3.511179  -3.337011  -3.047772  0.009907\n",
      "alpha_subj.80  -3.512878  0.681766  -4.913017   -3.95087  -3.516916  -3.070199  -2.228293  0.037805\n",
      "DIC: 65289.117246\n",
      "deviance: 65217.291045\n",
      "pD: 71.826201\n"
     ]
    }
   ],
   "source": [
    "#run the model by calling hddm.HDDMrl (instead of hddm.HDDM for normal HDDM)\n",
    "m = hddm.HDDMrl(data)\n",
    "#set sample and burn-in\n",
    "m.sample(1500,burn=500,dbname='nonLAN_traces.db',db='pickle')\n",
    "#print stats to get an overview of posterior distribution of estimated parameters\n",
    "m.print_stats()"
   ]
  },
  {
   "cell_type": "code",
   "execution_count": 13,
   "metadata": {},
   "outputs": [],
   "source": [
    "data = m.get_traces()"
   ]
  },
  {
   "cell_type": "code",
   "execution_count": 14,
   "metadata": {},
   "outputs": [],
   "source": [
    "with open('./nonLAN_trace.db', 'wb') as handle:\n",
    "    pickle.dump(data, handle, protocol=pickle.HIGHEST_PROTOCOL)"
   ]
  },
  {
   "cell_type": "markdown",
   "metadata": {},
   "source": [
    "__Interpreting output from print_stats:__  <br>\n",
    "The model estimates group mean and standard deviation parameters and subject parameters for the following latent variables: <br>\n",
    "a = decision threshold <br>\n",
    "v = scaling parameter <br>\n",
    "t = non-decision time <br>\n",
    "alpha = learning rate, note that it's not bound between 0 and 1. to transform take inverse logit: np.exp(alpha)/(1+np.exp(alpha)) <br>\n",
    "The columns represent the mean, standard deviation and quantiles of the approximated posterior distribution of each parameter"
   ]
  },
  {
   "cell_type": "markdown",
   "metadata": {},
   "source": [
    "### HDDMrl vs. HDDM\n",
    "__There are a few things to note that is different from the normal HDDM model.__ <br>\n",
    "First of all, the estimated learning rate does not necessarily fall between 0 and 1. This is because it is estimated as a normal distribution for purposes of sampling hierarchically and then transformed by an inverse logit function to 0<alpha<1. So to interpret alpha as learning rate you have to transform the samples in the trace back with np.exp(alpha)/(1+np.exp(alpha)). And if you estimate separate learning rates for positive and negative prediction errors ([see here](#9.-Separate-learning-rates-for-positive-and-negative-prediction-errors)) then you get learning rate for negative prediction errors with np.exp(alpha)/(1+np.exp(alpha)) and positive prediction errors with np.exp(pos_alpha)/(1+np.exp(pos_alpha)).<br>\n",
    "Second, the v-parameter in the output is the scaling factor that is multiplied by the difference in q-values, so it is not the actual drift rate (or rather, it is the equivalent drift rate when the difference in Q values is exactly 1)."
   ]
  },
  {
   "cell_type": "markdown",
   "metadata": {},
   "source": [
    "## 6. Checking results"
   ]
  },
  {
   "cell_type": "code",
   "execution_count": 4,
   "metadata": {},
   "outputs": [
    {
     "name": "stdout",
     "output_type": "stream",
     "text": [
      "Plotting a\n",
      "Plotting a_std\n",
      "Plotting v\n",
      "Plotting v_std\n",
      "Plotting t\n",
      "Plotting t_std\n",
      "Plotting alpha\n",
      "Plotting alpha_std\n"
     ]
    },
    {
     "data": {
      "image/png": "[encoded data removed]",
      "text/plain": [
       "<Figure size 720x432 with 3 Axes>"
      ]
     },
     "metadata": {
      "needs_background": "light"
     },
     "output_type": "display_data"
    },
    {
     "data": {
      "image/png": "[encoded data removed]",
      "text/plain": [
       "<Figure size 720x432 with 3 Axes>"
      ]
     },
     "metadata": {
      "needs_background": "light"
     },
     "output_type": "display_data"
    },
    {
     "data": {
      "image/png": "[encoded data removed]",
      "text/plain": [
       "<Figure size 720x432 with 3 Axes>"
      ]
     },
     "metadata": {
      "needs_background": "light"
     },
     "output_type": "display_data"
    },
    {
     "data": {
      "image/png": "[encoded data removed]",
      "text/plain": [
       "<Figure size 720x432 with 3 Axes>"
      ]
     },
     "metadata": {
      "needs_background": "light"
     },
     "output_type": "display_data"
    },
    {
     "data": {
      "image/png": "[encoded data removed]",
      "text/plain": [
       "<Figure size 720x432 with 3 Axes>"
      ]
     },
     "metadata": {
      "needs_background": "light"
     },
     "output_type": "display_data"
    },
    {
     "data": {
      "image/png": "[encoded data removed]",
      "text/plain": [
       "<Figure size 720x432 with 3 Axes>"
      ]
     },
     "metadata": {
      "needs_background": "light"
     },
     "output_type": "display_data"
    },
    {
     "data": {
      "image/png": "[encoded data removed]",
      "text/plain": [
       "<Figure size 720x432 with 3 Axes>"
      ]
     },
     "metadata": {
      "needs_background": "light"
     },
     "output_type": "display_data"
    },
    {
     "data": {
      "image/png": "[encoded data removed]",
      "text/plain": [
       "<Figure size 720x432 with 3 Axes>"
      ]
     },
     "metadata": {
      "needs_background": "light"
     },
     "output_type": "display_data"
    }
   ],
   "source": [
    "# plot the posteriors of parameters \n",
    "m.plot_posteriors()"
   ]
  },
  {
   "cell_type": "markdown",
   "metadata": {},
   "source": [
    "__Fig__. The mixing of the posterior distribution and autocorrelation looks ok."
   ]
  },
  {
   "cell_type": "markdown",
   "metadata": {},
   "source": [
    "### Convergence of chains\n",
    "The Gelman-Rubin statistic is a test of whether the chains in the model converges. The Gelman-Ruben statistic measures the degree of variation between and within chains. Values close to 1 indicate convergence and that there is small variation between chains, i.e. that they end up as the same distribution across chains. A common heuristic is to assume convergence if all values are below 1.1. To run this you need to run multiple models, combine them and perform the Gelman-Rubin statistic:"
   ]
  },
  {
   "cell_type": "code",
   "execution_count": null,
   "metadata": {},
   "outputs": [],
   "source": [
    "# estimate convergence\n",
    "from kabuki.analyze import gelman_rubin\n",
    "\n",
    "models = []\n",
    "for i in range(3):\n",
    "    m = hddm.HDDMrl(data=data)\n",
    "    m.sample(1500, burn=500,dbname='traces.db',db='pickle')\n",
    "    models.append(m)\n",
    "\n",
    "gelman_rubin(models)"
   ]
  },
  {
   "cell_type": "code",
   "execution_count": null,
   "metadata": {},
   "outputs": [],
   "source": [
    "np.max(list(gelman_rubin(models).values()))"
   ]
  },
  {
   "cell_type": "markdown",
   "metadata": {},
   "source": [
    "The model seems to have converged, i.e. the Gelman-Rubin statistic is below 1.1 for all parameters. It is important to always run this test, especially for more complex models ([as with separate learning rates for positive and negative prediction errors](#9.-Separate-learning-rates-for-positive-and-negative-prediction-errors)). So now we can combine these three models to get a better approximation of the posterior distribution."
   ]
  },
  {
   "cell_type": "code",
   "execution_count": null,
   "metadata": {},
   "outputs": [],
   "source": [
    "# Combine the models we ran to test for convergence.\n",
    "m = kabuki.utils.concat_models(models)"
   ]
  },
  {
   "cell_type": "markdown",
   "metadata": {},
   "source": [
    "### Joint posterior distribution\n",
    "Another test of the model is to look at collinearity. If the estimation of parameters is very codependent (correlation is strong) it can indicate that their variance trades off, in particular if there is a negative correlation. The following plot shows there is generally low correlation across all combinations of parameters. It does not seem to be the case for this dataset, but common for RLDDM is a negative correlation between learning rate and the scaling factor, similar to what's usually observed between learning rate and inverse temperature for RL models that uses softmax as the choice rule (e.g. [Daw, 2011](https://www.oxfordscholarship.com/view/10.1093/acprof:oso/9780199600434.001.0001/acprof-9780199600434-chapter-001))."
   ]
  },
  {
   "cell_type": "code",
   "execution_count": null,
   "metadata": {},
   "outputs": [],
   "source": [
    "alpha, t, a, v = m.nodes_db.node[['alpha', 't', 'a','v']]\n",
    "samples = {'alpha':alpha.trace(),'t':t.trace(),'a':a.trace(),'v':v.trace()}\n",
    "samp = pd.DataFrame(data=samples)\n",
    "\n",
    "def corrfunc(x, y, **kws):\n",
    "    r, _ = stats.pearsonr(x, y)\n",
    "    ax = plt.gca()\n",
    "    ax.annotate(\"r = {:.2f}\".format(r),\n",
    "                xy=(.1, .9), xycoords=ax.transAxes)\n",
    "\n",
    "g = sns.PairGrid(samp, palette=[\"red\"])\n",
    "g.map_upper(plt.scatter, s=10)\n",
    "g.map_diag(sns.distplot, kde=False)\n",
    "g.map_lower(sns.kdeplot, cmap=\"Blues_d\")\n",
    "g.map_lower(corrfunc)\n",
    "g.savefig('matrix_plot.png')"
   ]
  },
  {
   "cell_type": "markdown",
   "metadata": {},
   "source": [
    "## 7. Posterior predictive checks"
   ]
  },
  {
   "cell_type": "markdown",
   "metadata": {},
   "source": [
    "An important test of the model is its ability to recreate the observed data. This can be tested with posterior predictive checks, which involves simulating data using estimated parameters and comparing observed and simulated results."
   ]
  },
  {
   "cell_type": "markdown",
   "metadata": {},
   "source": [
    "### extract traces\n",
    "The first step then is to extract the traces from the estimated model. The function get_traces() gives you the samples (row) from the approaximated posterior distribution for all of the estimated group and subject parameters (column)."
   ]
  },
  {
   "cell_type": "code",
   "execution_count": 5,
   "metadata": {},
   "outputs": [
    {
     "data": {
      "text/html": [
       "<div>\n",
       "<style scoped>\n",
       "    .dataframe tbody tr th:only-of-type {\n",
       "        vertical-align: middle;\n",
       "    }\n",
       "\n",
       "    .dataframe tbody tr th {\n",
       "        vertical-align: top;\n",
       "    }\n",
       "\n",
       "    .dataframe thead th {\n",
       "        text-align: right;\n",
       "    }\n",
       "</style>\n",
       "<table border=\"1\" class=\"dataframe\">\n",
       "  <thead>\n",
       "    <tr style=\"text-align: right;\">\n",
       "      <th></th>\n",
       "      <th>a</th>\n",
       "      <th>a_std</th>\n",
       "      <th>a_subj.3</th>\n",
       "      <th>a_subj.4</th>\n",
       "      <th>a_subj.5</th>\n",
       "      <th>a_subj.6</th>\n",
       "      <th>a_subj.8</th>\n",
       "      <th>a_subj.12</th>\n",
       "      <th>a_subj.17</th>\n",
       "      <th>a_subj.18</th>\n",
       "      <th>...</th>\n",
       "      <th>alpha_subj.39</th>\n",
       "      <th>alpha_subj.42</th>\n",
       "      <th>alpha_subj.50</th>\n",
       "      <th>alpha_subj.52</th>\n",
       "      <th>alpha_subj.56</th>\n",
       "      <th>alpha_subj.59</th>\n",
       "      <th>alpha_subj.63</th>\n",
       "      <th>alpha_subj.71</th>\n",
       "      <th>alpha_subj.75</th>\n",
       "      <th>alpha_subj.80</th>\n",
       "    </tr>\n",
       "  </thead>\n",
       "  <tbody>\n",
       "    <tr>\n",
       "      <th>0</th>\n",
       "      <td>0.813311</td>\n",
       "      <td>0.178913</td>\n",
       "      <td>0.934258</td>\n",
       "      <td>0.959387</td>\n",
       "      <td>0.679760</td>\n",
       "      <td>1.176239</td>\n",
       "      <td>1.132687</td>\n",
       "      <td>0.825991</td>\n",
       "      <td>0.603415</td>\n",
       "      <td>0.766346</td>\n",
       "      <td>...</td>\n",
       "      <td>-3.305780</td>\n",
       "      <td>-3.004185</td>\n",
       "      <td>-4.017371</td>\n",
       "      <td>-2.889354</td>\n",
       "      <td>-3.308785</td>\n",
       "      <td>-2.242123</td>\n",
       "      <td>-3.014450</td>\n",
       "      <td>-3.791071</td>\n",
       "      <td>-3.602290</td>\n",
       "      <td>-3.201022</td>\n",
       "    </tr>\n",
       "    <tr>\n",
       "      <th>1</th>\n",
       "      <td>0.843643</td>\n",
       "      <td>0.212796</td>\n",
       "      <td>1.045148</td>\n",
       "      <td>0.915211</td>\n",
       "      <td>0.655879</td>\n",
       "      <td>1.180342</td>\n",
       "      <td>1.028494</td>\n",
       "      <td>0.879401</td>\n",
       "      <td>0.621926</td>\n",
       "      <td>0.774625</td>\n",
       "      <td>...</td>\n",
       "      <td>-3.186285</td>\n",
       "      <td>-1.867735</td>\n",
       "      <td>-4.009336</td>\n",
       "      <td>-2.848448</td>\n",
       "      <td>-2.482813</td>\n",
       "      <td>-2.558808</td>\n",
       "      <td>-3.381238</td>\n",
       "      <td>-3.856303</td>\n",
       "      <td>-3.569517</td>\n",
       "      <td>-2.724624</td>\n",
       "    </tr>\n",
       "    <tr>\n",
       "      <th>2</th>\n",
       "      <td>0.880488</td>\n",
       "      <td>0.228343</td>\n",
       "      <td>1.074134</td>\n",
       "      <td>0.906511</td>\n",
       "      <td>0.669077</td>\n",
       "      <td>1.190500</td>\n",
       "      <td>1.276360</td>\n",
       "      <td>0.866439</td>\n",
       "      <td>0.541109</td>\n",
       "      <td>0.775047</td>\n",
       "      <td>...</td>\n",
       "      <td>-3.424144</td>\n",
       "      <td>-3.227228</td>\n",
       "      <td>-3.021900</td>\n",
       "      <td>-3.145625</td>\n",
       "      <td>-2.864936</td>\n",
       "      <td>-2.495749</td>\n",
       "      <td>-3.366757</td>\n",
       "      <td>-4.513237</td>\n",
       "      <td>-3.707051</td>\n",
       "      <td>-2.713500</td>\n",
       "    </tr>\n",
       "    <tr>\n",
       "      <th>3</th>\n",
       "      <td>0.839319</td>\n",
       "      <td>0.240318</td>\n",
       "      <td>1.051179</td>\n",
       "      <td>0.937529</td>\n",
       "      <td>0.635832</td>\n",
       "      <td>1.139089</td>\n",
       "      <td>1.187452</td>\n",
       "      <td>0.864651</td>\n",
       "      <td>0.623669</td>\n",
       "      <td>0.750991</td>\n",
       "      <td>...</td>\n",
       "      <td>-3.459795</td>\n",
       "      <td>-3.144636</td>\n",
       "      <td>-2.827093</td>\n",
       "      <td>-3.251288</td>\n",
       "      <td>-2.595435</td>\n",
       "      <td>-2.825135</td>\n",
       "      <td>-3.326518</td>\n",
       "      <td>-3.878138</td>\n",
       "      <td>-3.703565</td>\n",
       "      <td>-2.962435</td>\n",
       "    </tr>\n",
       "    <tr>\n",
       "      <th>4</th>\n",
       "      <td>0.865686</td>\n",
       "      <td>0.229990</td>\n",
       "      <td>1.015259</td>\n",
       "      <td>0.920368</td>\n",
       "      <td>0.763272</td>\n",
       "      <td>1.201685</td>\n",
       "      <td>1.172060</td>\n",
       "      <td>0.895826</td>\n",
       "      <td>0.642562</td>\n",
       "      <td>0.765643</td>\n",
       "      <td>...</td>\n",
       "      <td>-3.352468</td>\n",
       "      <td>-3.510251</td>\n",
       "      <td>-3.001490</td>\n",
       "      <td>-3.704273</td>\n",
       "      <td>-2.666760</td>\n",
       "      <td>-2.818609</td>\n",
       "      <td>-2.979018</td>\n",
       "      <td>-3.291892</td>\n",
       "      <td>-3.208646</td>\n",
       "      <td>-3.349732</td>\n",
       "    </tr>\n",
       "  </tbody>\n",
       "</table>\n",
       "<p>5 rows × 120 columns</p>\n",
       "</div>"
      ],
      "text/plain": [
       "          a     a_std  a_subj.3  a_subj.4  a_subj.5  a_subj.6  a_subj.8  \\\n",
       "0  0.813311  0.178913  0.934258  0.959387  0.679760  1.176239  1.132687   \n",
       "1  0.843643  0.212796  1.045148  0.915211  0.655879  1.180342  1.028494   \n",
       "2  0.880488  0.228343  1.074134  0.906511  0.669077  1.190500  1.276360   \n",
       "3  0.839319  0.240318  1.051179  0.937529  0.635832  1.139089  1.187452   \n",
       "4  0.865686  0.229990  1.015259  0.920368  0.763272  1.201685  1.172060   \n",
       "\n",
       "   a_subj.12  a_subj.17  a_subj.18  ...  alpha_subj.39  alpha_subj.42  \\\n",
       "0   0.825991   0.603415   0.766346  ...      -3.305780      -3.004185   \n",
       "1   0.879401   0.621926   0.774625  ...      -3.186285      -1.867735   \n",
       "2   0.866439   0.541109   0.775047  ...      -3.424144      -3.227228   \n",
       "3   0.864651   0.623669   0.750991  ...      -3.459795      -3.144636   \n",
       "4   0.895826   0.642562   0.765643  ...      -3.352468      -3.510251   \n",
       "\n",
       "   alpha_subj.50  alpha_subj.52  alpha_subj.56  alpha_subj.59  alpha_subj.63  \\\n",
       "0      -4.017371      -2.889354      -3.308785      -2.242123      -3.014450   \n",
       "1      -4.009336      -2.848448      -2.482813      -2.558808      -3.381238   \n",
       "2      -3.021900      -3.145625      -2.864936      -2.495749      -3.366757   \n",
       "3      -2.827093      -3.251288      -2.595435      -2.825135      -3.326518   \n",
       "4      -3.001490      -3.704273      -2.666760      -2.818609      -2.979018   \n",
       "\n",
       "   alpha_subj.71  alpha_subj.75  alpha_subj.80  \n",
       "0      -3.791071      -3.602290      -3.201022  \n",
       "1      -3.856303      -3.569517      -2.724624  \n",
       "2      -4.513237      -3.707051      -2.713500  \n",
       "3      -3.878138      -3.703565      -2.962435  \n",
       "4      -3.291892      -3.208646      -3.349732  \n",
       "\n",
       "[5 rows x 120 columns]"
      ]
     },
     "execution_count": 5,
     "metadata": {},
     "output_type": "execute_result"
    }
   ],
   "source": [
    "traces = m.get_traces()\n",
    "traces.head()"
   ]
  },
  {
   "cell_type": "markdown",
   "metadata": {},
   "source": [
    "### simulating data\n",
    "__Now that we have the traces the next step is to simulate data using the estimated parameters. The RLDDM includes a function to simulate data. Here's an example of how to use the simulation-function for RLDDM. This example explains how to generate data with binary outcomes. See [here](#11.-Probabilistic-binary-outcomes-vs.-normally-distributed-outcomes) for an example on simulating data with normally distributed outcomes. Inputs to function: <br>\n",
    "a__ = decision threshold <br>\n",
    "**t** = non-decision time <br>\n",
    "__alpha__ = learning rate <br>\n",
    "__pos_alpha__ = defaults to 0. if given it defines the learning rate for positive prediction errors. alpha then becomes the learning rate_ for negative prediction errors.  <br>\n",
    "__scaler__ = the scaling factor that is multiplied with the difference in q-values to calculate trial-by-trial drift rate <br>\n",
    "__p_upper__ = the probability of reward for the option represented by the upper boundary. The current version thus only works for outcomes that are either 1 or 0 <br>\n",
    "__p_lower__ = the probability of reward for the option represented by the lower boundary. <br>\n",
    "__subjs__ = number of subjects to simulate data for. <br>\n",
    "__split_by__ = define the condition which makes it easier to append data from different conditions. <br>\n",
    "__size__ = number of trials per subject. <br>"
   ]
  },
  {
   "cell_type": "code",
   "execution_count": 6,
   "metadata": {},
   "outputs": [
    {
     "data": {
      "text/html": [
       "<div>\n",
       "<style scoped>\n",
       "    .dataframe tbody tr th:only-of-type {\n",
       "        vertical-align: middle;\n",
       "    }\n",
       "\n",
       "    .dataframe tbody tr th {\n",
       "        vertical-align: top;\n",
       "    }\n",
       "\n",
       "    .dataframe thead th {\n",
       "        text-align: right;\n",
       "    }\n",
       "</style>\n",
       "<table border=\"1\" class=\"dataframe\">\n",
       "  <thead>\n",
       "    <tr style=\"text-align: right;\">\n",
       "      <th></th>\n",
       "      <th>q_up</th>\n",
       "      <th>q_low</th>\n",
       "      <th>sim_drift</th>\n",
       "      <th>response</th>\n",
       "      <th>rt</th>\n",
       "      <th>feedback</th>\n",
       "      <th>subj_idx</th>\n",
       "      <th>split_by</th>\n",
       "      <th>trial</th>\n",
       "    </tr>\n",
       "  </thead>\n",
       "  <tbody>\n",
       "    <tr>\n",
       "      <th>0</th>\n",
       "      <td>0.500</td>\n",
       "      <td>0.500000</td>\n",
       "      <td>0.000000</td>\n",
       "      <td>1.0</td>\n",
       "      <td>0.483</td>\n",
       "      <td>1.0</td>\n",
       "      <td>0</td>\n",
       "      <td>0</td>\n",
       "      <td>1</td>\n",
       "    </tr>\n",
       "    <tr>\n",
       "      <th>1</th>\n",
       "      <td>0.600</td>\n",
       "      <td>0.500000</td>\n",
       "      <td>0.200000</td>\n",
       "      <td>1.0</td>\n",
       "      <td>0.383</td>\n",
       "      <td>0.0</td>\n",
       "      <td>0</td>\n",
       "      <td>0</td>\n",
       "      <td>2</td>\n",
       "    </tr>\n",
       "    <tr>\n",
       "      <th>2</th>\n",
       "      <td>0.480</td>\n",
       "      <td>0.500000</td>\n",
       "      <td>-0.040000</td>\n",
       "      <td>0.0</td>\n",
       "      <td>0.746</td>\n",
       "      <td>1.0</td>\n",
       "      <td>0</td>\n",
       "      <td>0</td>\n",
       "      <td>3</td>\n",
       "    </tr>\n",
       "    <tr>\n",
       "      <th>3</th>\n",
       "      <td>0.480</td>\n",
       "      <td>0.600000</td>\n",
       "      <td>-0.240000</td>\n",
       "      <td>0.0</td>\n",
       "      <td>0.354</td>\n",
       "      <td>1.0</td>\n",
       "      <td>0</td>\n",
       "      <td>0</td>\n",
       "      <td>4</td>\n",
       "    </tr>\n",
       "    <tr>\n",
       "      <th>4</th>\n",
       "      <td>0.480</td>\n",
       "      <td>0.680000</td>\n",
       "      <td>-0.400000</td>\n",
       "      <td>0.0</td>\n",
       "      <td>0.598</td>\n",
       "      <td>0.0</td>\n",
       "      <td>0</td>\n",
       "      <td>0</td>\n",
       "      <td>5</td>\n",
       "    </tr>\n",
       "    <tr>\n",
       "      <th>5</th>\n",
       "      <td>0.480</td>\n",
       "      <td>0.544000</td>\n",
       "      <td>-0.128000</td>\n",
       "      <td>0.0</td>\n",
       "      <td>0.604</td>\n",
       "      <td>0.0</td>\n",
       "      <td>0</td>\n",
       "      <td>0</td>\n",
       "      <td>6</td>\n",
       "    </tr>\n",
       "    <tr>\n",
       "      <th>6</th>\n",
       "      <td>0.480</td>\n",
       "      <td>0.435200</td>\n",
       "      <td>0.089600</td>\n",
       "      <td>0.0</td>\n",
       "      <td>0.367</td>\n",
       "      <td>0.0</td>\n",
       "      <td>0</td>\n",
       "      <td>0</td>\n",
       "      <td>7</td>\n",
       "    </tr>\n",
       "    <tr>\n",
       "      <th>7</th>\n",
       "      <td>0.480</td>\n",
       "      <td>0.348160</td>\n",
       "      <td>0.263680</td>\n",
       "      <td>1.0</td>\n",
       "      <td>0.354</td>\n",
       "      <td>1.0</td>\n",
       "      <td>0</td>\n",
       "      <td>0</td>\n",
       "      <td>8</td>\n",
       "    </tr>\n",
       "    <tr>\n",
       "      <th>8</th>\n",
       "      <td>0.584</td>\n",
       "      <td>0.348160</td>\n",
       "      <td>0.471680</td>\n",
       "      <td>0.0</td>\n",
       "      <td>0.650</td>\n",
       "      <td>0.0</td>\n",
       "      <td>0</td>\n",
       "      <td>0</td>\n",
       "      <td>9</td>\n",
       "    </tr>\n",
       "    <tr>\n",
       "      <th>9</th>\n",
       "      <td>0.584</td>\n",
       "      <td>0.278528</td>\n",
       "      <td>0.610944</td>\n",
       "      <td>1.0</td>\n",
       "      <td>0.620</td>\n",
       "      <td>1.0</td>\n",
       "      <td>0</td>\n",
       "      <td>0</td>\n",
       "      <td>10</td>\n",
       "    </tr>\n",
       "  </tbody>\n",
       "</table>\n",
       "</div>"
      ],
      "text/plain": [
       "    q_up     q_low  sim_drift  response     rt  feedback  subj_idx  split_by  \\\n",
       "0  0.500  0.500000   0.000000       1.0  0.483       1.0         0         0   \n",
       "1  0.600  0.500000   0.200000       1.0  0.383       0.0         0         0   \n",
       "2  0.480  0.500000  -0.040000       0.0  0.746       1.0         0         0   \n",
       "3  0.480  0.600000  -0.240000       0.0  0.354       1.0         0         0   \n",
       "4  0.480  0.680000  -0.400000       0.0  0.598       0.0         0         0   \n",
       "5  0.480  0.544000  -0.128000       0.0  0.604       0.0         0         0   \n",
       "6  0.480  0.435200   0.089600       0.0  0.367       0.0         0         0   \n",
       "7  0.480  0.348160   0.263680       1.0  0.354       1.0         0         0   \n",
       "8  0.584  0.348160   0.471680       0.0  0.650       0.0         0         0   \n",
       "9  0.584  0.278528   0.610944       1.0  0.620       1.0         0         0   \n",
       "\n",
       "   trial  \n",
       "0      1  \n",
       "1      2  \n",
       "2      3  \n",
       "3      4  \n",
       "4      5  \n",
       "5      6  \n",
       "6      7  \n",
       "7      8  \n",
       "8      9  \n",
       "9     10  "
      ]
     },
     "execution_count": 6,
     "metadata": {},
     "output_type": "execute_result"
    }
   ],
   "source": [
    "hddm.generate.gen_rand_rlddm_data(a=1,t=0.3,alpha=0.2,scaler=2,p_upper=0.8,p_lower=0.2,subjs=1,split_by=0,size=10)"
   ]
  },
  {
   "cell_type": "markdown",
   "metadata": {},
   "source": [
    "__How to interpret columns in the resulting dataframe__ <br>\n",
    "__q_up__ = expected reward for option represented by upper boundary <br>\n",
    "__q_low__ = expected reward for option represented by lower boundary <br>\n",
    "__sim_drift__ = the drift rate for each trial calculated as: (q_up-q_low)*scaler <br>\n",
    "__response__ = simulated choice <br>\n",
    "__rt__ = simulated response time <br>\n",
    "__feedback__ = observed feedback for chosen option <br>\n",
    "__subj_idx__ = subject id (starts at 0) <br>\n",
    "__split_by__ = condition as integer <br>\n",
    "__trial__ = current trial (starts at 1) <br>"
   ]
  },
  {
   "cell_type": "markdown",
   "metadata": {},
   "source": [
    "### Simulate data with estimated parameter values and compare to observed data\n",
    "Now that we know how to extract traces and simulate data we can combine this to create a dataset similar to our observed data. This process is currently not automated but the following is an example code using the dataset we analyzed above."
   ]
  },
  {
   "cell_type": "code",
   "execution_count": 7,
   "metadata": {},
   "outputs": [
    {
     "name": "stderr",
     "output_type": "stream",
     "text": [
      "  8%|▊         | 4/50 [03:12<36:57, 48.20s/it]\n",
      "ERROR:root:Internal Python error in the inspect module.\n",
      "Below is the traceback from this internal error.\n",
      "\n"
     ]
    },
    {
     "name": "stdout",
     "output_type": "stream",
     "text": [
      "Traceback (most recent call last):\n",
      "  File \"/users/kbera1/anaconda3/envs/hddm_py38/lib/python3.8/site-packages/pandas/core/indexes/base.py\", line 3361, in get_loc\n",
      "    return self._engine.get_loc(casted_key)\n",
      "  File \"pandas/_libs/index.pyx\", line 76, in pandas._libs.index.IndexEngine.get_loc\n",
      "  File \"pandas/_libs/index.pyx\", line 108, in pandas._libs.index.IndexEngine.get_loc\n",
      "  File \"pandas/_libs/hashtable_class_helper.pxi\", line 5198, in pandas._libs.hashtable.PyObjectHashTable.get_item\n",
      "  File \"pandas/_libs/hashtable_class_helper.pxi\", line 5206, in pandas._libs.hashtable.PyObjectHashTable.get_item\n",
      "KeyError: 'response'\n",
      "\n",
      "The above exception was the direct cause of the following exception:\n",
      "\n",
      "Traceback (most recent call last):\n",
      "  File \"/users/kbera1/anaconda3/envs/hddm_py38/lib/python3.8/site-packages/pandas/core/frame.py\", line 3751, in _set_item_mgr\n",
      "    loc = self._info_axis.get_loc(key)\n",
      "  File \"/users/kbera1/anaconda3/envs/hddm_py38/lib/python3.8/site-packages/pandas/core/indexes/base.py\", line 3363, in get_loc\n",
      "    raise KeyError(key) from err\n",
      "KeyError: 'response'\n",
      "\n",
      "During handling of the above exception, another exception occurred:\n",
      "\n",
      "Traceback (most recent call last):\n",
      "  File \"/users/kbera1/anaconda3/envs/hddm_py38/lib/python3.8/site-packages/IPython/core/interactiveshell.py\", line 3444, in run_code\n",
      "    exec(code_obj, self.user_global_ns, self.user_ns)\n",
      "  File \"<ipython-input-7-5342625cc809>\", line 27, in <module>\n",
      "    sim_data0 = hddm.generate.gen_rand_rlddm_data(a=a,t=t,scaler=scaler,alpha=alpha,size=size0,p_upper=0.8,p_lower=0.2,split_by=0)\n",
      "  File \"/users/kbera1/anaconda3/envs/hddm_py38/lib/python3.8/site-packages/hddm/generate.py\", line 620, in gen_rand_rlddm_data\n",
      "    data, params = hddm.generate.gen_rand_data(\n",
      "  File \"/users/kbera1/anaconda3/envs/hddm_py38/lib/python3.8/site-packages/hddm/generate.py\", line 464, in gen_rand_data\n",
      "    data, subj_params = kabuki.generate.gen_rand_data(\n",
      "  File \"/users/kbera1/anaconda3/envs/hddm_py38/lib/python3.8/site-packages/kabuki/generate.py\", line 176, in gen_rand_data\n",
      "    samples_from_dist = gen_func(size=size, **params_cur)\n",
      "  File \"/users/kbera1/anaconda3/envs/hddm_py38/lib/python3.8/site-packages/hddm/generate.py\", line 220, in gen_rts\n",
      "    data[\"response\"] = 1.0\n",
      "  File \"/users/kbera1/anaconda3/envs/hddm_py38/lib/python3.8/site-packages/pandas/core/frame.py\", line 3612, in __setitem__\n",
      "    self._set_item(key, value)\n",
      "  File \"/users/kbera1/anaconda3/envs/hddm_py38/lib/python3.8/site-packages/pandas/core/frame.py\", line 3797, in _set_item\n",
      "    self._set_item_mgr(key, value)\n",
      "  File \"/users/kbera1/anaconda3/envs/hddm_py38/lib/python3.8/site-packages/pandas/core/frame.py\", line 3754, in _set_item_mgr\n",
      "    self._mgr.insert(len(self._info_axis), key, value)\n",
      "  File \"/users/kbera1/anaconda3/envs/hddm_py38/lib/python3.8/site-packages/pandas/core/internals/managers.py\", line 1155, in insert\n",
      "    new_axis = self.items.insert(loc, item)\n",
      "  File \"/users/kbera1/anaconda3/envs/hddm_py38/lib/python3.8/site-packages/pandas/core/indexes/base.py\", line 5988, in insert\n",
      "    idx = np.concatenate((arr[:loc], item, arr[loc:]))\n",
      "  File \"<__array_function__ internals>\", line 5, in concatenate\n",
      "KeyboardInterrupt\n",
      "\n",
      "During handling of the above exception, another exception occurred:\n",
      "\n",
      "Traceback (most recent call last):\n",
      "  File \"/users/kbera1/anaconda3/envs/hddm_py38/lib/python3.8/site-packages/IPython/core/interactiveshell.py\", line 2064, in showtraceback\n",
      "    stb = value._render_traceback_()\n",
      "AttributeError: 'KeyboardInterrupt' object has no attribute '_render_traceback_'\n",
      "\n",
      "During handling of the above exception, another exception occurred:\n",
      "\n",
      "Traceback (most recent call last):\n",
      "  File \"/users/kbera1/anaconda3/envs/hddm_py38/lib/python3.8/site-packages/IPython/core/ultratb.py\", line 1101, in get_records\n",
      "    return _fixed_getinnerframes(etb, number_of_lines_of_context, tb_offset)\n",
      "  File \"/users/kbera1/anaconda3/envs/hddm_py38/lib/python3.8/site-packages/IPython/core/ultratb.py\", line 248, in wrapped\n",
      "    return f(*args, **kwargs)\n",
      "  File \"/users/kbera1/anaconda3/envs/hddm_py38/lib/python3.8/site-packages/IPython/core/ultratb.py\", line 281, in _fixed_getinnerframes\n",
      "    records = fix_frame_records_filenames(inspect.getinnerframes(etb, context))\n",
      "  File \"/users/kbera1/anaconda3/envs/hddm_py38/lib/python3.8/inspect.py\", line 1515, in getinnerframes\n",
      "    frameinfo = (tb.tb_frame,) + getframeinfo(tb, context)\n",
      "  File \"/users/kbera1/anaconda3/envs/hddm_py38/lib/python3.8/inspect.py\", line 1473, in getframeinfo\n",
      "    filename = getsourcefile(frame) or getfile(frame)\n",
      "  File \"/users/kbera1/anaconda3/envs/hddm_py38/lib/python3.8/inspect.py\", line 708, in getsourcefile\n",
      "    if getattr(getmodule(object, filename), '__loader__', None) is not None:\n",
      "  File \"/users/kbera1/anaconda3/envs/hddm_py38/lib/python3.8/inspect.py\", line 751, in getmodule\n",
      "    f = getabsfile(module)\n",
      "  File \"/users/kbera1/anaconda3/envs/hddm_py38/lib/python3.8/inspect.py\", line 720, in getabsfile\n",
      "    _filename = getsourcefile(object) or getfile(object)\n",
      "  File \"/users/kbera1/anaconda3/envs/hddm_py38/lib/python3.8/inspect.py\", line 705, in getsourcefile\n",
      "    if os.path.exists(filename):\n",
      "  File \"/users/kbera1/anaconda3/envs/hddm_py38/lib/python3.8/genericpath.py\", line 19, in exists\n",
      "    os.stat(path)\n",
      "KeyboardInterrupt\n"
     ]
    },
    {
     "ename": "TypeError",
     "evalue": "object of type 'NoneType' has no len()",
     "output_type": "error",
     "traceback": [
      "\u001b[0;31m---------------------------------------------------------------------------\u001b[0m",
      "\u001b[0;31mKeyError\u001b[0m                                  Traceback (most recent call last)",
      "\u001b[0;32m~/anaconda3/envs/hddm_py38/lib/python3.8/site-packages/pandas/core/indexes/base.py\u001b[0m in \u001b[0;36mget_loc\u001b[0;34m(self, key, method, tolerance)\u001b[0m\n\u001b[1;32m   3360\u001b[0m             \u001b[0;32mtry\u001b[0m\u001b[0;34m:\u001b[0m\u001b[0;34m\u001b[0m\u001b[0;34m\u001b[0m\u001b[0m\n\u001b[0;32m-> 3361\u001b[0;31m                 \u001b[0;32mreturn\u001b[0m \u001b[0mself\u001b[0m\u001b[0;34m.\u001b[0m\u001b[0m_engine\u001b[0m\u001b[0;34m.\u001b[0m\u001b[0mget_loc\u001b[0m\u001b[0;34m(\u001b[0m\u001b[0mcasted_key\u001b[0m\u001b[0;34m)\u001b[0m\u001b[0;34m\u001b[0m\u001b[0;34m\u001b[0m\u001b[0m\n\u001b[0m\u001b[1;32m   3362\u001b[0m             \u001b[0;32mexcept\u001b[0m \u001b[0mKeyError\u001b[0m \u001b[0;32mas\u001b[0m \u001b[0merr\u001b[0m\u001b[0;34m:\u001b[0m\u001b[0;34m\u001b[0m\u001b[0;34m\u001b[0m\u001b[0m\n",
      "\u001b[0;32m~/anaconda3/envs/hddm_py38/lib/python3.8/site-packages/pandas/_libs/index.pyx\u001b[0m in \u001b[0;36mpandas._libs.index.IndexEngine.get_loc\u001b[0;34m()\u001b[0m\n",
      "\u001b[0;32m~/anaconda3/envs/hddm_py38/lib/python3.8/site-packages/pandas/_libs/index.pyx\u001b[0m in \u001b[0;36mpandas._libs.index.IndexEngine.get_loc\u001b[0;34m()\u001b[0m\n",
      "\u001b[0;32mpandas/_libs/hashtable_class_helper.pxi\u001b[0m in \u001b[0;36mpandas._libs.hashtable.PyObjectHashTable.get_item\u001b[0;34m()\u001b[0m\n",
      "\u001b[0;32mpandas/_libs/hashtable_class_helper.pxi\u001b[0m in \u001b[0;36mpandas._libs.hashtable.PyObjectHashTable.get_item\u001b[0;34m()\u001b[0m\n",
      "\u001b[0;31mKeyError\u001b[0m: 'response'",
      "\nThe above exception was the direct cause of the following exception:\n",
      "\u001b[0;31mKeyError\u001b[0m                                  Traceback (most recent call last)",
      "\u001b[0;32m~/anaconda3/envs/hddm_py38/lib/python3.8/site-packages/pandas/core/frame.py\u001b[0m in \u001b[0;36m_set_item_mgr\u001b[0;34m(self, key, value)\u001b[0m\n\u001b[1;32m   3750\u001b[0m         \u001b[0;32mtry\u001b[0m\u001b[0;34m:\u001b[0m\u001b[0;34m\u001b[0m\u001b[0;34m\u001b[0m\u001b[0m\n\u001b[0;32m-> 3751\u001b[0;31m             \u001b[0mloc\u001b[0m \u001b[0;34m=\u001b[0m \u001b[0mself\u001b[0m\u001b[0;34m.\u001b[0m\u001b[0m_info_axis\u001b[0m\u001b[0;34m.\u001b[0m\u001b[0mget_loc\u001b[0m\u001b[0;34m(\u001b[0m\u001b[0mkey\u001b[0m\u001b[0;34m)\u001b[0m\u001b[0;34m\u001b[0m\u001b[0;34m\u001b[0m\u001b[0m\n\u001b[0m\u001b[1;32m   3752\u001b[0m         \u001b[0;32mexcept\u001b[0m \u001b[0mKeyError\u001b[0m\u001b[0;34m:\u001b[0m\u001b[0;34m\u001b[0m\u001b[0;34m\u001b[0m\u001b[0m\n",
      "\u001b[0;32m~/anaconda3/envs/hddm_py38/lib/python3.8/site-packages/pandas/core/indexes/base.py\u001b[0m in \u001b[0;36mget_loc\u001b[0;34m(self, key, method, tolerance)\u001b[0m\n\u001b[1;32m   3362\u001b[0m             \u001b[0;32mexcept\u001b[0m \u001b[0mKeyError\u001b[0m \u001b[0;32mas\u001b[0m \u001b[0merr\u001b[0m\u001b[0;34m:\u001b[0m\u001b[0;34m\u001b[0m\u001b[0;34m\u001b[0m\u001b[0m\n\u001b[0;32m-> 3363\u001b[0;31m                 \u001b[0;32mraise\u001b[0m \u001b[0mKeyError\u001b[0m\u001b[0;34m(\u001b[0m\u001b[0mkey\u001b[0m\u001b[0;34m)\u001b[0m \u001b[0;32mfrom\u001b[0m \u001b[0merr\u001b[0m\u001b[0;34m\u001b[0m\u001b[0;34m\u001b[0m\u001b[0m\n\u001b[0m\u001b[1;32m   3364\u001b[0m \u001b[0;34m\u001b[0m\u001b[0m\n",
      "\u001b[0;31mKeyError\u001b[0m: 'response'",
      "\nDuring handling of the above exception, another exception occurred:\n",
      "\u001b[0;31mKeyboardInterrupt\u001b[0m                         Traceback (most recent call last)",
      "    \u001b[0;31m[... skipping hidden 1 frame]\u001b[0m\n",
      "\u001b[0;32m<ipython-input-7-5342625cc809>\u001b[0m in \u001b[0;36m<module>\u001b[0;34m\u001b[0m\n\u001b[1;32m     26\u001b[0m         \u001b[0;31m#simulate data for each condition changing only values of size, p_upper, p_lower and split_by between conditions.\u001b[0m\u001b[0;34m\u001b[0m\u001b[0;34m\u001b[0m\u001b[0;34m\u001b[0m\u001b[0m\n\u001b[0;32m---> 27\u001b[0;31m         \u001b[0msim_data0\u001b[0m \u001b[0;34m=\u001b[0m \u001b[0mhddm\u001b[0m\u001b[0;34m.\u001b[0m\u001b[0mgenerate\u001b[0m\u001b[0;34m.\u001b[0m\u001b[0mgen_rand_rlddm_data\u001b[0m\u001b[0;34m(\u001b[0m\u001b[0ma\u001b[0m\u001b[0;34m=\u001b[0m\u001b[0ma\u001b[0m\u001b[0;34m,\u001b[0m\u001b[0mt\u001b[0m\u001b[0;34m=\u001b[0m\u001b[0mt\u001b[0m\u001b[0;34m,\u001b[0m\u001b[0mscaler\u001b[0m\u001b[0;34m=\u001b[0m\u001b[0mscaler\u001b[0m\u001b[0;34m,\u001b[0m\u001b[0malpha\u001b[0m\u001b[0;34m=\u001b[0m\u001b[0malpha\u001b[0m\u001b[0;34m,\u001b[0m\u001b[0msize\u001b[0m\u001b[0;34m=\u001b[0m\u001b[0msize0\u001b[0m\u001b[0;34m,\u001b[0m\u001b[0mp_upper\u001b[0m\u001b[0;34m=\u001b[0m\u001b[0;36m0.8\u001b[0m\u001b[0;34m,\u001b[0m\u001b[0mp_lower\u001b[0m\u001b[0;34m=\u001b[0m\u001b[0;36m0.2\u001b[0m\u001b[0;34m,\u001b[0m\u001b[0msplit_by\u001b[0m\u001b[0;34m=\u001b[0m\u001b[0;36m0\u001b[0m\u001b[0;34m)\u001b[0m\u001b[0;34m\u001b[0m\u001b[0;34m\u001b[0m\u001b[0m\n\u001b[0m\u001b[1;32m     28\u001b[0m         \u001b[0msim_data1\u001b[0m \u001b[0;34m=\u001b[0m \u001b[0mhddm\u001b[0m\u001b[0;34m.\u001b[0m\u001b[0mgenerate\u001b[0m\u001b[0;34m.\u001b[0m\u001b[0mgen_rand_rlddm_data\u001b[0m\u001b[0;34m(\u001b[0m\u001b[0ma\u001b[0m\u001b[0;34m=\u001b[0m\u001b[0ma\u001b[0m\u001b[0;34m,\u001b[0m\u001b[0mt\u001b[0m\u001b[0;34m=\u001b[0m\u001b[0mt\u001b[0m\u001b[0;34m,\u001b[0m\u001b[0mscaler\u001b[0m\u001b[0;34m=\u001b[0m\u001b[0mscaler\u001b[0m\u001b[0;34m,\u001b[0m\u001b[0malpha\u001b[0m\u001b[0;34m=\u001b[0m\u001b[0malpha\u001b[0m\u001b[0;34m,\u001b[0m\u001b[0msize\u001b[0m\u001b[0;34m=\u001b[0m\u001b[0msize1\u001b[0m\u001b[0;34m,\u001b[0m\u001b[0mp_upper\u001b[0m\u001b[0;34m=\u001b[0m\u001b[0;36m0.7\u001b[0m\u001b[0;34m,\u001b[0m\u001b[0mp_lower\u001b[0m\u001b[0;34m=\u001b[0m\u001b[0;36m0.3\u001b[0m\u001b[0;34m,\u001b[0m\u001b[0msplit_by\u001b[0m\u001b[0;34m=\u001b[0m\u001b[0;36m1\u001b[0m\u001b[0;34m)\u001b[0m\u001b[0;34m\u001b[0m\u001b[0;34m\u001b[0m\u001b[0m\n",
      "\u001b[0;32m~/anaconda3/envs/hddm_py38/lib/python3.8/site-packages/hddm/generate.py\u001b[0m in \u001b[0;36mgen_rand_rlddm_data\u001b[0;34m(a, t, scaler, alpha, size, p_upper, p_lower, z, q_init, pos_alpha, subjs, split_by, mu_upper, mu_lower, sd_upper, sd_lower, binary_outcome, uncertainty)\u001b[0m\n\u001b[1;32m    619\u001b[0m             \u001b[0mdf\u001b[0m\u001b[0;34m.\u001b[0m\u001b[0mloc\u001b[0m\u001b[0;34m[\u001b[0m\u001b[0mi\u001b[0m\u001b[0;34m,\u001b[0m \u001b[0;34m\"sim_drift\"\u001b[0m\u001b[0;34m]\u001b[0m \u001b[0;34m=\u001b[0m \u001b[0;34m(\u001b[0m\u001b[0mdf\u001b[0m\u001b[0;34m.\u001b[0m\u001b[0mloc\u001b[0m\u001b[0;34m[\u001b[0m\u001b[0mi\u001b[0m\u001b[0;34m,\u001b[0m \u001b[0;34m\"q_up\"\u001b[0m\u001b[0;34m]\u001b[0m \u001b[0;34m-\u001b[0m \u001b[0mdf\u001b[0m\u001b[0;34m.\u001b[0m\u001b[0mloc\u001b[0m\u001b[0;34m[\u001b[0m\u001b[0mi\u001b[0m\u001b[0;34m,\u001b[0m \u001b[0;34m\"q_low\"\u001b[0m\u001b[0;34m]\u001b[0m\u001b[0;34m)\u001b[0m \u001b[0;34m*\u001b[0m \u001b[0;34m(\u001b[0m\u001b[0mscaler\u001b[0m\u001b[0;34m)\u001b[0m\u001b[0;34m\u001b[0m\u001b[0;34m\u001b[0m\u001b[0m\n\u001b[0;32m--> 620\u001b[0;31m             data, params = hddm.generate.gen_rand_data(\n\u001b[0m\u001b[1;32m    621\u001b[0m                 \u001b[0;34m{\u001b[0m\u001b[0;34m\"a\"\u001b[0m\u001b[0;34m:\u001b[0m \u001b[0ma\u001b[0m\u001b[0;34m,\u001b[0m \u001b[0;34m\"t\"\u001b[0m\u001b[0;34m:\u001b[0m \u001b[0mt\u001b[0m\u001b[0;34m,\u001b[0m \u001b[0;34m\"v\"\u001b[0m\u001b[0;34m:\u001b[0m \u001b[0mdf\u001b[0m\u001b[0;34m.\u001b[0m\u001b[0mloc\u001b[0m\u001b[0;34m[\u001b[0m\u001b[0mi\u001b[0m\u001b[0;34m,\u001b[0m \u001b[0;34m\"sim_drift\"\u001b[0m\u001b[0;34m]\u001b[0m\u001b[0;34m,\u001b[0m \u001b[0;34m\"z\"\u001b[0m\u001b[0;34m:\u001b[0m \u001b[0mz\u001b[0m\u001b[0;34m}\u001b[0m\u001b[0;34m,\u001b[0m \u001b[0msubjs\u001b[0m\u001b[0;34m=\u001b[0m\u001b[0;36m1\u001b[0m\u001b[0;34m,\u001b[0m \u001b[0msize\u001b[0m\u001b[0;34m=\u001b[0m\u001b[0;36m1\u001b[0m\u001b[0;34m\u001b[0m\u001b[0;34m\u001b[0m\u001b[0m\n",
      "\u001b[0;32m~/anaconda3/envs/hddm_py38/lib/python3.8/site-packages/hddm/generate.py\u001b[0m in \u001b[0;36mgen_rand_data\u001b[0;34m(params, n_fast_outliers, n_slow_outliers, **kwargs)\u001b[0m\n\u001b[1;32m    463\u001b[0m     \u001b[0;31m# Create RT data\u001b[0m\u001b[0;34m\u001b[0m\u001b[0;34m\u001b[0m\u001b[0;34m\u001b[0m\u001b[0m\n\u001b[0;32m--> 464\u001b[0;31m     data, subj_params = kabuki.generate.gen_rand_data(\n\u001b[0m\u001b[1;32m    465\u001b[0m         \u001b[0mgen_rts\u001b[0m\u001b[0;34m,\u001b[0m\u001b[0;34m\u001b[0m\u001b[0;34m\u001b[0m\u001b[0m\n",
      "\u001b[0;32m~/anaconda3/envs/hddm_py38/lib/python3.8/site-packages/kabuki/generate.py\u001b[0m in \u001b[0;36mgen_rand_data\u001b[0;34m(gen_func, params, size, subjs, subj_noise, exclude_params, share_noise, column_name, check_valid_func, bounds, seed, generate_data)\u001b[0m\n\u001b[1;32m    175\u001b[0m             \u001b[0;32mif\u001b[0m \u001b[0mgenerate_data\u001b[0m\u001b[0;34m:\u001b[0m\u001b[0;34m\u001b[0m\u001b[0;34m\u001b[0m\u001b[0m\n\u001b[0;32m--> 176\u001b[0;31m                 \u001b[0msamples_from_dist\u001b[0m \u001b[0;34m=\u001b[0m \u001b[0mgen_func\u001b[0m\u001b[0;34m(\u001b[0m\u001b[0msize\u001b[0m\u001b[0;34m=\u001b[0m\u001b[0msize\u001b[0m\u001b[0;34m,\u001b[0m \u001b[0;34m**\u001b[0m\u001b[0mparams_cur\u001b[0m\u001b[0;34m)\u001b[0m\u001b[0;34m\u001b[0m\u001b[0;34m\u001b[0m\u001b[0m\n\u001b[0m\u001b[1;32m    177\u001b[0m             \u001b[0;32melse\u001b[0m\u001b[0;34m:\u001b[0m\u001b[0;34m\u001b[0m\u001b[0;34m\u001b[0m\u001b[0m\n",
      "\u001b[0;32m~/anaconda3/envs/hddm_py38/lib/python3.8/site-packages/hddm/generate.py\u001b[0m in \u001b[0;36mgen_rts\u001b[0;34m(size, range_, dt, intra_sv, structured, subj_idx, method, **params)\u001b[0m\n\u001b[1;32m    219\u001b[0m         \u001b[0mdata\u001b[0m \u001b[0;34m=\u001b[0m \u001b[0mpd\u001b[0m\u001b[0;34m.\u001b[0m\u001b[0mDataFrame\u001b[0m\u001b[0;34m(\u001b[0m\u001b[0mrts\u001b[0m\u001b[0;34m,\u001b[0m \u001b[0mcolumns\u001b[0m\u001b[0;34m=\u001b[0m\u001b[0;34m[\u001b[0m\u001b[0;34m\"rt\"\u001b[0m\u001b[0;34m]\u001b[0m\u001b[0;34m)\u001b[0m\u001b[0;34m\u001b[0m\u001b[0;34m\u001b[0m\u001b[0m\n\u001b[0;32m--> 220\u001b[0;31m         \u001b[0mdata\u001b[0m\u001b[0;34m[\u001b[0m\u001b[0;34m\"response\"\u001b[0m\u001b[0;34m]\u001b[0m \u001b[0;34m=\u001b[0m \u001b[0;36m1.0\u001b[0m\u001b[0;34m\u001b[0m\u001b[0;34m\u001b[0m\u001b[0m\n\u001b[0m\u001b[1;32m    221\u001b[0m         \u001b[0mdata\u001b[0m\u001b[0;34m[\u001b[0m\u001b[0;34m\"response\"\u001b[0m\u001b[0;34m]\u001b[0m\u001b[0;34m[\u001b[0m\u001b[0mdata\u001b[0m\u001b[0;34m[\u001b[0m\u001b[0;34m\"rt\"\u001b[0m\u001b[0;34m]\u001b[0m \u001b[0;34m<\u001b[0m \u001b[0;36m0\u001b[0m\u001b[0;34m]\u001b[0m \u001b[0;34m=\u001b[0m \u001b[0;36m0.0\u001b[0m\u001b[0;34m\u001b[0m\u001b[0;34m\u001b[0m\u001b[0m\n",
      "\u001b[0;32m~/anaconda3/envs/hddm_py38/lib/python3.8/site-packages/pandas/core/frame.py\u001b[0m in \u001b[0;36m__setitem__\u001b[0;34m(self, key, value)\u001b[0m\n\u001b[1;32m   3611\u001b[0m             \u001b[0;31m# set column\u001b[0m\u001b[0;34m\u001b[0m\u001b[0;34m\u001b[0m\u001b[0;34m\u001b[0m\u001b[0m\n\u001b[0;32m-> 3612\u001b[0;31m             \u001b[0mself\u001b[0m\u001b[0;34m.\u001b[0m\u001b[0m_set_item\u001b[0m\u001b[0;34m(\u001b[0m\u001b[0mkey\u001b[0m\u001b[0;34m,\u001b[0m \u001b[0mvalue\u001b[0m\u001b[0;34m)\u001b[0m\u001b[0;34m\u001b[0m\u001b[0;34m\u001b[0m\u001b[0m\n\u001b[0m\u001b[1;32m   3613\u001b[0m \u001b[0;34m\u001b[0m\u001b[0m\n",
      "\u001b[0;32m~/anaconda3/envs/hddm_py38/lib/python3.8/site-packages/pandas/core/frame.py\u001b[0m in \u001b[0;36m_set_item\u001b[0;34m(self, key, value)\u001b[0m\n\u001b[1;32m   3796\u001b[0m \u001b[0;34m\u001b[0m\u001b[0m\n\u001b[0;32m-> 3797\u001b[0;31m         \u001b[0mself\u001b[0m\u001b[0;34m.\u001b[0m\u001b[0m_set_item_mgr\u001b[0m\u001b[0;34m(\u001b[0m\u001b[0mkey\u001b[0m\u001b[0;34m,\u001b[0m \u001b[0mvalue\u001b[0m\u001b[0;34m)\u001b[0m\u001b[0;34m\u001b[0m\u001b[0;34m\u001b[0m\u001b[0m\n\u001b[0m\u001b[1;32m   3798\u001b[0m \u001b[0;34m\u001b[0m\u001b[0m\n",
      "\u001b[0;32m~/anaconda3/envs/hddm_py38/lib/python3.8/site-packages/pandas/core/frame.py\u001b[0m in \u001b[0;36m_set_item_mgr\u001b[0;34m(self, key, value)\u001b[0m\n\u001b[1;32m   3753\u001b[0m             \u001b[0;31m# This item wasn't present, just insert at end\u001b[0m\u001b[0;34m\u001b[0m\u001b[0;34m\u001b[0m\u001b[0;34m\u001b[0m\u001b[0m\n\u001b[0;32m-> 3754\u001b[0;31m             \u001b[0mself\u001b[0m\u001b[0;34m.\u001b[0m\u001b[0m_mgr\u001b[0m\u001b[0;34m.\u001b[0m\u001b[0minsert\u001b[0m\u001b[0;34m(\u001b[0m\u001b[0mlen\u001b[0m\u001b[0;34m(\u001b[0m\u001b[0mself\u001b[0m\u001b[0;34m.\u001b[0m\u001b[0m_info_axis\u001b[0m\u001b[0;34m)\u001b[0m\u001b[0;34m,\u001b[0m \u001b[0mkey\u001b[0m\u001b[0;34m,\u001b[0m \u001b[0mvalue\u001b[0m\u001b[0;34m)\u001b[0m\u001b[0;34m\u001b[0m\u001b[0;34m\u001b[0m\u001b[0m\n\u001b[0m\u001b[1;32m   3755\u001b[0m         \u001b[0;32melse\u001b[0m\u001b[0;34m:\u001b[0m\u001b[0;34m\u001b[0m\u001b[0;34m\u001b[0m\u001b[0m\n",
      "\u001b[0;32m~/anaconda3/envs/hddm_py38/lib/python3.8/site-packages/pandas/core/internals/managers.py\u001b[0m in \u001b[0;36minsert\u001b[0;34m(self, loc, item, value)\u001b[0m\n\u001b[1;32m   1154\u001b[0m         \u001b[0;31m# insert to the axis; this could possibly raise a TypeError\u001b[0m\u001b[0;34m\u001b[0m\u001b[0;34m\u001b[0m\u001b[0;34m\u001b[0m\u001b[0m\n\u001b[0;32m-> 1155\u001b[0;31m         \u001b[0mnew_axis\u001b[0m \u001b[0;34m=\u001b[0m \u001b[0mself\u001b[0m\u001b[0;34m.\u001b[0m\u001b[0mitems\u001b[0m\u001b[0;34m.\u001b[0m\u001b[0minsert\u001b[0m\u001b[0;34m(\u001b[0m\u001b[0mloc\u001b[0m\u001b[0;34m,\u001b[0m \u001b[0mitem\u001b[0m\u001b[0;34m)\u001b[0m\u001b[0;34m\u001b[0m\u001b[0;34m\u001b[0m\u001b[0m\n\u001b[0m\u001b[1;32m   1156\u001b[0m \u001b[0;34m\u001b[0m\u001b[0m\n",
      "\u001b[0;32m~/anaconda3/envs/hddm_py38/lib/python3.8/site-packages/pandas/core/indexes/base.py\u001b[0m in \u001b[0;36minsert\u001b[0;34m(self, loc, item)\u001b[0m\n\u001b[1;32m   5987\u001b[0m         \u001b[0mitem\u001b[0m \u001b[0;34m=\u001b[0m \u001b[0mIndex\u001b[0m\u001b[0;34m(\u001b[0m\u001b[0;34m[\u001b[0m\u001b[0mitem\u001b[0m\u001b[0;34m]\u001b[0m\u001b[0;34m,\u001b[0m \u001b[0mdtype\u001b[0m\u001b[0;34m=\u001b[0m\u001b[0mself\u001b[0m\u001b[0;34m.\u001b[0m\u001b[0mdtype\u001b[0m\u001b[0;34m)\u001b[0m\u001b[0;34m.\u001b[0m\u001b[0m_values\u001b[0m\u001b[0;34m\u001b[0m\u001b[0;34m\u001b[0m\u001b[0m\n\u001b[0;32m-> 5988\u001b[0;31m         \u001b[0midx\u001b[0m \u001b[0;34m=\u001b[0m \u001b[0mnp\u001b[0m\u001b[0;34m.\u001b[0m\u001b[0mconcatenate\u001b[0m\u001b[0;34m(\u001b[0m\u001b[0;34m(\u001b[0m\u001b[0marr\u001b[0m\u001b[0;34m[\u001b[0m\u001b[0;34m:\u001b[0m\u001b[0mloc\u001b[0m\u001b[0;34m]\u001b[0m\u001b[0;34m,\u001b[0m \u001b[0mitem\u001b[0m\u001b[0;34m,\u001b[0m \u001b[0marr\u001b[0m\u001b[0;34m[\u001b[0m\u001b[0mloc\u001b[0m\u001b[0;34m:\u001b[0m\u001b[0;34m]\u001b[0m\u001b[0;34m)\u001b[0m\u001b[0;34m)\u001b[0m\u001b[0;34m\u001b[0m\u001b[0;34m\u001b[0m\u001b[0m\n\u001b[0m\u001b[1;32m   5989\u001b[0m         \u001b[0;32mreturn\u001b[0m \u001b[0mIndex\u001b[0m\u001b[0;34m(\u001b[0m\u001b[0midx\u001b[0m\u001b[0;34m,\u001b[0m \u001b[0mname\u001b[0m\u001b[0;34m=\u001b[0m\u001b[0mself\u001b[0m\u001b[0;34m.\u001b[0m\u001b[0mname\u001b[0m\u001b[0;34m)\u001b[0m\u001b[0;34m\u001b[0m\u001b[0;34m\u001b[0m\u001b[0m\n",
      "\u001b[0;32m<__array_function__ internals>\u001b[0m in \u001b[0;36mconcatenate\u001b[0;34m(*args, **kwargs)\u001b[0m\n",
      "\u001b[0;31mKeyboardInterrupt\u001b[0m: ",
      "\nDuring handling of the above exception, another exception occurred:\n",
      "\u001b[0;31mAttributeError\u001b[0m                            Traceback (most recent call last)",
      "\u001b[0;32m~/anaconda3/envs/hddm_py38/lib/python3.8/site-packages/IPython/core/interactiveshell.py\u001b[0m in \u001b[0;36mshowtraceback\u001b[0;34m(self, exc_tuple, filename, tb_offset, exception_only, running_compiled_code)\u001b[0m\n\u001b[1;32m   2063\u001b[0m                         \u001b[0;31m# in the engines. This should return a list of strings.\u001b[0m\u001b[0;34m\u001b[0m\u001b[0;34m\u001b[0m\u001b[0;34m\u001b[0m\u001b[0m\n\u001b[0;32m-> 2064\u001b[0;31m                         \u001b[0mstb\u001b[0m \u001b[0;34m=\u001b[0m \u001b[0mvalue\u001b[0m\u001b[0;34m.\u001b[0m\u001b[0m_render_traceback_\u001b[0m\u001b[0;34m(\u001b[0m\u001b[0;34m)\u001b[0m\u001b[0;34m\u001b[0m\u001b[0;34m\u001b[0m\u001b[0m\n\u001b[0m\u001b[1;32m   2065\u001b[0m                     \u001b[0;32mexcept\u001b[0m \u001b[0mException\u001b[0m\u001b[0;34m:\u001b[0m\u001b[0;34m\u001b[0m\u001b[0;34m\u001b[0m\u001b[0m\n",
      "\u001b[0;31mAttributeError\u001b[0m: 'KeyboardInterrupt' object has no attribute '_render_traceback_'",
      "\nDuring handling of the above exception, another exception occurred:\n",
      "\u001b[0;31mTypeError\u001b[0m                                 Traceback (most recent call last)",
      "    \u001b[0;31m[... skipping hidden 1 frame]\u001b[0m\n",
      "\u001b[0;32m~/anaconda3/envs/hddm_py38/lib/python3.8/site-packages/IPython/core/interactiveshell.py\u001b[0m in \u001b[0;36mshowtraceback\u001b[0;34m(self, exc_tuple, filename, tb_offset, exception_only, running_compiled_code)\u001b[0m\n\u001b[1;32m   2064\u001b[0m                         \u001b[0mstb\u001b[0m \u001b[0;34m=\u001b[0m \u001b[0mvalue\u001b[0m\u001b[0;34m.\u001b[0m\u001b[0m_render_traceback_\u001b[0m\u001b[0;34m(\u001b[0m\u001b[0;34m)\u001b[0m\u001b[0;34m\u001b[0m\u001b[0;34m\u001b[0m\u001b[0m\n\u001b[1;32m   2065\u001b[0m                     \u001b[0;32mexcept\u001b[0m \u001b[0mException\u001b[0m\u001b[0;34m:\u001b[0m\u001b[0;34m\u001b[0m\u001b[0;34m\u001b[0m\u001b[0m\n\u001b[0;32m-> 2066\u001b[0;31m                         stb = self.InteractiveTB.structured_traceback(etype,\n\u001b[0m\u001b[1;32m   2067\u001b[0m                                             value, tb, tb_offset=tb_offset)\n\u001b[1;32m   2068\u001b[0m \u001b[0;34m\u001b[0m\u001b[0m\n",
      "\u001b[0;32m~/anaconda3/envs/hddm_py38/lib/python3.8/site-packages/IPython/core/ultratb.py\u001b[0m in \u001b[0;36mstructured_traceback\u001b[0;34m(self, etype, value, tb, tb_offset, number_of_lines_of_context)\u001b[0m\n\u001b[1;32m   1365\u001b[0m         \u001b[0;32melse\u001b[0m\u001b[0;34m:\u001b[0m\u001b[0;34m\u001b[0m\u001b[0;34m\u001b[0m\u001b[0m\n\u001b[1;32m   1366\u001b[0m             \u001b[0mself\u001b[0m\u001b[0;34m.\u001b[0m\u001b[0mtb\u001b[0m \u001b[0;34m=\u001b[0m \u001b[0mtb\u001b[0m\u001b[0;34m\u001b[0m\u001b[0;34m\u001b[0m\u001b[0m\n\u001b[0;32m-> 1367\u001b[0;31m         return FormattedTB.structured_traceback(\n\u001b[0m\u001b[1;32m   1368\u001b[0m             self, etype, value, tb, tb_offset, number_of_lines_of_context)\n\u001b[1;32m   1369\u001b[0m \u001b[0;34m\u001b[0m\u001b[0m\n",
      "\u001b[0;32m~/anaconda3/envs/hddm_py38/lib/python3.8/site-packages/IPython/core/ultratb.py\u001b[0m in \u001b[0;36mstructured_traceback\u001b[0;34m(self, etype, value, tb, tb_offset, number_of_lines_of_context)\u001b[0m\n\u001b[1;32m   1265\u001b[0m         \u001b[0;32mif\u001b[0m \u001b[0mmode\u001b[0m \u001b[0;32min\u001b[0m \u001b[0mself\u001b[0m\u001b[0;34m.\u001b[0m\u001b[0mverbose_modes\u001b[0m\u001b[0;34m:\u001b[0m\u001b[0;34m\u001b[0m\u001b[0;34m\u001b[0m\u001b[0m\n\u001b[1;32m   1266\u001b[0m             \u001b[0;31m# Verbose modes need a full traceback\u001b[0m\u001b[0;34m\u001b[0m\u001b[0;34m\u001b[0m\u001b[0;34m\u001b[0m\u001b[0m\n\u001b[0;32m-> 1267\u001b[0;31m             return VerboseTB.structured_traceback(\n\u001b[0m\u001b[1;32m   1268\u001b[0m                 \u001b[0mself\u001b[0m\u001b[0;34m,\u001b[0m \u001b[0metype\u001b[0m\u001b[0;34m,\u001b[0m \u001b[0mvalue\u001b[0m\u001b[0;34m,\u001b[0m \u001b[0mtb\u001b[0m\u001b[0;34m,\u001b[0m \u001b[0mtb_offset\u001b[0m\u001b[0;34m,\u001b[0m \u001b[0mnumber_of_lines_of_context\u001b[0m\u001b[0;34m\u001b[0m\u001b[0;34m\u001b[0m\u001b[0m\n\u001b[1;32m   1269\u001b[0m             )\n",
      "\u001b[0;32m~/anaconda3/envs/hddm_py38/lib/python3.8/site-packages/IPython/core/ultratb.py\u001b[0m in \u001b[0;36mstructured_traceback\u001b[0;34m(self, etype, evalue, etb, tb_offset, number_of_lines_of_context)\u001b[0m\n\u001b[1;32m   1122\u001b[0m         \u001b[0;34m\"\"\"Return a nice text document describing the traceback.\"\"\"\u001b[0m\u001b[0;34m\u001b[0m\u001b[0;34m\u001b[0m\u001b[0m\n\u001b[1;32m   1123\u001b[0m \u001b[0;34m\u001b[0m\u001b[0m\n\u001b[0;32m-> 1124\u001b[0;31m         formatted_exception = self.format_exception_as_a_whole(etype, evalue, etb, number_of_lines_of_context,\n\u001b[0m\u001b[1;32m   1125\u001b[0m                                                                tb_offset)\n\u001b[1;32m   1126\u001b[0m \u001b[0;34m\u001b[0m\u001b[0m\n",
      "\u001b[0;32m~/anaconda3/envs/hddm_py38/lib/python3.8/site-packages/IPython/core/ultratb.py\u001b[0m in \u001b[0;36mformat_exception_as_a_whole\u001b[0;34m(self, etype, evalue, etb, number_of_lines_of_context, tb_offset)\u001b[0m\n\u001b[1;32m   1080\u001b[0m \u001b[0;34m\u001b[0m\u001b[0m\n\u001b[1;32m   1081\u001b[0m \u001b[0;34m\u001b[0m\u001b[0m\n\u001b[0;32m-> 1082\u001b[0;31m         \u001b[0mlast_unique\u001b[0m\u001b[0;34m,\u001b[0m \u001b[0mrecursion_repeat\u001b[0m \u001b[0;34m=\u001b[0m \u001b[0mfind_recursion\u001b[0m\u001b[0;34m(\u001b[0m\u001b[0morig_etype\u001b[0m\u001b[0;34m,\u001b[0m \u001b[0mevalue\u001b[0m\u001b[0;34m,\u001b[0m \u001b[0mrecords\u001b[0m\u001b[0;34m)\u001b[0m\u001b[0;34m\u001b[0m\u001b[0;34m\u001b[0m\u001b[0m\n\u001b[0m\u001b[1;32m   1083\u001b[0m \u001b[0;34m\u001b[0m\u001b[0m\n\u001b[1;32m   1084\u001b[0m         \u001b[0mframes\u001b[0m \u001b[0;34m=\u001b[0m \u001b[0mself\u001b[0m\u001b[0;34m.\u001b[0m\u001b[0mformat_records\u001b[0m\u001b[0;34m(\u001b[0m\u001b[0mrecords\u001b[0m\u001b[0;34m,\u001b[0m \u001b[0mlast_unique\u001b[0m\u001b[0;34m,\u001b[0m \u001b[0mrecursion_repeat\u001b[0m\u001b[0;34m)\u001b[0m\u001b[0;34m\u001b[0m\u001b[0;34m\u001b[0m\u001b[0m\n",
      "\u001b[0;32m~/anaconda3/envs/hddm_py38/lib/python3.8/site-packages/IPython/core/ultratb.py\u001b[0m in \u001b[0;36mfind_recursion\u001b[0;34m(etype, value, records)\u001b[0m\n\u001b[1;32m    380\u001b[0m     \u001b[0;31m# first frame (from in to out) that looks different.\u001b[0m\u001b[0;34m\u001b[0m\u001b[0;34m\u001b[0m\u001b[0;34m\u001b[0m\u001b[0m\n\u001b[1;32m    381\u001b[0m     \u001b[0;32mif\u001b[0m \u001b[0;32mnot\u001b[0m \u001b[0mis_recursion_error\u001b[0m\u001b[0;34m(\u001b[0m\u001b[0metype\u001b[0m\u001b[0;34m,\u001b[0m \u001b[0mvalue\u001b[0m\u001b[0;34m,\u001b[0m \u001b[0mrecords\u001b[0m\u001b[0;34m)\u001b[0m\u001b[0;34m:\u001b[0m\u001b[0;34m\u001b[0m\u001b[0;34m\u001b[0m\u001b[0m\n\u001b[0;32m--> 382\u001b[0;31m         \u001b[0;32mreturn\u001b[0m \u001b[0mlen\u001b[0m\u001b[0;34m(\u001b[0m\u001b[0mrecords\u001b[0m\u001b[0;34m)\u001b[0m\u001b[0;34m,\u001b[0m \u001b[0;36m0\u001b[0m\u001b[0;34m\u001b[0m\u001b[0;34m\u001b[0m\u001b[0m\n\u001b[0m\u001b[1;32m    383\u001b[0m \u001b[0;34m\u001b[0m\u001b[0m\n\u001b[1;32m    384\u001b[0m     \u001b[0;31m# Select filename, lineno, func_name to track frames with\u001b[0m\u001b[0;34m\u001b[0m\u001b[0;34m\u001b[0m\u001b[0;34m\u001b[0m\u001b[0m\n",
      "\u001b[0;31mTypeError\u001b[0m: object of type 'NoneType' has no len()"
     ]
    }
   ],
   "source": [
    "from tqdm import tqdm #progress tracker\n",
    "#create empty dataframe to store simulated data\n",
    "sim_data = pd.DataFrame()\n",
    "#create a column samp to be used to identify the simulated data sets\n",
    "data['samp'] = 0\n",
    "#load traces\n",
    "traces = m.get_traces()\n",
    "#decide how many times to repeat simulation process. repeating this multiple times is generally recommended, \n",
    "#as it better captures the uncertainty in the posterior distribution, but will also take some time\n",
    "for i in tqdm(range(1,51)):\n",
    "    #randomly select a row in the traces to use for extracting parameter values\n",
    "    sample = np.random.randint(0,traces.shape[0]-1)\n",
    "    #loop through all subjects in observed data\n",
    "    for s in data.subj_idx.unique():\n",
    "        #get number of trials for each condition.\n",
    "        size0 = len(data[(data['subj_idx']==s) & (data['split_by']==0)].trial.unique())\n",
    "        size1 = len(data[(data['subj_idx']==s) & (data['split_by']==1)].trial.unique())\n",
    "        size2 = len(data[(data['subj_idx']==s) & (data['split_by']==2)].trial.unique())\n",
    "        #set parameter values for simulation\n",
    "        a = traces.loc[sample,'a_subj.'+str(s)]\n",
    "        t = traces.loc[sample,'t_subj.'+str(s)]\n",
    "        scaler = traces.loc[sample,'v_subj.'+str(s)]\n",
    "        alphaInv = traces.loc[sample,'alpha_subj.'+str(s)]\n",
    "        #take inverse logit of estimated alpha\n",
    "        alpha = np.exp(alphaInv)/(1+np.exp(alphaInv))\n",
    "        #simulate data for each condition changing only values of size, p_upper, p_lower and split_by between conditions.\n",
    "        sim_data0 = hddm.generate.gen_rand_rlddm_data(a=a,t=t,scaler=scaler,alpha=alpha,size=size0,p_upper=0.8,p_lower=0.2,split_by=0)\n",
    "        sim_data1 = hddm.generate.gen_rand_rlddm_data(a=a,t=t,scaler=scaler,alpha=alpha,size=size1,p_upper=0.7,p_lower=0.3,split_by=1)\n",
    "        sim_data2 = hddm.generate.gen_rand_rlddm_data(a=a,t=t,scaler=scaler,alpha=alpha,size=size2,p_upper=0.6,p_lower=0.4,split_by=2)\n",
    "        #append the conditions\n",
    "        sim_data0 = sim_data0.append([sim_data1,sim_data2],ignore_index=True)\n",
    "        #assign subj_idx\n",
    "        sim_data0['subj_idx'] = s\n",
    "        #identify that these are simulated data\n",
    "        sim_data0['type'] = 'simulated'\n",
    "        #identify the simulated data\n",
    "        sim_data0['samp'] = i\n",
    "        #append data from each subject\n",
    "        sim_data = sim_data.append(sim_data0,ignore_index=True)\n",
    "#combine observed and simulated data\n",
    "ppc_data = data[['subj_idx','response','split_by','rt','trial','feedback','samp']].copy()\n",
    "ppc_data['type'] = 'observed'\n",
    "ppc_sdata = sim_data[['subj_idx','response','split_by','rt','trial','feedback','type','samp']].copy()\n",
    "ppc_data = ppc_data.append(ppc_sdata)\n",
    "ppc_data.to_csv('ppc_data_tutorial.csv')"
   ]
  },
  {
   "cell_type": "markdown",
   "metadata": {},
   "source": [
    "### Plotting\n",
    "Now that we have a dataframe with both observed and simulated data we can plot to see whether the simulated data are able to capture observed choice and reaction times. To capture the uncertainty in the simulated data we want to identify how much choice and reaction differs across the simulated data sets. A good measure of this is to calculate the highest posterior density/highest density interval for summary scores of the generated data. Below we calculate highest posterior density with an alpha set to 0.1, which means that we are describing the range of the 90% most likely values."
   ]
  },
  {
   "cell_type": "code",
   "execution_count": null,
   "metadata": {},
   "outputs": [],
   "source": [
    "#for practical reasons we only look at the first 40 trials for each subject in a given condition\n",
    "plot_ppc_data = ppc_data[ppc_data.trial<41].copy()"
   ]
  },
  {
   "cell_type": "markdown",
   "metadata": {},
   "source": [
    "### Choice"
   ]
  },
  {
   "cell_type": "code",
   "execution_count": null,
   "metadata": {},
   "outputs": [],
   "source": [
    "#bin trials to for smoother estimate of response proportion across learning\n",
    "plot_ppc_data['bin_trial'] = pd.cut(plot_ppc_data.trial,11,labels=np.linspace(0, 10,11)).astype('int64')\n",
    "#calculate means for each sample\n",
    "sums = plot_ppc_data.groupby(['bin_trial','split_by','samp','type']).mean().reset_index()\n",
    "#calculate the overall mean response across samples\n",
    "ppc_sim = sums.groupby(['bin_trial','split_by','type']).mean().reset_index()\n",
    "#initiate columns that will have the upper and lower bound of the hpd\n",
    "ppc_sim['upper_hpd'] = 0\n",
    "ppc_sim['lower_hpd'] = 0\n",
    "for i in range(0,ppc_sim.shape[0]):\n",
    "    #calculate the hpd/hdi of the predicted mean responses across bin_trials\n",
    "    hdi = pymc.utils.hpd(sums.response[(sums['bin_trial']==ppc_sim.bin_trial[i]) & (sums['split_by']==ppc_sim.split_by[i]) & (sums['type']==ppc_sim.type[i])],alpha=0.1)\n",
    "    ppc_sim.loc[i,'upper_hpd'] = hdi[1]\n",
    "    ppc_sim.loc[i,'lower_hpd'] = hdi[0]\n",
    "#calculate error term as the distance from upper bound to mean\n",
    "ppc_sim['up_err'] = ppc_sim['upper_hpd']-ppc_sim['response']\n",
    "ppc_sim['low_err'] = ppc_sim['response']-ppc_sim['lower_hpd']\n",
    "ppc_sim['model'] = 'RLDDM_single_learning'\n",
    "ppc_sim.to_csv('ppc_choicedata_tutorial.csv')"
   ]
  },
  {
   "cell_type": "code",
   "execution_count": null,
   "metadata": {},
   "outputs": [],
   "source": [
    "#plotting evolution of choice proportion for best option across learning for observed and simulated data.\n",
    "fig, axs = plt.subplots(figsize=(15, 5),nrows=1, ncols=3, sharex=True,sharey=True)\n",
    "for i in range(0,3):\n",
    "    ax = axs[i]\n",
    "    d = ppc_sim[(ppc_sim.split_by==i) & (ppc_sim.type=='simulated')]\n",
    "    ax.errorbar(d.bin_trial, d.response, yerr=[d.low_err,d.up_err], label='simulated',color='orange')\n",
    "    d = ppc_sim[(ppc_sim.split_by==i) & (ppc_sim.type=='observed')]\n",
    "    ax.plot(d.bin_trial, d.response,linewidth=3,label='observed')\n",
    "    ax.set_title('split_by = %i' %i,fontsize=20)\n",
    "    ax.set_ylabel('mean response')\n",
    "    ax.set_xlabel('trial')\n",
    "plt.legend()\n",
    "fig.savefig('PPCchoice.pdf')"
   ]
  },
  {
   "cell_type": "markdown",
   "metadata": {},
   "source": [
    "__Fig.__ The plots display the rate of choosing the best option (response = 1) across learning and condition. The model generates data (orange) that closely follows the observed behavior (blue), with the exception of overpredicting performance early in the most difficult condition (split_by=2). Uncertainty in the generated data is captured by the 90% highest density interval of the means across simulated datasets."
   ]
  },
  {
   "cell_type": "markdown",
   "metadata": {},
   "source": [
    "### RT"
   ]
  },
  {
   "cell_type": "code",
   "execution_count": null,
   "metadata": {},
   "outputs": [],
   "source": [
    "#set reaction time to be negative for lower bound responses (response=0)\n",
    "plot_ppc_data['reaction time'] = np.where(plot_ppc_data['response']==1,plot_ppc_data.rt,0-plot_ppc_data.rt)\n",
    "#plotting evolution of choice proportion for best option across learning for observed and simulated data. We use bins of trials because plotting individual trials would be very noisy. \n",
    "g = sns.FacetGrid(plot_ppc_data,col='split_by',hue='type')\n",
    "g.map(sns.kdeplot, 'reaction time',bw=0.05).set_ylabels(\"Density\")\n",
    "g.add_legend()\n",
    "g.savefig('PPCrt_dist.pdf')"
   ]
  },
  {
   "cell_type": "markdown",
   "metadata": {},
   "source": [
    "__Fig.__ Density plots of observed and predicted reaction time across conditions. RTs for lower boundary choices (i.e. worst option choices) are set to be negative (0-RT) to be able to separate upper and lower bound responses."
   ]
  },
  {
   "cell_type": "markdown",
   "metadata": {},
   "source": [
    "## 8. Parameter recovery\n",
    "To validate the RLDDM we ran a parameter recovery study to test to which degree the model can recover the parameter values used to simulate data. To do this we generated 81 synthetic datasets with 50 subjects performing 70 trials each. The 81 datasets were simulated using all combinations of three plausible parameter values for decision threshold, non-decision time, learning rate and the scaling parameter onto drift rate."
   ]
  },
  {
   "cell_type": "markdown",
   "metadata": {},
   "source": [
    "### Estimated values split by simulated vales \n",
    "We can plot simulated together with the estimated values to test the models ability to recover parameters, and to see if there are any values that are more difficult to recover than others."
   ]
  },
  {
   "cell_type": "code",
   "execution_count": null,
   "metadata": {},
   "outputs": [],
   "source": [
    "param_recovery = hddm.load_csv('recovery_sim_est_rlddm.csv')"
   ]
  },
  {
   "cell_type": "code",
   "execution_count": null,
   "metadata": {},
   "outputs": [],
   "source": [
    "g = sns.catplot(x='a',y='e_a',data=param_recovery,palette='Set1')\n",
    "g.set_axis_labels(\"Simulated threshold\", \"Estimated threshold\")\n",
    "plt.title(\"Decision threshold\")\n",
    "g.savefig('Threshold_recovery.pdf')"
   ]
  },
  {
   "cell_type": "code",
   "execution_count": null,
   "metadata": {},
   "outputs": [],
   "source": [
    "g = sns.catplot(x='alpha',y='e_alphaT',data=param_recovery,palette='Set1')\n",
    "g.set_axis_labels(\"Simulated alpha\", \"Estimated alpha\")\n",
    "plt.title(\"Learning rate\")\n",
    "g.savefig('Alpha_recovery.pdf')"
   ]
  },
  {
   "cell_type": "code",
   "execution_count": null,
   "metadata": {},
   "outputs": [],
   "source": [
    "g = sns.catplot(x='scaler',y='e_v',data=param_recovery,palette='Set1')\n",
    "g.set_axis_labels(\"Simulated scaling\", \"Estimated scaling\")\n",
    "plt.title(\"Scaling drift rate\")\n",
    "g.savefig('Scaler_recovery.pdf')"
   ]
  },
  {
   "cell_type": "code",
   "execution_count": null,
   "metadata": {},
   "outputs": [],
   "source": [
    "g = sns.catplot(x='t',y='e_t',data=param_recovery,palette='Set1')\n",
    "g.set_axis_labels(\"Simulated NDT\", \"Estimated NDT\")\n",
    "plt.title(\"Non-decision time\")\n",
    "g.savefig('NDT_recovery.pdf')"
   ]
  },
  {
   "cell_type": "markdown",
   "metadata": {},
   "source": [
    "__Fig.__ The correlation between simulated and estimated parameter values are high, which means recovery is good. There is somewhat worse recovery for the learning rate and scaling parameter, which makes sense given that they to a degree can explain the same variance (see below)."
   ]
  },
  {
   "cell_type": "markdown",
   "metadata": {},
   "source": [
    "## 9. Separate learning rates for positive and negative prediction errors\n",
    "Several studies have reported differences in updating of expected rewards following positive and negative prediction errors (e.g. to capture differences between D1 and D2 receptor function). To model asymmetric updating rates for positive and negative prediction errors you can set dual=True in the model. This will produce two estimated learning rates; alpha and pos_alpha, of which alpha then becomes the estimated learning rate for negative prediction errors."
   ]
  },
  {
   "cell_type": "code",
   "execution_count": null,
   "metadata": {},
   "outputs": [],
   "source": [
    "#set dual=True to model separate learning rates for positive and negative prediction errors.\n",
    "m_dual = hddm.HDDMrl(data,dual=True)\n",
    "#set sample and burn-in\n",
    "m_dual.sample(1500,burn=500,dbname='traces.db',db='pickle')\n",
    "#print stats to get an overview of posterior distribution of estimated parameters\n",
    "m_dual.print_stats()"
   ]
  },
  {
   "cell_type": "code",
   "execution_count": null,
   "metadata": {},
   "outputs": [],
   "source": [
    "m_dual.plot_posteriors()"
   ]
  },
  {
   "cell_type": "markdown",
   "metadata": {},
   "source": [
    "__Fig.__ There's more autocorrelation in this model compared to the one with a single learning rate. First, let's test whether it converges."
   ]
  },
  {
   "cell_type": "code",
   "execution_count": null,
   "metadata": {},
   "outputs": [],
   "source": [
    "# estimate convergence\n",
    "models = []\n",
    "for i in range(3):\n",
    "    m = hddm.HDDMrl(data=data,dual=True)\n",
    "    m.sample(1500, burn=500,dbname='traces.db',db='pickle')\n",
    "    models.append(m)\n",
    "\n",
    "#get max gelman-statistic value. shouldn't be higher than 1.1\n",
    "np.max(list(gelman_rubin(models).values()))"
   ]
  },
  {
   "cell_type": "code",
   "execution_count": null,
   "metadata": {},
   "outputs": [],
   "source": [
    "gelman_rubin(models)"
   ]
  },
  {
   "cell_type": "markdown",
   "metadata": {},
   "source": [
    "Convergence looks good, i.e. no parameters with gelman-rubin statistic > 1.1."
   ]
  },
  {
   "cell_type": "code",
   "execution_count": null,
   "metadata": {},
   "outputs": [],
   "source": [
    "# Create a new model that has all traces concatenated\n",
    "# of individual models.\n",
    "m_dual = kabuki.utils.concat_models(models)"
   ]
  },
  {
   "cell_type": "markdown",
   "metadata": {},
   "source": [
    "And then we can have a look at the joint posterior distribution:"
   ]
  },
  {
   "cell_type": "code",
   "execution_count": null,
   "metadata": {},
   "outputs": [],
   "source": [
    "alpha, t, a, v, pos_alpha = m_dual.nodes_db.node[['alpha', 't', 'a','v','pos_alpha']]\n",
    "samples = {'alpha':alpha.trace(),'pos_alpha':pos_alpha.trace(),'t':t.trace(),'a':a.trace(),'v':v.trace()}\n",
    "samp = pd.DataFrame(data=samples)\n",
    "\n",
    "def corrfunc(x, y, **kws):\n",
    "    r, _ = stats.pearsonr(x, y)\n",
    "    ax = plt.gca()\n",
    "    ax.annotate(\"r = {:.2f}\".format(r),\n",
    "                xy=(.1, .9), xycoords=ax.transAxes)\n",
    "\n",
    "g = sns.PairGrid(samp, palette=[\"red\"])\n",
    "g.map_upper(plt.scatter, s=10)\n",
    "g.map_diag(sns.distplot, kde=False)\n",
    "g.map_lower(sns.kdeplot, cmap=\"Blues_d\")\n",
    "g.map_lower(corrfunc)\n",
    "g.savefig('matrix_plot.png')"
   ]
  },
  {
   "cell_type": "markdown",
   "metadata": {},
   "source": [
    "__Fig.__ The correlation between parameters is generally low. "
   ]
  },
  {
   "cell_type": "markdown",
   "metadata": {},
   "source": [
    "## Posterior predictive check\n",
    "The DIC for this dual learning rate model is better than for the single learning rate model. We can therefore check whether we can detect this improvement in the ability to recreate choice and RT patterns:"
   ]
  },
  {
   "cell_type": "code",
   "execution_count": null,
   "metadata": {},
   "outputs": [],
   "source": [
    "#create empty dataframe to store simulated data\n",
    "sim_data = pd.DataFrame()\n",
    "#create a column samp to be used to identify the simulated data sets\n",
    "data['samp'] = 0\n",
    "#get traces, note here we extract traces from m_dual\n",
    "traces = m_dual.get_traces()\n",
    "#decide how many times to repeat simulation process. repeating this multiple times is generally recommended as it better captures the uncertainty in the posterior distribution, but will also take some time\n",
    "for i in tqdm(range(1,51)):\n",
    "    #randomly select a row in the traces to use for extracting parameter values\n",
    "    sample = np.random.randint(0,traces.shape[0]-1)\n",
    "    #loop through all subjects in observed data\n",
    "    for s in data.subj_idx.unique():\n",
    "        #get number of trials for each condition.\n",
    "        size0 = len(data[(data['subj_idx']==s) & (data['split_by']==0)].trial.unique())\n",
    "        size1 = len(data[(data['subj_idx']==s) & (data['split_by']==1)].trial.unique())\n",
    "        size2 = len(data[(data['subj_idx']==s) & (data['split_by']==2)].trial.unique())\n",
    "        #set parameter values for simulation\n",
    "        a = traces.loc[sample,'a_subj.'+str(s)]\n",
    "        t = traces.loc[sample,'t_subj.'+str(s)]\n",
    "        scaler = traces.loc[sample,'v_subj.'+str(s)]\n",
    "        #when generating data with two learning rates pos_alpha represents learning rate for positive prediction errors and alpha for negative prediction errors\n",
    "        alphaInv = traces.loc[sample,'alpha_subj.'+str(s)]\n",
    "        pos_alphaInv = traces.loc[sample,'pos_alpha_subj.'+str(s)]\n",
    "        #take inverse logit of estimated alpha and pos_alpha\n",
    "        alpha = np.exp(alphaInv)/(1+np.exp(alphaInv))\n",
    "        pos_alpha = np.exp(pos_alphaInv)/(1+np.exp(pos_alphaInv))\n",
    "        #simulate data for each condition changing only values of size, p_upper, p_lower and split_by between conditions.\n",
    "        sim_data0 = hddm.generate.gen_rand_rlddm_data(a=a,t=t,scaler=scaler,alpha=alpha,pos_alpha=pos_alpha,size=size0,p_upper=0.8,p_lower=0.2,split_by=0)\n",
    "        sim_data1 = hddm.generate.gen_rand_rlddm_data(a=a,t=t,scaler=scaler,alpha=alpha,pos_alpha=pos_alpha,size=size1,p_upper=0.7,p_lower=0.3,split_by=1)\n",
    "        sim_data2 = hddm.generate.gen_rand_rlddm_data(a=a,t=t,scaler=scaler,alpha=alpha,pos_alpha=pos_alpha,size=size2,p_upper=0.6,p_lower=0.4,split_by=2)\n",
    "        #append the conditions\n",
    "        sim_data0 = sim_data0.append([sim_data1,sim_data2],ignore_index=True)\n",
    "        #assign subj_idx\n",
    "        sim_data0['subj_idx'] = s\n",
    "        #identify that these are simulated data\n",
    "        sim_data0['type'] = 'simulated'\n",
    "        #identify the simulated data\n",
    "        sim_data0['samp'] = i\n",
    "        #append data from each subject\n",
    "        sim_data = sim_data.append(sim_data0,ignore_index=True)\n",
    "#combine observed and simulated data\n",
    "ppc_dual_data = data[['subj_idx','response','split_by','rt','trial','feedback','samp']].copy()\n",
    "ppc_dual_data['type'] = 'observed'\n",
    "ppc_dual_sdata = sim_data[['subj_idx','response','split_by','rt','trial','feedback','type','samp']].copy()\n",
    "ppc_dual_data = ppc_dual_data.append(ppc_dual_sdata)"
   ]
  },
  {
   "cell_type": "code",
   "execution_count": null,
   "metadata": {},
   "outputs": [],
   "source": [
    "#for practical reasons we only look at the first 40 trials for each subject in a given condition\n",
    "plot_ppc_dual_data = ppc_dual_data[ppc_dual_data.trial<41].copy()"
   ]
  },
  {
   "cell_type": "markdown",
   "metadata": {},
   "source": [
    "### Choice"
   ]
  },
  {
   "cell_type": "code",
   "execution_count": null,
   "metadata": {},
   "outputs": [],
   "source": [
    "#bin trials to for smoother estimate of response proportion across learning\n",
    "plot_ppc_dual_data['bin_trial'] = pd.cut(plot_ppc_dual_data.trial,11,labels=np.linspace(0, 10,11)).astype('int64')\n",
    "#calculate means for each sample\n",
    "sums = plot_ppc_dual_data.groupby(['bin_trial','split_by','samp','type']).mean().reset_index()\n",
    "#calculate the overall mean response across samples\n",
    "ppc_dual_sim = sums.groupby(['bin_trial','split_by','type']).mean().reset_index()\n",
    "#initiate columns that will have the upper and lower bound of the hpd\n",
    "ppc_dual_sim['upper_hpd'] = 0\n",
    "ppc_dual_sim['lower_hpd'] = 0\n",
    "for i in range(0,ppc_dual_sim.shape[0]):\n",
    "    #calculate the hpd/hdi of the predicted mean responses across bin_trials\n",
    "    hdi = pymc.utils.hpd(sums.response[(sums['bin_trial']==ppc_dual_sim.bin_trial[i]) & (sums['split_by']==ppc_dual_sim.split_by[i]) & (sums['type']==ppc_dual_sim.type[i])],alpha=0.1)\n",
    "    ppc_dual_sim.loc[i,'upper_hpd'] = hdi[1]\n",
    "    ppc_dual_sim.loc[i,'lower_hpd'] = hdi[0]\n",
    "#calculate error term as the distance from upper bound to mean\n",
    "ppc_dual_sim['up_err'] = ppc_dual_sim['upper_hpd']-ppc_dual_sim['response']\n",
    "ppc_dual_sim['low_err'] = ppc_dual_sim['response']-ppc_dual_sim['lower_hpd']\n",
    "ppc_dual_sim['model'] = 'RLDDM_dual_learning'"
   ]
  },
  {
   "cell_type": "code",
   "execution_count": null,
   "metadata": {},
   "outputs": [],
   "source": [
    "#plotting evolution of choice proportion for best option across learning for observed and simulated data.\n",
    "fig, axs = plt.subplots(figsize=(15, 5),nrows=1, ncols=3, sharex=True,sharey=True)\n",
    "for i in range(0,3):\n",
    "    ax = axs[i]\n",
    "    d = ppc_dual_sim[(ppc_dual_sim.split_by==i) & (ppc_dual_sim.type=='simulated')]\n",
    "    ax.errorbar(d.bin_trial, d.response, yerr=[d.low_err,d.up_err], label='simulated',color='orange')\n",
    "    d = ppc_sim[(ppc_dual_sim.split_by==i) & (ppc_dual_sim.type=='observed')]\n",
    "    ax.plot(d.bin_trial, d.response,linewidth=3,label='observed')\n",
    "    ax.set_title('split_by = %i' %i,fontsize=20)\n",
    "    ax.set_ylabel('mean response')\n",
    "    ax.set_xlabel('trial')\n",
    "plt.legend()"
   ]
  },
  {
   "cell_type": "markdown",
   "metadata": {},
   "source": [
    "__Fig.__ The plots display the rate of choosing the best option (response = 1) across learning and condition. The model generates data (orange) that closely follows the observed behavior (blue), with the exception of performance early in the most difficult condition (split_by=2)."
   ]
  },
  {
   "cell_type": "markdown",
   "metadata": {},
   "source": [
    "### PPC for single vs. dual learning rate\n",
    "To get a better sense of differences in ability to predict data between the single and dual learning rate model we can plot them together:"
   ]
  },
  {
   "cell_type": "code",
   "execution_count": null,
   "metadata": {},
   "outputs": [],
   "source": [
    "#plotting evolution of choice proportion for best option across learning for observed and simulated data. Compared for model with single and dual learning rate.\n",
    "fig, axs = plt.subplots(figsize=(15, 5),nrows=1, ncols=3, sharex=True,sharey=True)\n",
    "for i in range(0,3):\n",
    "    ax = axs[i]\n",
    "    d_single = ppc_sim[(ppc_sim.split_by==i) & (ppc_sim.type=='simulated')]\n",
    "    #slightly move bin_trial to avoid overlap in errorbars\n",
    "    d_single['bin_trial'] += 0.2\n",
    "    ax.errorbar(d_single.bin_trial, d_single.response, yerr=[d_single.low_err,d_single.up_err],label='simulated_single',color='orange')\n",
    "    d_dual = ppc_dual_sim[(ppc_dual_sim.split_by==i) & (ppc_dual_sim.type=='simulated')]\n",
    "    ax.errorbar(d_dual.bin_trial, d_dual.response, yerr=[d_dual.low_err,d_dual.up_err],label='simulated_dual',color='green')\n",
    "    d = ppc_sim[(ppc_dual_sim.split_by==i) & (ppc_dual_sim.type=='observed')]\n",
    "    ax.plot(d.bin_trial, d.response,linewidth=3,label='observed')\n",
    "    ax.set_title('split_by = %i' %i,fontsize=20)\n",
    "    ax.set_ylabel('mean response')\n",
    "    ax.set_xlabel('trial')\n",
    "plt.xlim(-0.5,10.5)\n",
    "plt.legend()"
   ]
  },
  {
   "cell_type": "markdown",
   "metadata": {},
   "source": [
    "__Fig.__ The predictions from the model with two learning rates are not very different from the model with single learning rate, and a similar overprediction of performance early on for the most difficult condition (split_by =2)."
   ]
  },
  {
   "cell_type": "markdown",
   "metadata": {},
   "source": [
    "### RT"
   ]
  },
  {
   "cell_type": "code",
   "execution_count": null,
   "metadata": {},
   "outputs": [],
   "source": [
    "plot_ppc_data['type_compare'] = np.where(plot_ppc_data['type']=='observed',plot_ppc_data['type'],'simulated_single_learning')\n",
    "plot_ppc_dual_data['type_compare'] = np.where(plot_ppc_dual_data['type']=='observed',plot_ppc_dual_data['type'],'simulated_dual_learning')\n",
    "dual_vs_single_pcc = plot_ppc_data.append(plot_ppc_dual_data)\n",
    "dual_vs_single_pcc['reaction time'] = np.where(dual_vs_single_pcc['response']==1,dual_vs_single_pcc.rt,0-dual_vs_single_pcc.rt)\n",
    "#plotting evolution of choice proportion for best option across learning for observed and simulated data. We use bins of trials because plotting individual trials would be very noisy. \n",
    "g = sns.FacetGrid(dual_vs_single_pcc,col='split_by',hue='type_compare',height=5)\n",
    "g.map(sns.kdeplot, 'reaction time',bw=0.01).set_ylabels(\"Density\")\n",
    "g.add_legend()"
   ]
  },
  {
   "cell_type": "markdown",
   "metadata": {},
   "source": [
    "__Fig.__ Again there's not a big difference between the two models. Both models slightly overpredict performance for the medium (split_by =1) and hard (split_by = 2) conditions, as identified by lower densities for the negative (worst option choices) in the simulated compared to observed data."
   ]
  },
  {
   "cell_type": "markdown",
   "metadata": {},
   "source": [
    "### Transform alpha and pos_alpha\n",
    "To interpret the parameter estimates for alpha and pos_alpha you have to transform them with the inverse logit where learning rate for negative prediction error is alpha and learning rate for positive prediction errors is pos_alpha. For this dataset the learning rate is estimated to be higher for positive than negative prediction errors."
   ]
  },
  {
   "cell_type": "code",
   "execution_count": null,
   "metadata": {},
   "outputs": [],
   "source": [
    "#plot alpha for positive and negative learning rate\n",
    "traces = m_dual.get_traces()\n",
    "neg_alpha = np.exp(traces['alpha'])/(1+np.exp(traces['alpha']))\n",
    "pos_alpha = np.exp(traces['pos_alpha'])/(1+np.exp(traces['pos_alpha']))\n",
    "sns.kdeplot(neg_alpha, color='r', label=\"neg_alpha: \" + str(np.round(np.mean(neg_alpha),3)))\n",
    "sns.kdeplot(pos_alpha, color='b', label=\"pos_alpha: \" + str(np.round(np.mean(pos_alpha),3)))"
   ]
  },
  {
   "cell_type": "markdown",
   "metadata": {},
   "source": [
    "__Fig.__ The positive learning rate is estimated to be stronger than the negative learning rate. Sticky choice, tendencies to repeat choices, could be driving some of this difference. The current model does not allow to test for this, however, but it could be tested in the future if we implement a regression version of RLDDM (similar to HDDMRegressor)."
   ]
  },
  {
   "cell_type": "markdown",
   "metadata": {},
   "source": [
    "### Simulate data with learning rates for positive and negative prediction errors\n",
    "Here's how you would simulate data with a learning rate for positive and negative predictions of 0.2 and 0.4, respectively:"
   ]
  },
  {
   "cell_type": "code",
   "execution_count": null,
   "metadata": {},
   "outputs": [],
   "source": [
    "hddm.generate.gen_rand_rlddm_data(a=1,t=0.3,alpha=0.2,pos_alpha=0.4,scaler=2,p_upper=0.8,p_lower=0.2,size=10)"
   ]
  },
  {
   "cell_type": "markdown",
   "metadata": {},
   "source": [
    "## 10. depends_on vs. split_by\n",
    "HDDMrl can be used to estimate separate parameters just as in the standard HDDM. But in RL you typically estimate the same learning rates and inverse temperature across conditions. That's one reason why you have to specify condition in the split_by-column instead of depends_on. (The other is that if you use depends_on the expected rewards will not get updated properly). But depends_on is still useful, for example if you want to estimate the effect of group on parameters. As an example we can simulate a dataset with two groups that have different decision thresholds:"
   ]
  },
  {
   "cell_type": "code",
   "execution_count": null,
   "metadata": {},
   "outputs": [],
   "source": [
    "data1 = hddm.generate.gen_rand_rlddm_data(a=1,t=0.3,alpha=0.4,scaler=2,p_upper=0.8,p_lower=0.2,subjs=50,size=50)\n",
    "data1['group'] = 'group1'\n",
    "data2 = hddm.generate.gen_rand_rlddm_data(a=2,t=0.3,alpha=0.4,scaler=2,p_upper=0.8,p_lower=0.2,subjs=50,size=50)\n",
    "data2['group'] = 'group2'\n",
    "group_data = data1.append(data2)\n",
    "group_data['q_init'] = 0.5\n",
    "m = hddm.HDDMrl(group_data,depends_on={'v':'group','a':'group','t':'group','alpha':'group'})\n",
    "m.sample(1500,burn=500,dbname='traces.db',db='pickle')"
   ]
  },
  {
   "cell_type": "code",
   "execution_count": null,
   "metadata": {},
   "outputs": [],
   "source": [
    "#the plot shows that the model was able to recover the different decision threshold across groups.\n",
    "a_group1, a_group2 = m.nodes_db.node[['a(group1)', 'a(group2)']]\n",
    "hddm.analyze.plot_posterior_nodes([a_group1, a_group2])\n",
    "plt.xlabel('decision threshold')\n",
    "plt.ylabel('Posterior probability')\n",
    "plt.xlim(0.7,2.3)\n",
    "plt.title('Posterior of decision threshold group means')"
   ]
  },
  {
   "cell_type": "markdown",
   "metadata": {},
   "source": [
    "## 11. Probabilistic binary outcomes vs. normally distributed outcomes\n",
    "The examples so far have all been using a task structure where the outcomes are binary and probabilistic. But the model can also be applied to other types of outcomes. Here we show how you can generate and model data with normally distributed outcomes. As you will see you don't have to do any modifications to the model estimation process, but you have to change the input for generating data. Also note that the scaling parameter (v) will scale negatively with the values of the observed outcomes because the combined drift rate needs to be plausible."
   ]
  },
  {
   "cell_type": "code",
   "execution_count": null,
   "metadata": {},
   "outputs": [],
   "source": [
    "# This is how we generated data so far, defining the probability of reward (1) for actions/stimuli associated with upper and lower boundary.\n",
    "# binary probabilistic outcomes\n",
    "hddm.generate.gen_rand_rlddm_data(a=2,t=0.3,scaler=2,alpha=0.2,size=10,p_upper=0.2,p_lower=0.8)"
   ]
  },
  {
   "cell_type": "code",
   "execution_count": null,
   "metadata": {},
   "outputs": [],
   "source": [
    "# If instead the outcomes are drawn from a normal distribution you will have to set binary_outcome to False and instead of p_upper and p_upper define the mean (mu) and sd \n",
    "# of the normal distribution for both alternatives. Note that we change the initial q-value to 0, and that we reduce the scaling factor.\n",
    "# normally distributed outcomes\n",
    "hddm.generate.gen_rand_rlddm_data(a=2,t=0.3,scaler=0.2,alpha=0.2,size=10,mu_upper=8,mu_lower=2,sd_upper=1,sd_lower=1,binary_outcome=False,q_init=0)"
   ]
  },
  {
   "cell_type": "code",
   "execution_count": null,
   "metadata": {},
   "outputs": [],
   "source": [
    "# We can generate a dataset where 30 subjects perform 50 trials each. Note that we set the scaler to be lower than for the binary outcomes as otherwise \n",
    "# the resulting drift will be unrealistically high.\n",
    "norm_data = hddm.generate.gen_rand_rlddm_data(a=2,t=0.3,scaler=0.2,alpha=0.2,size=50,subjs=30,mu_upper=8,mu_lower=2,sd_upper=2,sd_lower=2,binary_outcome=False,q_init=0)"
   ]
  },
  {
   "cell_type": "code",
   "execution_count": null,
   "metadata": {},
   "outputs": [],
   "source": [
    "#and then we can do estimation as usual\n",
    "#but first we need to define inital q-value\n",
    "norm_data['q_init'] = 0\n",
    "m_norm = hddm.HDDMrl(norm_data)\n",
    "m_norm.sample(1500,burn=500,dbname='traces.db',db='pickle')\n",
    "m_norm.print_stats()"
   ]
  },
  {
   "cell_type": "markdown",
   "metadata": {},
   "source": [
    "## 12. HDDMrlRegressor\n",
    "\n",
    "As of version 0.7.6. HDDM includes a module for estimating the impact of continuous regressor onto RLDDM parameters. The module, called HDDMrlRegressor, works the same way as the HDDMRegressor for the normal DDM. The method allows estimation of the association of e.g. neural measures onto parameters. To illustrate the method we extend the function to generate rlddm_data by adding a normally distributed regressor and including a coefficient called 'neural'.Note that to run the HDDMrlRegressor you need to include alpha when specifying the model. For more information on how to set up regressor models look at the tutorial for HDDM."
   ]
  },
  {
   "cell_type": "code",
   "execution_count": null,
   "metadata": {},
   "outputs": [],
   "source": [
    "#function to generate rlddm-data that adds a neural regressor to decision threshold\n",
    "def gen_rand_reg_rlddm_data(a, t, scaler, alpha, neural, size=1, p_upper=1, p_lower=0, z=0.5, q_init=0.5, split_by=0, subjs=1):\n",
    "    all_data = []\n",
    "    n = size\n",
    "    # set sd for variables to generate subject-parameters from group distribution\n",
    "    sd_t = 0.02\n",
    "    sd_a = 0.1\n",
    "    sd_alpha = 0.1\n",
    "    sd_v = 0.25\n",
    "    #save parameter values as group-values\n",
    "    tg = t\n",
    "    ag = a\n",
    "    alphag = alpha\n",
    "    scalerg = scaler\n",
    "    for s in range(0, subjs):\n",
    "        t = np.maximum(0.05, np.random.normal(\n",
    "            loc=tg, scale=sd_t, size=1)) if subjs > 1 else tg\n",
    "        a = np.maximum(0.05, np.random.normal(\n",
    "            loc=ag, scale=sd_a, size=1)) if subjs > 1 else ag\n",
    "        alpha = np.minimum(np.minimum(np.maximum(0.001, np.random.normal(loc=alphag, scale=sd_a, size=1)), alphag+alphag),1) if subjs > 1 else alphag\n",
    "        scaler = np.random.normal(loc=scalerg, scale=sd_v, size=1) if subjs > 1 else scalerg\n",
    "        #create a normalized regressor that is combined with the neural coefficient to create trial-by-trial values for decision threshold\n",
    "        neural_reg = np.random.normal(0,1,size=n)\n",
    "        q_up = np.tile([q_init], n)\n",
    "        q_low = np.tile([q_init], n)\n",
    "        response = np.tile([0.5], n)\n",
    "        feedback = np.tile([0.5], n)\n",
    "        rt = np.tile([0], n)\n",
    "        rew_up = np.random.binomial(1, p_upper, n).astype(float)\n",
    "        rew_low = np.random.binomial(1, p_lower, n).astype(float)\n",
    "        sim_drift = np.tile([0], n)\n",
    "        subj_idx = np.tile([s], n)\n",
    "        d = {'q_up': q_up, 'q_low': q_low, 'sim_drift': sim_drift, 'rew_up': rew_up, 'rew_low': rew_low,\n",
    "             'response': response, 'rt': rt, 'feedback': feedback, 'subj_idx': subj_idx, 'split_by': split_by, 'trial': 1, 'neural_reg': neural_reg}\n",
    "        df = pd.DataFrame(data=d)\n",
    "        df = df[['q_up', 'q_low', 'sim_drift', 'rew_up', 'rew_low',\n",
    "                 'response', 'rt', 'feedback', 'subj_idx', 'split_by', 'trial','neural_reg']]\n",
    "        #generate data trial-by-trial using the Intercept (a), regressor (neural_reg) and coefficient (neural) for decision threshold.\n",
    "        data, params = hddm.generate.gen_rand_data(\n",
    "            {'a': a + neural*df.loc[0, 'neural_reg'], 't': t, 'v': df.loc[0, 'sim_drift'], 'z': z}, subjs=1, size=1)\n",
    "        df.loc[0, 'response'] = data.response[0]\n",
    "        df.loc[0, 'rt'] = data.rt[0]\n",
    "        if (data.response[0] == 1.0):\n",
    "            df.loc[0, 'feedback'] = df.loc[0, 'rew_up']\n",
    "        else:\n",
    "            df.loc[0, 'feedback'] = df.loc[0, 'rew_low']\n",
    "\n",
    "        for i in range(1, n):\n",
    "            df.loc[i, 'trial'] = i + 1\n",
    "            df.loc[i, 'q_up'] = (df.loc[i - 1, 'q_up'] * (1 - df.loc[i - 1, 'response'])) + ((df.loc[i - 1, 'response'])\n",
    "                                                                                             * (df.loc[i - 1, 'q_up'] + (alpha * (df.loc[i - 1, 'rew_up'] - df.loc[i - 1, 'q_up']))))\n",
    "            df.loc[i, 'q_low'] = (df.loc[i - 1, 'q_low'] * (df.loc[i - 1, 'response'])) + ((1 - df.loc[i - 1, 'response'])\n",
    "                                                                                           * (df.loc[i - 1, 'q_low'] + (alpha * (df.loc[i - 1, 'rew_low'] - df.loc[i - 1, 'q_low']))))\n",
    "            df.loc[i, 'sim_drift'] = (df.loc[i, 'q_up'] - df.loc[i, 'q_low']) * (scaler)\n",
    "            data, params = hddm.generate.gen_rand_data(\n",
    "                {'a': a + neural*df.loc[i, 'neural_reg'], 't': t, 'v': df.loc[i, 'sim_drift'] , 'z': z}, subjs=1, size=1)\n",
    "            df.loc[i, 'response'] = data.response[0]\n",
    "            df.loc[i, 'rt'] = data.rt[0]\n",
    "            if (data.response[0] == 1.0):\n",
    "                df.loc[i, 'feedback'] = df.loc[i, 'rew_up']\n",
    "            else:\n",
    "                df.loc[i, 'feedback'] = df.loc[i, 'rew_low']\n",
    "        all_data.append(df)\n",
    "    all_data = pd.concat(all_data, axis=0)\n",
    "    all_data = all_data[['q_up', 'q_low', 'sim_drift', 'response',\n",
    "                         'rt', 'feedback', 'subj_idx', 'split_by', 'trial','neural_reg']]\n",
    "\n",
    "    return all_data"
   ]
  },
  {
   "cell_type": "code",
   "execution_count": null,
   "metadata": {},
   "outputs": [],
   "source": [
    "#Create data with function defined above. \n",
    "#This will create trial-by-trial values for decision threshold (a) by adding the coefficient neural (here set to 0.2) \n",
    "#multiplied by a normalized regressor (neural_reg) to the 'Intercept' value of a (here set to 1) \n",
    "data_neural = gen_rand_reg_rlddm_data(a=1,t=0.3,scaler=2,alpha=0.2,neural = 0.2,size=100,p_upper=0.7,p_lower=0.3,subjs=25)\n",
    "data_neural['q_init'] = 0.5\n",
    "data_neural.head()"
   ]
  },
  {
   "cell_type": "code",
   "execution_count": null,
   "metadata": {},
   "outputs": [],
   "source": [
    "#run a regressor model estimating the impact of 'neural' on decision threshold a. This should estimate the coefficient a_neural_reg to be 0.2\n",
    "#to run the HDDMrlRegressor you need to include alpha\n",
    "m_reg = hddm.HDDMrlRegressor(data_neural,'a ~ neural_reg',include='alpha')\n",
    "m_reg.sample(1000,burn=250)\n",
    "m_reg.print_stats()"
   ]
  },
  {
   "cell_type": "markdown",
   "metadata": {},
   "source": [
    "## 13. Regular RL without RT\n",
    "HDDMrl also includes a module to run an RL-model that uses softmax to transform q-values to probability of choosing options associated with upper (response=1) or lower (response=0) boundary. To run this model you type hddm.Hrl instead of hddm.HDDMrl. The setup is the same as for HDDMrl, and for now, the model won't run if you don't include an rt-column. This will be fixed for a future version, but for now, if you don't have RTs you can just create an rt-column where you set all rts to e.g. 0.5. You can choose to estimate separate learning rates for positive and negative learning rate by setting dual=True (see [here](#9.-Separate-learning-rates-for-positive-and-negative-prediction-errors) for more information). The model will by default estimate posterior distributions for the alpha and v parameters. The probability of choosing upper boundary is captured as: <br><br>\n",
    "&nbsp;&nbsp;&nbsp;&nbsp;&nbsp;&nbsp;$p_{up} =(e^{-2*z*d_t}-1)/ (e^{-2*d_t}-1)$, <br><br>\n",
    "where ${d_t}=q_{up_t}-q_{low}*v$ and z represents starting point (which for now is fixed to be 0.5). <br>\n",
    "This calculation is equivalent to soft-max transformation when z=0.5."
   ]
  },
  {
   "cell_type": "code",
   "execution_count": null,
   "metadata": {},
   "outputs": [],
   "source": [
    "#run the model by calling hddm.Hrl (instead of hddm.HDDM for normal model and hddm.HDDMrl for rlddm-model)\n",
    "m_rl = hddm.Hrl(data)\n",
    "#set sample and burn-in\n",
    "m_rl.sample(1500,burn=500,dbname='traces.db',db='pickle')\n",
    "#print stats to get an overview of posterior distribution of estimated parameters\n",
    "m_rl.print_stats()"
   ]
  },
  {
   "cell_type": "markdown",
   "metadata": {},
   "source": [
    "Parameter estimates from the pure RL-model are a bit different compared to the RLDDM. This is to be expected as probability of choice in DDM is dependent both on the decsision threshold and the scaled difference in q-values, whereas the RL model only uses the scaled difference in q-values. "
   ]
  },
  {
   "cell_type": "code",
   "execution_count": null,
   "metadata": {},
   "outputs": [],
   "source": [
    "m_rl.plot_posteriors()"
   ]
  },
  {
   "cell_type": "markdown",
   "metadata": {},
   "source": [
    "__Fig.__ Mixing and autocorrelation looks good."
   ]
  },
  {
   "cell_type": "code",
   "execution_count": null,
   "metadata": {},
   "outputs": [],
   "source": [
    "# estimate convergence\n",
    "models = []\n",
    "for i in range(3):\n",
    "    m = hddm.Hrl(data=data)\n",
    "    m.sample(1500, burn=500,dbname='traces.db',db='pickle')\n",
    "    models.append(m)\n",
    "#get max gelman-statistic value. shouldn't be higher than 1.1\n",
    "np.max(list(gelman_rubin(models).values()))"
   ]
  },
  {
   "cell_type": "markdown",
   "metadata": {},
   "source": [
    "Convergence looks good, i.e. no parameters with gelman-rubin statistic > 1.1."
   ]
  },
  {
   "cell_type": "code",
   "execution_count": null,
   "metadata": {},
   "outputs": [],
   "source": [
    "# Create a new model that has all traces concatenated\n",
    "# of individual models.\n",
    "m_rl = kabuki.utils.concat_models(models)"
   ]
  },
  {
   "cell_type": "code",
   "execution_count": null,
   "metadata": {},
   "outputs": [],
   "source": [
    "alpha, v = m_rl.nodes_db.node[['alpha','v']]\n",
    "samples = {'alpha':alpha.trace(),'v':v.trace()}\n",
    "samp = pd.DataFrame(data=samples)\n",
    "\n",
    "def corrfunc(x, y, **kws):\n",
    "    r, _ = stats.pearsonr(x, y)\n",
    "    ax = plt.gca()\n",
    "    ax.annotate(\"r = {:.2f}\".format(r),\n",
    "                xy=(.1, .9), xycoords=ax.transAxes)\n",
    "\n",
    "g = sns.PairGrid(samp, palette=[\"red\"])\n",
    "g.map_upper(plt.scatter, s=10)\n",
    "g.map_diag(sns.distplot, kde=False)\n",
    "g.map_lower(sns.kdeplot, cmap=\"Blues_d\")\n",
    "\n",
    "g.map_lower(corrfunc)"
   ]
  },
  {
   "cell_type": "markdown",
   "metadata": {},
   "source": [
    "__Fig.__ The correlation in the posterior distribution for alpha and v/scaling is somewhat negative."
   ]
  },
  {
   "cell_type": "markdown",
   "metadata": {},
   "source": [
    "## Posterior predictive check\n",
    "We can also do posterior predictive check on the RL-model by generating new data with hddm.generate.gen_rand_rl_data."
   ]
  },
  {
   "cell_type": "code",
   "execution_count": null,
   "metadata": {},
   "outputs": [],
   "source": [
    "#create empty dataframe to store simulated data\n",
    "sim_data = pd.DataFrame()\n",
    "#create a column samp to be used to identify the simulated data sets\n",
    "data['samp'] = 0\n",
    "#load traces\n",
    "traces = m_rl.get_traces()\n",
    "#decide how many times to repeat simulation process. repeating this multiple times is generally recommended as it better captures the uncertainty in the posterior distribution, but will also take some time\n",
    "for i in tqdm(range(1,51)):\n",
    "    #randomly select a row in the traces to use for extracting parameter values\n",
    "    sample = np.random.randint(0,traces.shape[0]-1)\n",
    "    #loop through all subjects in observed data\n",
    "    for s in data.subj_idx.unique():\n",
    "        #get number of trials for each condition.\n",
    "        size0 = len(data[(data['subj_idx']==s) & (data['split_by']==0)].trial.unique())\n",
    "        size1 = len(data[(data['subj_idx']==s) & (data['split_by']==1)].trial.unique())\n",
    "        size2 = len(data[(data['subj_idx']==s) & (data['split_by']==2)].trial.unique())\n",
    "        #set parameter values for simulation\n",
    "        scaler = traces.loc[sample,'v_subj.'+str(s)]\n",
    "        alphaInv = traces.loc[sample,'alpha_subj.'+str(s)]\n",
    "        #take inverse logit of estimated alpha\n",
    "        alpha = np.exp(alphaInv)/(1+np.exp(alphaInv))\n",
    "        #simulate data for each condition changing only values of size, p_upper, p_lower and split_by between conditions.\n",
    "        sim_data0 = hddm.generate.gen_rand_rl_data(scaler=scaler,alpha=alpha,size=size0,p_upper=0.8,p_lower=0.2,split_by=0)\n",
    "        sim_data1 = hddm.generate.gen_rand_rl_data(scaler=scaler,alpha=alpha,size=size1,p_upper=0.7,p_lower=0.3,split_by=1)\n",
    "        sim_data2 = hddm.generate.gen_rand_rl_data(scaler=scaler,alpha=alpha,size=size2,p_upper=0.6,p_lower=0.4,split_by=2)\n",
    "        #append the conditions\n",
    "        sim_data0 = sim_data0.append([sim_data1,sim_data2],ignore_index=True)\n",
    "        #assign subj_idx\n",
    "        sim_data0['subj_idx'] = s\n",
    "        #identify that these are simulated data\n",
    "        sim_data0['type'] = 'simulated'\n",
    "        #identify the simulated data\n",
    "        sim_data0['samp'] = i\n",
    "        #append data from each subject\n",
    "        sim_data = sim_data.append(sim_data0,ignore_index=True)\n",
    "#combine observed and simulated data\n",
    "ppc_rl_data = data[['subj_idx','response','split_by','trial','feedback','samp']].copy()\n",
    "ppc_rl_data['type'] = 'observed'\n",
    "ppc_rl_sdata = sim_data[['subj_idx','response','split_by','trial','feedback','type','samp']].copy()\n",
    "ppc_rl_data = ppc_rl_data.append(ppc_rl_sdata)"
   ]
  },
  {
   "cell_type": "code",
   "execution_count": null,
   "metadata": {},
   "outputs": [],
   "source": [
    "#for practical reasons we only look at the first 40 trials for each subject in a given condition\n",
    "plot_ppc_rl_data = ppc_rl_data[ppc_rl_data.trial<41].copy()"
   ]
  },
  {
   "cell_type": "code",
   "execution_count": null,
   "metadata": {},
   "outputs": [],
   "source": [
    "#bin trials to for smoother estimate of response proportion across learning\n",
    "plot_ppc_rl_data['bin_trial'] = pd.cut(plot_ppc_rl_data.trial,11,labels=np.linspace(0, 10,11)).astype('int64')\n",
    "#calculate means for each sample\n",
    "sums = plot_ppc_rl_data.groupby(['bin_trial','split_by','samp','type']).mean().reset_index()\n",
    "#calculate the overall mean response across samples\n",
    "ppc_rl_sim = sums.groupby(['bin_trial','split_by','type']).mean().reset_index()\n",
    "#initiate columns that will have the upper and lower bound of the hpd\n",
    "ppc_rl_sim['upper_hpd'] = 0\n",
    "ppc_rl_sim['lower_hpd'] = 0\n",
    "for i in range(0,ppc_rl_sim.shape[0]):\n",
    "    #calculate the hpd/hdi of the predicted mean responses across bin_trials\n",
    "    hdi = pymc.utils.hpd(sums.response[(sums['bin_trial']==ppc_rl_sim.bin_trial[i]) & (sums['split_by']==ppc_rl_sim.split_by[i]) & (sums['type']==ppc_rl_sim.type[i])],alpha=0.1)\n",
    "    ppc_rl_sim.loc[i,'upper_hpd'] = hdi[1]\n",
    "    ppc_rl_sim.loc[i,'lower_hpd'] = hdi[0]\n",
    "#calculate error term as the distance from upper bound to mean\n",
    "ppc_rl_sim['up_err'] = ppc_rl_sim['upper_hpd']-ppc_rl_sim['response']\n",
    "ppc_rl_sim['low_err'] = ppc_rl_sim['response']-ppc_rl_sim['lower_hpd']\n",
    "ppc_rl_sim['model'] = 'RL'"
   ]
  },
  {
   "cell_type": "code",
   "execution_count": null,
   "metadata": {},
   "outputs": [],
   "source": [
    "#plotting evolution of choice proportion for best option across learning for observed and simulated data. Compared for RL and RLDDM models, both with single learnign rate.\n",
    "fig, axs = plt.subplots(figsize=(15, 5),nrows=1, ncols=3, sharex=True,sharey=True)\n",
    "for i in range(0,3):\n",
    "    ax = axs[i]\n",
    "    d_single = ppc_sim[(ppc_sim.split_by==i) & (ppc_sim.type=='simulated')]\n",
    "    #slightly move bin_trial to avoid overlap in errorbars\n",
    "    d_single['bin_trial'] += 0.2\n",
    "    ax.errorbar(d_single.bin_trial, d_single.response, yerr=[d_single.low_err,d_single.up_err], label='simulated_RLDDM',color='orange')\n",
    "    ax = axs[i]\n",
    "    d_rl = ppc_rl_sim[(ppc_rl_sim.split_by==i) & (ppc_rl_sim.type=='simulated')]\n",
    "    ax.errorbar(d_rl.bin_trial, d_rl.response, yerr=[d_rl.low_err,d_rl.up_err], label='simulated_RL',color='green')\n",
    "    ax = axs[i]\n",
    "    d = ppc_sim[(ppc_dual_sim.split_by==i) & (ppc_dual_sim.type=='observed')]\n",
    "    ax.plot(d.bin_trial, d.response,linewidth=3,label='observed')\n",
    "    ax.set_title('split_by = %i' %i,fontsize=20)\n",
    "    ax.set_ylabel('mean response')\n",
    "    ax.set_xlabel('trial')\n",
    "plt.xlim(-0.5,10.5)\n",
    "plt.legend()"
   ]
  },
  {
   "cell_type": "markdown",
   "metadata": {},
   "source": [
    "__Fig.__ The predicted choice for the RL-model is very similar to what was predicted in the RLDDM. That is not surprising given that they use the same calculation to get the choice likelihood. The difference between them is instead that the RLDDM could potentially detect the unique contribution of the scaling/drift parameter and the decision threshold onto choice."
   ]
  },
  {
   "cell_type": "markdown",
   "metadata": {},
   "source": [
    "### Misprediction across learning\n",
    "Another way to visualize this is to look at how the predicted choice misses on the observed across learning, i.e. predicted-observed. As for the other plots we see that the two methods are very similar. "
   ]
  },
  {
   "cell_type": "code",
   "execution_count": null,
   "metadata": {},
   "outputs": [],
   "source": [
    "#rl\n",
    "error_prediction = plot_ppc_rl_data.groupby(['split_by','type','bin_trial'])['response'].mean().reset_index()\n",
    "ep = error_prediction.pivot_table(index=['split_by','bin_trial'],columns='type',values='response').reset_index()\n",
    "ep['diff'] = ep['simulated']-ep['observed']\n",
    "ep['model'] = 'RL'\n",
    "#rlddm\n",
    "error_prediction = plot_ppc_data.groupby(['split_by','type','bin_trial'])['response'].mean().reset_index()\n",
    "ep_rlddm = error_prediction.pivot_table(index=['split_by','bin_trial'],columns='type',values='response').reset_index()\n",
    "ep_rlddm['diff'] = ep_rlddm['simulated']-ep_rlddm['observed']\n",
    "ep_rlddm['model'] = 'RLDDM'\n",
    "#combine\n",
    "ep = ep.append(ep_rlddm)\n",
    "#plot\n",
    "g = sns.relplot(x='bin_trial',y='diff',col='split_by',hue='model',kind='line',ci=False,data=ep,palette=\"Set2_r\")\n",
    "g.map(plt.axhline, y=0, ls=\":\", c=\".5\")"
   ]
  },
  {
   "cell_type": "code",
   "execution_count": null,
   "metadata": {},
   "outputs": [],
   "source": []
  }
 ],
 "metadata": {
  "interpreter": {
   "hash": "a445e8b86844784ad439c05402e9f190af217ba9ac3e10cbacead74ef6ea1c6a"
  },
  "kernelspec": {
   "display_name": "Python 3",
   "language": "python",
   "name": "python3"
  },
  "language_info": {
   "codemirror_mode": {
    "name": "ipython",
    "version": 3
   },
   "file_extension": ".py",
   "mimetype": "text/x-python",
   "name": "python",
   "nbconvert_exporter": "python",
   "pygments_lexer": "ipython3",
   "version": "3.8.12"
  }
 },
 "nbformat": 4,
 "nbformat_minor": 4
}
