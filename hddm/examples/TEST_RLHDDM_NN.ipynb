{
 "cells": [
  {
   "cell_type": "code",
   "execution_count": 2,
   "metadata": {},
   "outputs": [
    {
     "name": "stdout",
     "output_type": "stream",
     "text": [
      "tanh\n",
      "tanh\n",
      "tanh\n",
      "linear\n"
     ]
    },
    {
     "name": "stderr",
     "output_type": "stream",
     "text": [
      "/users/kbera1/anaconda3/envs/hddm_py38/lib/python3.8/site-packages/IPython/parallel.py:12: ShimWarning: The `IPython.parallel` package has been deprecated since IPython 4.0. You should import from ipyparallel instead.\n",
      "  warn(\"The `IPython.parallel` package has been deprecated since IPython 4.0. \"\n"
     ]
    }
   ],
   "source": [
    "#import\n",
    "import pandas as pd\n",
    "import numpy as np\n",
    "import hddm\n",
    "from scipy import stats\n",
    "import seaborn as sns\n",
    "import matplotlib.pyplot as plt\n",
    "import pymc\n",
    "import kabuki\n",
    "sns.set(style=\"white\")\n",
    "%matplotlib inline\n",
    "from tqdm import tqdm\n",
    "import warnings\n",
    "warnings.filterwarnings(\"ignore\", category=np.VisibleDeprecationWarning)"
   ]
  },
  {
   "cell_type": "code",
   "execution_count": 2,
   "metadata": {},
   "outputs": [],
   "source": [
    "# #load data. you will find this dataset in your hddm-folder under hddm/examples/rlddm_data.csv\n",
    "# data = hddm.load_csv('rlddm_data.csv')\n",
    "# if np.any(data[\"response\"] != 1.0):\n",
    "#     idx = data[\"response\"] < 1.0\n",
    "#     data.loc[idx, \"response\"] = -1.0\n",
    "# #check structure\n",
    "# data = data.loc[data['subj_idx'] == 42, :] #head()\n",
    "# data.head()"
   ]
  },
  {
   "cell_type": "code",
   "execution_count": 3,
   "metadata": {},
   "outputs": [
    {
     "data": {
      "text/html": [
       "<div>\n",
       "<style scoped>\n",
       "    .dataframe tbody tr th:only-of-type {\n",
       "        vertical-align: middle;\n",
       "    }\n",
       "\n",
       "    .dataframe tbody tr th {\n",
       "        vertical-align: top;\n",
       "    }\n",
       "\n",
       "    .dataframe thead th {\n",
       "        text-align: right;\n",
       "    }\n",
       "</style>\n",
       "<table border=\"1\" class=\"dataframe\">\n",
       "  <thead>\n",
       "    <tr style=\"text-align: right;\">\n",
       "      <th></th>\n",
       "      <th>q_up</th>\n",
       "      <th>q_low</th>\n",
       "      <th>sim_drift</th>\n",
       "      <th>response</th>\n",
       "      <th>rt</th>\n",
       "      <th>feedback</th>\n",
       "      <th>subj_idx</th>\n",
       "      <th>split_by</th>\n",
       "      <th>trial</th>\n",
       "      <th>q_init</th>\n",
       "    </tr>\n",
       "  </thead>\n",
       "  <tbody>\n",
       "    <tr>\n",
       "      <th>0</th>\n",
       "      <td>0.5</td>\n",
       "      <td>0.500</td>\n",
       "      <td>0.000</td>\n",
       "      <td>-1.0</td>\n",
       "      <td>0.543</td>\n",
       "      <td>1.0</td>\n",
       "      <td>0</td>\n",
       "      <td>0</td>\n",
       "      <td>1</td>\n",
       "      <td>0.5</td>\n",
       "    </tr>\n",
       "    <tr>\n",
       "      <th>1</th>\n",
       "      <td>0.5</td>\n",
       "      <td>0.600</td>\n",
       "      <td>-0.200</td>\n",
       "      <td>-1.0</td>\n",
       "      <td>0.346</td>\n",
       "      <td>0.0</td>\n",
       "      <td>0</td>\n",
       "      <td>0</td>\n",
       "      <td>2</td>\n",
       "      <td>0.5</td>\n",
       "    </tr>\n",
       "    <tr>\n",
       "      <th>2</th>\n",
       "      <td>0.5</td>\n",
       "      <td>0.480</td>\n",
       "      <td>0.040</td>\n",
       "      <td>-1.0</td>\n",
       "      <td>0.495</td>\n",
       "      <td>0.0</td>\n",
       "      <td>0</td>\n",
       "      <td>0</td>\n",
       "      <td>3</td>\n",
       "      <td>0.5</td>\n",
       "    </tr>\n",
       "    <tr>\n",
       "      <th>3</th>\n",
       "      <td>0.5</td>\n",
       "      <td>0.384</td>\n",
       "      <td>0.232</td>\n",
       "      <td>1.0</td>\n",
       "      <td>0.418</td>\n",
       "      <td>0.0</td>\n",
       "      <td>0</td>\n",
       "      <td>0</td>\n",
       "      <td>4</td>\n",
       "      <td>0.5</td>\n",
       "    </tr>\n",
       "    <tr>\n",
       "      <th>4</th>\n",
       "      <td>0.4</td>\n",
       "      <td>0.384</td>\n",
       "      <td>0.032</td>\n",
       "      <td>1.0</td>\n",
       "      <td>0.638</td>\n",
       "      <td>1.0</td>\n",
       "      <td>0</td>\n",
       "      <td>0</td>\n",
       "      <td>5</td>\n",
       "      <td>0.5</td>\n",
       "    </tr>\n",
       "  </tbody>\n",
       "</table>\n",
       "</div>"
      ],
      "text/plain": [
       "   q_up  q_low  sim_drift  response     rt  feedback  subj_idx  split_by  \\\n",
       "0   0.5  0.500      0.000      -1.0  0.543       1.0         0         0   \n",
       "1   0.5  0.600     -0.200      -1.0  0.346       0.0         0         0   \n",
       "2   0.5  0.480      0.040      -1.0  0.495       0.0         0         0   \n",
       "3   0.5  0.384      0.232       1.0  0.418       0.0         0         0   \n",
       "4   0.4  0.384      0.032       1.0  0.638       1.0         0         0   \n",
       "\n",
       "   trial  q_init  \n",
       "0      1     0.5  \n",
       "1      2     0.5  \n",
       "2      3     0.5  \n",
       "3      4     0.5  \n",
       "4      5     0.5  "
      ]
     },
     "execution_count": 3,
     "metadata": {},
     "output_type": "execute_result"
    }
   ],
   "source": [
    "data = hddm.generate.gen_rand_rlddm_data(a=1,t=0.3,alpha=0.2,scaler=2,p_upper=0.8,p_lower=0.2,subjs=1,split_by=0,size=500)\n",
    "if np.any(data[\"response\"] != 1.0):\n",
    "    idx = data[\"response\"] < 1.0\n",
    "    data.loc[idx, \"response\"] = -1.0\n",
    "\n",
    "data['q_init'] = 0.5\n",
    "# data.insert(-1, \"q_init\", [0.5]*500)\n",
    "data.head()"
   ]
  },
  {
   "cell_type": "markdown",
   "metadata": {},
   "source": [
    "The columns in the datafile represent: __subj_idx__ (subject id), __response__ (1=best option), __cond__ (identifies condition, but not used in model), __rt__ (in seconds), 0=worst option), __trial__ (the trial-iteration for a subject within each condition), __split_by__ (identifying condition, used for running the model), __feedback__ (whether the response given was rewarded or not), __q_init__ (the initial q-value used for the model, explained above)."
   ]
  },
  {
   "cell_type": "code",
   "execution_count": 4,
   "metadata": {},
   "outputs": [
    {
     "name": "stdout",
     "output_type": "stream",
     "text": [
      "{}\n",
      "()\n",
      "No model attribute --> setting up standard HDDM\n",
      "Includes supplied:  ()\n",
      "printing self.nn\n",
      "False\n",
      "Set model to ddm\n",
      " [-----------------100%-----------------] 1000 of 1000 complete in 18.6 sec           mean       std      2.5q       25q       50q       75q     97.5q    mc err\n",
      "a      0.491868  0.012677  0.468875  0.483009  0.490957  0.500209  0.518618  0.000589\n",
      "v      2.143203  0.153771  1.810362  2.044224  2.149758  2.248361  2.443494  0.006283\n",
      "t      0.305087  0.003497  0.297983  0.302847  0.305183  0.307493  0.311518  0.000153\n",
      "alpha  -1.29306  0.382579 -2.061608 -1.521492 -1.281001 -1.029968 -0.591476  0.014851\n",
      "DIC: -124.627974\n",
      "deviance: -128.629630\n",
      "pD: 4.001656\n"
     ]
    }
   ],
   "source": [
    "#run the model by calling hddm.HDDMrl (instead of hddm.HDDM for normal HDDM)\n",
    "m = hddm.HDDMrl(data)\n",
    "\n",
    "#set sample and burn-in\n",
    "m.sample(1000,burn=100,dbname='traces.db',db='pickle')\n",
    "#print stats to get an overview of posterior distribution of estimated parameters\n",
    "m.print_stats()"
   ]
  },
  {
   "cell_type": "code",
   "execution_count": 26,
   "metadata": {},
   "outputs": [
    {
     "name": "stdout",
     "output_type": "stream",
     "text": [
      "<class 'pandas.core.frame.DataFrame'>\n",
      "0     -1.455909\n",
      "1     -1.046740\n",
      "2     -0.800078\n",
      "3     -1.373694\n",
      "4     -1.027538\n",
      "         ...   \n",
      "895   -1.857614\n",
      "896   -1.504128\n",
      "897   -1.482846\n",
      "898   -1.576156\n",
      "899   -1.564445\n",
      "Name: alpha, Length: 900, dtype: float64\n",
      "(900,)\n"
     ]
    }
   ],
   "source": [
    "obj = m.get_traces()\n",
    "print(type(obj))\n",
    "print(obj['alpha'])\n",
    "np_obj = obj['alpha'].to_numpy()\n",
    "print(np_obj.shape)"
   ]
  },
  {
   "cell_type": "code",
   "execution_count": 13,
   "metadata": {},
   "outputs": [
    {
     "data": {
      "text/plain": [
       "{'non_centered': False,\n",
       " 'dual': False,\n",
       " 'alpha': True,\n",
       " 'wfpt_rl_class': pymc.distributions.new_dist_class.<locals>.new_class,\n",
       " 'nn': False,\n",
       " 'slice_widths': {'a': 1,\n",
       "  't': 0.01,\n",
       "  'a_std': 1,\n",
       "  't_std': 0.15,\n",
       "  'sz': 1.1,\n",
       "  'v': 1.5,\n",
       "  'st': 0.1,\n",
       "  'sv': 3,\n",
       "  'z_trans': 0.2,\n",
       "  'z': 0.1,\n",
       "  'p_outlier': 1.0,\n",
       "  'v_std': 1,\n",
       "  'alpha': 1.5,\n",
       "  'pos_alpha': 1.5},\n",
       " 'emcee_dispersions': {'a': 1,\n",
       "  't': 0.1,\n",
       "  'a_std': 1,\n",
       "  't_std': 0.15,\n",
       "  'sz': 1.1,\n",
       "  'v': 1.5,\n",
       "  'st': 0.1,\n",
       "  'sv': 3,\n",
       "  'z_trans': 0.2,\n",
       "  'z': 0.1,\n",
       "  'p_outlier': 1.0,\n",
       "  'v_std': 1,\n",
       "  'alpha': 1.5,\n",
       "  'pos_alpha': 1.5},\n",
       " 'is_informative': True,\n",
       " 'default_intervars': {'sz': 0, 'st': 0, 'sv': 0},\n",
       " '_kwargs': {},\n",
       " 'model': 'ddm',\n",
       " 'include': {'a', 't', 'v'},\n",
       " 'wiener_params': {'err': 0.0001,\n",
       "  'n_st': 2,\n",
       "  'n_sz': 2,\n",
       "  'use_adaptive': 1,\n",
       "  'simps_err': 0.001,\n",
       "  'w_outlier': 0.1},\n",
       " 'p_outlier': 0.05,\n",
       " 'cdf_range': (-2.5910000000024347, 2.5910000000024347),\n",
       " 'wfpt_class': pymc.distributions.new_dist_class.<locals>.new_class,\n",
       " 'std_depends': False,\n",
       " 'plot_subjs': False,\n",
       " 'depends_on': None,\n",
       " 'mc': <pymc.MCMC.MCMC at 0x7f8b823fc970>,\n",
       " 'data':          q_up     q_low  sim_drift  response     rt  feedback  subj_idx  \\\n",
       " 0    0.500000  0.500000   0.000000      -1.0  0.543       1.0         0   \n",
       " 1    0.500000  0.600000  -0.200000      -1.0  0.346       0.0         0   \n",
       " 2    0.500000  0.480000   0.040000      -1.0  0.495       0.0         0   \n",
       " 3    0.500000  0.384000   0.232000       1.0  0.418       0.0         0   \n",
       " 4    0.400000  0.384000   0.032000       1.0  0.638       1.0         0   \n",
       " ..        ...       ...        ...       ...    ...       ...       ...   \n",
       " 495  0.682135  0.070884   1.222501       1.0  0.472       1.0         0   \n",
       " 496  0.745708  0.070884   1.349647       1.0  0.484       1.0         0   \n",
       " 497  0.796566  0.070884   1.451364       1.0  0.460       1.0         0   \n",
       " 498  0.837253  0.070884   1.532737      -1.0  0.751       0.0         0   \n",
       " 499  0.837253  0.056707   1.561091       1.0  0.366       1.0         0   \n",
       " \n",
       "      split_by  trial  q_init  \n",
       " 0           0      1     0.5  \n",
       " 1           0      2     0.5  \n",
       " 2           0      3     0.5  \n",
       " 3           0      4     0.5  \n",
       " 4           0      5     0.5  \n",
       " ..        ...    ...     ...  \n",
       " 495         0    496     0.5  \n",
       " 496         0    497     0.5  \n",
       " 497         0    498     0.5  \n",
       " 498         0    499     0.5  \n",
       " 499         0    500     0.5  \n",
       " \n",
       " [500 rows x 10 columns],\n",
       " 'group_only_nodes': (),\n",
       " 'depends': defaultdict(<function kabuki.hierarchical.Hierarchical.__init__.<locals>.<lambda>()>,\n",
       "             {'a': (), 'v': (), 't': (), 'alpha': ()}),\n",
       " 'is_group_model': False,\n",
       " '_num_subjs': 1,\n",
       " 'num_subjs': 1,\n",
       " 'sampled': True,\n",
       " 'dbname': 'ram',\n",
       " 'db': None,\n",
       " 'knodes': [a, v, t, alpha, wfpt],\n",
       " 'nodes_db':       knode_name stochastic observed   subj   node tag depends hidden q_up  \\\n",
       " a              a       True    False  False      a  ()      []  False  NaN   \n",
       " v              v       True    False  False      v  ()      []  False  NaN   \n",
       " t              t       True    False  False      t  ()      []  False  NaN   \n",
       " alpha      alpha       True    False  False  alpha  ()      []  False  NaN   \n",
       " wfpt        wfpt      False     True  False   wfpt  ()      []  False  NaN   \n",
       " \n",
       "       q_low  ... trial q_init      mean       std      2.5q       25q  \\\n",
       " a       NaN  ...   NaN    NaN  0.491868  0.012677  0.468875  0.483009   \n",
       " v       NaN  ...   NaN    NaN  2.143203  0.153771  1.810362  2.044224   \n",
       " t       NaN  ...   NaN    NaN  0.305087  0.003497  0.297983  0.302847   \n",
       " alpha   NaN  ...   NaN    NaN  -1.29306  0.382579 -2.061608 -1.521492   \n",
       " wfpt    NaN  ...   NaN    NaN       NaN       NaN       NaN       NaN   \n",
       " \n",
       "             50q       75q     97.5q    mc err  \n",
       " a      0.490957  0.500209  0.518618  0.000589  \n",
       " v      2.149758  2.248361  2.443494  0.006283  \n",
       " t      0.305183  0.307493  0.311518  0.000153  \n",
       " alpha -1.281001 -1.029968 -0.591476  0.014851  \n",
       " wfpt        NaN       NaN       NaN       NaN  \n",
       " \n",
       " [5 rows x 26 columns],\n",
       " '_stats': {'v': {'n': 900,\n",
       "   'standard deviation': 0.15377145173993048,\n",
       "   'mean': 2.143203411730309,\n",
       "   '95% HPD interval': array([1.86938854, 2.4929211 ]),\n",
       "   'mc error': 0.006283324230665195,\n",
       "   'quantiles': {2.5: 1.8103622311292842,\n",
       "    25: 2.044224456628334,\n",
       "    50: 2.149757917948528,\n",
       "    75: 2.2483606596054977,\n",
       "    97.5: 2.443494017212983}},\n",
       "  'alpha': {'n': 900,\n",
       "   'standard deviation': 0.3825794142473854,\n",
       "   'mean': -1.2930599775024625,\n",
       "   '95% HPD interval': array([-2.04384779, -0.58767856]),\n",
       "   'mc error': 0.014850676628101361,\n",
       "   'quantiles': {2.5: -2.061607511284569,\n",
       "    25: -1.5214915534584381,\n",
       "    50: -1.2810010640897314,\n",
       "    75: -1.0299683950514864,\n",
       "    97.5: -0.5914764431111195}},\n",
       "  't': {'n': 900,\n",
       "   'standard deviation': 0.003497127439590626,\n",
       "   'mean': 0.3050869999091115,\n",
       "   '95% HPD interval': array([0.29798292, 0.31151771]),\n",
       "   'mc error': 0.00015282980682099207,\n",
       "   'quantiles': {2.5: 0.2979829200854178,\n",
       "    25: 0.3028474314107243,\n",
       "    50: 0.30518311664460973,\n",
       "    75: 0.3074927726546668,\n",
       "    97.5: 0.3115177132872291}},\n",
       "  'a': {'n': 900,\n",
       "   'standard deviation': 0.012676877967736462,\n",
       "   'mean': 0.4918680780229805,\n",
       "   '95% HPD interval': array([0.47053577, 0.51949673]),\n",
       "   'mc error': 0.0005893847872714545,\n",
       "   'quantiles': {2.5: 0.4688752943447134,\n",
       "    25: 0.4830086127691843,\n",
       "    50: 0.4909566706283168,\n",
       "    75: 0.5002089854668932,\n",
       "    97.5: 0.5186181613452849}}},\n",
       " '_stats_chain': 1}"
      ]
     },
     "execution_count": 13,
     "metadata": {},
     "output_type": "execute_result"
    }
   ],
   "source": [
    "m.__dict__"
   ]
  },
  {
   "cell_type": "markdown",
   "metadata": {},
   "source": [
    "__Interpreting output from print_stats:__  <br>\n",
    "The model estimates group mean and standard deviation parameters and subject parameters for the following latent variables: <br>\n",
    "a = decision threshold <br>\n",
    "v = scaling parameter <br>\n",
    "t = non-decision time <br>\n",
    "alpha = learning rate, note that it's not bound between 0 and 1. to transform take inverse logit: np.exp(alpha)/(1+np.exp(alpha)) <br>\n",
    "The columns represent the mean, standard deviation and quantiles of the approximated posterior distribution of each parameter"
   ]
  },
  {
   "cell_type": "markdown",
   "metadata": {},
   "source": [
    "### HDDMrl vs. HDDM\n",
    "__There are a few things to note that is different from the normal HDDM model.__ <br>\n",
    "First of all, the estimated learning rate does not necessarily fall between 0 and 1. This is because it is estimated as a normal distribution for purposes of sampling hierarchically and then transformed by an inverse logit function to 0<alpha<1. So to interpret alpha as learning rate you have to transform the samples in the trace back with np.exp(alpha)/(1+np.exp(alpha)). And if you estimate separate learning rates for positive and negative prediction errors ([see here](#9.-Separate-learning-rates-for-positive-and-negative-prediction-errors)) then you get learning rate for negative prediction errors with np.exp(alpha)/(1+np.exp(alpha)) and positive prediction errors with np.exp(pos_alpha)/(1+np.exp(pos_alpha)).<br>\n",
    "Second, the v-parameter in the output is the scaling factor that is multiplied by the difference in q-values, so it is not the actual drift rate (or rather, it is the equivalent drift rate when the difference in Q values is exactly 1)."
   ]
  },
  {
   "cell_type": "markdown",
   "metadata": {},
   "source": [
    "## 6. Checking results"
   ]
  },
  {
   "cell_type": "code",
   "execution_count": null,
   "metadata": {},
   "outputs": [],
   "source": [
    "# plot the posteriors of parameters \n",
    "m.plot_posteriors()"
   ]
  },
  {
   "cell_type": "code",
   "execution_count": null,
   "metadata": {},
   "outputs": [],
   "source": [
    "import hddm.simulators\n",
    "out_vanilla = hddm.simulators.simulator(theta = [1, 2, 0.5, 1], model = 'ddm_vanilla', n_samples = 5000)\n",
    "out_ddm = hddm.simulators.simulator(theta = [1, 1.0, 0.5, 1], model='ddm', n_samples = 5000)"
   ]
  },
  {
   "cell_type": "code",
   "execution_count": null,
   "metadata": {},
   "outputs": [],
   "source": [
    "np.mean(out_vanilla[0][out_vanilla[1] == 1])"
   ]
  },
  {
   "cell_type": "code",
   "execution_count": null,
   "metadata": {},
   "outputs": [],
   "source": [
    "out_vanilla[1][out_vanilla[1] == 1].shape"
   ]
  },
  {
   "cell_type": "code",
   "execution_count": null,
   "metadata": {},
   "outputs": [],
   "source": [
    "np.mean(out_ddm[0][out_ddm[1] == 1])"
   ]
  },
  {
   "cell_type": "code",
   "execution_count": null,
   "metadata": {},
   "outputs": [],
   "source": [
    "out_ddm[1][out_ddm[1] == 1].shape"
   ]
  },
  {
   "cell_type": "markdown",
   "metadata": {},
   "source": [
    "### Convergence of chains\n",
    "The Gelman-Rubin statistic is a test of whether the chains in the model converges. The Gelman-Ruben statistic measures the degree of variation between and within chains. Values close to 1 indicate convergence and that there is small variation between chains, i.e. that they end up as the same distribution across chains. A common heuristic is to assume convergence if all values are below 1.1. To run this you need to run multiple models, combine them and perform the Gelman-Rubin statistic:"
   ]
  },
  {
   "cell_type": "code",
   "execution_count": null,
   "metadata": {},
   "outputs": [],
   "source": [
    "# estimate convergence\n",
    "from kabuki.analyze import gelman_rubin\n",
    "\n",
    "models = []\n",
    "for i in range(3):\n",
    "    m = hddm.HDDMrl(data=data)\n",
    "    m.sample(1500, burn=500,dbname='traces.db',db='pickle')\n",
    "    models.append(m)\n",
    "\n",
    "gelman_rubin(models)"
   ]
  },
  {
   "cell_type": "code",
   "execution_count": null,
   "metadata": {},
   "outputs": [],
   "source": [
    "np.max(list(gelman_rubin(models).values()))"
   ]
  },
  {
   "cell_type": "markdown",
   "metadata": {},
   "source": [
    "The model seems to have converged, i.e. the Gelman-Rubin statistic is below 1.1 for all parameters. It is important to always run this test, especially for more complex models ([as with separate learning rates for positive and negative prediction errors](#9.-Separate-learning-rates-for-positive-and-negative-prediction-errors)). So now we can combine these three models to get a better approximation of the posterior distribution."
   ]
  },
  {
   "cell_type": "code",
   "execution_count": null,
   "metadata": {},
   "outputs": [],
   "source": [
    "# Combine the models we ran to test for convergence.\n",
    "m = kabuki.utils.concat_models(models)"
   ]
  },
  {
   "cell_type": "markdown",
   "metadata": {},
   "source": [
    "### Joint posterior distribution\n",
    "Another test of the model is to look at collinearity. If the estimation of parameters is very codependent (correlation is strong) it can indicate that their variance trades off, in particular if there is a negative correlation. The following plot shows there is generally low correlation across all combinations of parameters. It does not seem to be the case for this dataset, but common for RLDDM is a negative correlation between learning rate and the scaling factor, similar to what's usually observed between learning rate and inverse temperature for RL models that uses softmax as the choice rule (e.g. [Daw, 2011](https://www.oxfordscholarship.com/view/10.1093/acprof:oso/9780199600434.001.0001/acprof-9780199600434-chapter-001))."
   ]
  },
  {
   "cell_type": "code",
   "execution_count": null,
   "metadata": {},
   "outputs": [],
   "source": [
    "alpha, t, a, v = m.nodes_db.node[['alpha', 't', 'a','v']]\n",
    "samples = {'alpha':alpha.trace(),'t':t.trace(),'a':a.trace(),'v':v.trace()}\n",
    "samp = pd.DataFrame(data=samples)\n",
    "\n",
    "def corrfunc(x, y, **kws):\n",
    "    r, _ = stats.pearsonr(x, y)\n",
    "    ax = plt.gca()\n",
    "    ax.annotate(\"r = {:.2f}\".format(r),\n",
    "                xy=(.1, .9), xycoords=ax.transAxes)\n",
    "\n",
    "g = sns.PairGrid(samp, palette=[\"red\"])\n",
    "g.map_upper(plt.scatter, s=10)\n",
    "g.map_diag(sns.distplot, kde=False)\n",
    "g.map_lower(sns.kdeplot, cmap=\"Blues_d\")\n",
    "g.map_lower(corrfunc)\n",
    "g.savefig('matrix_plot.png')"
   ]
  },
  {
   "cell_type": "markdown",
   "metadata": {},
   "source": [
    "## 7. Posterior predictive checks"
   ]
  },
  {
   "cell_type": "markdown",
   "metadata": {},
   "source": [
    "An important test of the model is its ability to recreate the observed data. This can be tested with posterior predictive checks, which involves simulating data using estimated parameters and comparing observed and simulated results."
   ]
  },
  {
   "cell_type": "markdown",
   "metadata": {},
   "source": [
    "### extract traces\n",
    "The first step then is to extract the traces from the estimated model. The function get_traces() gives you the samples (row) from the approaximated posterior distribution for all of the estimated group and subject parameters (column)."
   ]
  },
  {
   "cell_type": "code",
   "execution_count": null,
   "metadata": {},
   "outputs": [],
   "source": [
    "traces = m.get_traces()\n",
    "traces.head()"
   ]
  },
  {
   "cell_type": "markdown",
   "metadata": {},
   "source": [
    "### simulating data\n",
    "__Now that we have the traces the next step is to simulate data using the estimated parameters. The RLDDM includes a function to simulate data. Here's an example of how to use the simulation-function for RLDDM. This example explains how to generate data with binary outcomes. See [here](#11.-Probabilistic-binary-outcomes-vs.-normally-distributed-outcomes) for an example on simulating data with normally distributed outcomes. Inputs to function: <br>\n",
    "a__ = decision threshold <br>\n",
    "**t** = non-decision time <br>\n",
    "__alpha__ = learning rate <br>\n",
    "__pos_alpha__ = defaults to 0. if given it defines the learning rate for positive prediction errors. alpha then becomes the learning rate_ for negative prediction errors.  <br>\n",
    "__scaler__ = the scaling factor that is multiplied with the difference in q-values to calculate trial-by-trial drift rate <br>\n",
    "__p_upper__ = the probability of reward for the option represented by the upper boundary. The current version thus only works for outcomes that are either 1 or 0 <br>\n",
    "__p_lower__ = the probability of reward for the option represented by the lower boundary. <br>\n",
    "__subjs__ = number of subjects to simulate data for. <br>\n",
    "__split_by__ = define the condition which makes it easier to append data from different conditions. <br>\n",
    "__size__ = number of trials per subject. <br>"
   ]
  },
  {
   "cell_type": "code",
   "execution_count": null,
   "metadata": {},
   "outputs": [],
   "source": [
    "hddm.generate.gen_rand_rlddm_data(a=1,t=0.3,alpha=0.2,scaler=2,p_upper=0.8,p_lower=0.2,subjs=1,split_by=0,size=10)"
   ]
  },
  {
   "cell_type": "markdown",
   "metadata": {},
   "source": [
    "__How to interpret columns in the resulting dataframe__ <br>\n",
    "__q_up__ = expected reward for option represented by upper boundary <br>\n",
    "__q_low__ = expected reward for option represented by lower boundary <br>\n",
    "__sim_drift__ = the drift rate for each trial calculated as: (q_up-q_low)*scaler <br>\n",
    "__response__ = simulated choice <br>\n",
    "__rt__ = simulated response time <br>\n",
    "__feedback__ = observed feedback for chosen option <br>\n",
    "__subj_idx__ = subject id (starts at 0) <br>\n",
    "__split_by__ = condition as integer <br>\n",
    "__trial__ = current trial (starts at 1) <br>"
   ]
  },
  {
   "cell_type": "markdown",
   "metadata": {},
   "source": [
    "### Simulate data with estimated parameter values and compare to observed data\n",
    "Now that we know how to extract traces and simulate data we can combine this to create a dataset similar to our observed data. This process is currently not automated but the following is an example code using the dataset we analyzed above."
   ]
  },
  {
   "cell_type": "code",
   "execution_count": null,
   "metadata": {},
   "outputs": [],
   "source": [
    "from tqdm import tqdm #progress tracker\n",
    "#create empty dataframe to store simulated data\n",
    "sim_data = pd.DataFrame()\n",
    "#create a column samp to be used to identify the simulated data sets\n",
    "data['samp'] = 0\n",
    "#load traces\n",
    "traces = m.get_traces()\n",
    "#decide how many times to repeat simulation process. repeating this multiple times is generally recommended, \n",
    "#as it better captures the uncertainty in the posterior distribution, but will also take some time\n",
    "for i in tqdm(range(1,51)):\n",
    "    #randomly select a row in the traces to use for extracting parameter values\n",
    "    sample = np.random.randint(0,traces.shape[0]-1)\n",
    "    #loop through all subjects in observed data\n",
    "    for s in data.subj_idx.unique():\n",
    "        #get number of trials for each condition.\n",
    "        size0 = len(data[(data['subj_idx']==s) & (data['split_by']==0)].trial.unique())\n",
    "        size1 = len(data[(data['subj_idx']==s) & (data['split_by']==1)].trial.unique())\n",
    "        size2 = len(data[(data['subj_idx']==s) & (data['split_by']==2)].trial.unique())\n",
    "        #set parameter values for simulation\n",
    "        a = traces.loc[sample,'a_subj.'+str(s)]\n",
    "        t = traces.loc[sample,'t_subj.'+str(s)]\n",
    "        scaler = traces.loc[sample,'v_subj.'+str(s)]\n",
    "        alphaInv = traces.loc[sample,'alpha_subj.'+str(s)]\n",
    "        #take inverse logit of estimated alpha\n",
    "        alpha = np.exp(alphaInv)/(1+np.exp(alphaInv))\n",
    "        #simulate data for each condition changing only values of size, p_upper, p_lower and split_by between conditions.\n",
    "        sim_data0 = hddm.generate.gen_rand_rlddm_data(a=a,t=t,scaler=scaler,alpha=alpha,size=size0,p_upper=0.8,p_lower=0.2,split_by=0)\n",
    "        sim_data1 = hddm.generate.gen_rand_rlddm_data(a=a,t=t,scaler=scaler,alpha=alpha,size=size1,p_upper=0.7,p_lower=0.3,split_by=1)\n",
    "        sim_data2 = hddm.generate.gen_rand_rlddm_data(a=a,t=t,scaler=scaler,alpha=alpha,size=size2,p_upper=0.6,p_lower=0.4,split_by=2)\n",
    "        #append the conditions\n",
    "        sim_data0 = sim_data0.append([sim_data1,sim_data2],ignore_index=True)\n",
    "        #assign subj_idx\n",
    "        sim_data0['subj_idx'] = s\n",
    "        #identify that these are simulated data\n",
    "        sim_data0['type'] = 'simulated'\n",
    "        #identify the simulated data\n",
    "        sim_data0['samp'] = i\n",
    "        #append data from each subject\n",
    "        sim_data = sim_data.append(sim_data0,ignore_index=True)\n",
    "#combine observed and simulated data\n",
    "ppc_data = data[['subj_idx','response','split_by','rt','trial','feedback','samp']].copy()\n",
    "ppc_data['type'] = 'observed'\n",
    "ppc_sdata = sim_data[['subj_idx','response','split_by','rt','trial','feedback','type','samp']].copy()\n",
    "ppc_data = ppc_data.append(ppc_sdata)\n",
    "ppc_data.to_csv('ppc_data_tutorial.csv')"
   ]
  },
  {
   "cell_type": "markdown",
   "metadata": {},
   "source": [
    "### Plotting\n",
    "Now that we have a dataframe with both observed and simulated data we can plot to see whether the simulated data are able to capture observed choice and reaction times. To capture the uncertainty in the simulated data we want to identify how much choice and reaction differs across the simulated data sets. A good measure of this is to calculate the highest posterior density/highest density interval for summary scores of the generated data. Below we calculate highest posterior density with an alpha set to 0.1, which means that we are describing the range of the 90% most likely values."
   ]
  },
  {
   "cell_type": "code",
   "execution_count": null,
   "metadata": {},
   "outputs": [],
   "source": [
    "#for practical reasons we only look at the first 40 trials for each subject in a given condition\n",
    "plot_ppc_data = ppc_data[ppc_data.trial<41].copy()"
   ]
  },
  {
   "cell_type": "markdown",
   "metadata": {},
   "source": [
    "### Choice"
   ]
  },
  {
   "cell_type": "code",
   "execution_count": null,
   "metadata": {},
   "outputs": [],
   "source": [
    "#bin trials to for smoother estimate of response proportion across learning\n",
    "plot_ppc_data['bin_trial'] = pd.cut(plot_ppc_data.trial,11,labels=np.linspace(0, 10,11)).astype('int64')\n",
    "#calculate means for each sample\n",
    "sums = plot_ppc_data.groupby(['bin_trial','split_by','samp','type']).mean().reset_index()\n",
    "#calculate the overall mean response across samples\n",
    "ppc_sim = sums.groupby(['bin_trial','split_by','type']).mean().reset_index()\n",
    "#initiate columns that will have the upper and lower bound of the hpd\n",
    "ppc_sim['upper_hpd'] = 0\n",
    "ppc_sim['lower_hpd'] = 0\n",
    "for i in range(0,ppc_sim.shape[0]):\n",
    "    #calculate the hpd/hdi of the predicted mean responses across bin_trials\n",
    "    hdi = pymc.utils.hpd(sums.response[(sums['bin_trial']==ppc_sim.bin_trial[i]) & (sums['split_by']==ppc_sim.split_by[i]) & (sums['type']==ppc_sim.type[i])],alpha=0.1)\n",
    "    ppc_sim.loc[i,'upper_hpd'] = hdi[1]\n",
    "    ppc_sim.loc[i,'lower_hpd'] = hdi[0]\n",
    "#calculate error term as the distance from upper bound to mean\n",
    "ppc_sim['up_err'] = ppc_sim['upper_hpd']-ppc_sim['response']\n",
    "ppc_sim['low_err'] = ppc_sim['response']-ppc_sim['lower_hpd']\n",
    "ppc_sim['model'] = 'RLDDM_single_learning'\n",
    "ppc_sim.to_csv('ppc_choicedata_tutorial.csv')"
   ]
  },
  {
   "cell_type": "code",
   "execution_count": null,
   "metadata": {},
   "outputs": [],
   "source": [
    "#plotting evolution of choice proportion for best option across learning for observed and simulated data.\n",
    "fig, axs = plt.subplots(figsize=(15, 5),nrows=1, ncols=3, sharex=True,sharey=True)\n",
    "for i in range(0,3):\n",
    "    ax = axs[i]\n",
    "    d = ppc_sim[(ppc_sim.split_by==i) & (ppc_sim.type=='simulated')]\n",
    "    ax.errorbar(d.bin_trial, d.response, yerr=[d.low_err,d.up_err], label='simulated',color='orange')\n",
    "    d = ppc_sim[(ppc_sim.split_by==i) & (ppc_sim.type=='observed')]\n",
    "    ax.plot(d.bin_trial, d.response,linewidth=3,label='observed')\n",
    "    ax.set_title('split_by = %i' %i,fontsize=20)\n",
    "    ax.set_ylabel('mean response')\n",
    "    ax.set_xlabel('trial')\n",
    "plt.legend()\n",
    "fig.savefig('PPCchoice.pdf')"
   ]
  },
  {
   "cell_type": "markdown",
   "metadata": {},
   "source": [
    "__Fig.__ The plots display the rate of choosing the best option (response = 1) across learning and condition. The model generates data (orange) that closely follows the observed behavior (blue), with the exception of overpredicting performance early in the most difficult condition (split_by=2). Uncertainty in the generated data is captured by the 90% highest density interval of the means across simulated datasets."
   ]
  },
  {
   "cell_type": "markdown",
   "metadata": {},
   "source": [
    "### RT"
   ]
  },
  {
   "cell_type": "code",
   "execution_count": null,
   "metadata": {},
   "outputs": [],
   "source": [
    "#set reaction time to be negative for lower bound responses (response=0)\n",
    "plot_ppc_data['reaction time'] = np.where(plot_ppc_data['response']==1,plot_ppc_data.rt,0-plot_ppc_data.rt)\n",
    "#plotting evolution of choice proportion for best option across learning for observed and simulated data. We use bins of trials because plotting individual trials would be very noisy. \n",
    "g = sns.FacetGrid(plot_ppc_data,col='split_by',hue='type')\n",
    "g.map(sns.kdeplot, 'reaction time',bw=0.05).set_ylabels(\"Density\")\n",
    "g.add_legend()\n",
    "g.savefig('PPCrt_dist.pdf')"
   ]
  },
  {
   "cell_type": "markdown",
   "metadata": {},
   "source": [
    "__Fig.__ Density plots of observed and predicted reaction time across conditions. RTs for lower boundary choices (i.e. worst option choices) are set to be negative (0-RT) to be able to separate upper and lower bound responses."
   ]
  },
  {
   "cell_type": "markdown",
   "metadata": {},
   "source": [
    "## 8. Parameter recovery\n",
    "To validate the RLDDM we ran a parameter recovery study to test to which degree the model can recover the parameter values used to simulate data. To do this we generated 81 synthetic datasets with 50 subjects performing 70 trials each. The 81 datasets were simulated using all combinations of three plausible parameter values for decision threshold, non-decision time, learning rate and the scaling parameter onto drift rate."
   ]
  },
  {
   "cell_type": "markdown",
   "metadata": {},
   "source": [
    "### Estimated values split by simulated vales \n",
    "We can plot simulated together with the estimated values to test the models ability to recover parameters, and to see if there are any values that are more difficult to recover than others."
   ]
  },
  {
   "cell_type": "code",
   "execution_count": null,
   "metadata": {},
   "outputs": [],
   "source": [
    "param_recovery = hddm.load_csv('recovery_sim_est_rlddm.csv')"
   ]
  },
  {
   "cell_type": "code",
   "execution_count": null,
   "metadata": {},
   "outputs": [],
   "source": [
    "g = sns.catplot(x='a',y='e_a',data=param_recovery,palette='Set1')\n",
    "g.set_axis_labels(\"Simulated threshold\", \"Estimated threshold\")\n",
    "plt.title(\"Decision threshold\")\n",
    "g.savefig('Threshold_recovery.pdf')"
   ]
  },
  {
   "cell_type": "code",
   "execution_count": null,
   "metadata": {},
   "outputs": [],
   "source": [
    "g = sns.catplot(x='alpha',y='e_alphaT',data=param_recovery,palette='Set1')\n",
    "g.set_axis_labels(\"Simulated alpha\", \"Estimated alpha\")\n",
    "plt.title(\"Learning rate\")\n",
    "g.savefig('Alpha_recovery.pdf')"
   ]
  },
  {
   "cell_type": "code",
   "execution_count": null,
   "metadata": {},
   "outputs": [],
   "source": [
    "g = sns.catplot(x='scaler',y='e_v',data=param_recovery,palette='Set1')\n",
    "g.set_axis_labels(\"Simulated scaling\", \"Estimated scaling\")\n",
    "plt.title(\"Scaling drift rate\")\n",
    "g.savefig('Scaler_recovery.pdf')"
   ]
  },
  {
   "cell_type": "code",
   "execution_count": null,
   "metadata": {},
   "outputs": [],
   "source": [
    "g = sns.catplot(x='t',y='e_t',data=param_recovery,palette='Set1')\n",
    "g.set_axis_labels(\"Simulated NDT\", \"Estimated NDT\")\n",
    "plt.title(\"Non-decision time\")\n",
    "g.savefig('NDT_recovery.pdf')"
   ]
  },
  {
   "cell_type": "markdown",
   "metadata": {},
   "source": [
    "__Fig.__ The correlation between simulated and estimated parameter values are high, which means recovery is good. There is somewhat worse recovery for the learning rate and scaling parameter, which makes sense given that they to a degree can explain the same variance (see below)."
   ]
  },
  {
   "cell_type": "markdown",
   "metadata": {},
   "source": [
    "## 9. Separate learning rates for positive and negative prediction errors\n",
    "Several studies have reported differences in updating of expected rewards following positive and negative prediction errors (e.g. to capture differences between D1 and D2 receptor function). To model asymmetric updating rates for positive and negative prediction errors you can set dual=True in the model. This will produce two estimated learning rates; alpha and pos_alpha, of which alpha then becomes the estimated learning rate for negative prediction errors."
   ]
  },
  {
   "cell_type": "code",
   "execution_count": null,
   "metadata": {},
   "outputs": [],
   "source": [
    "#set dual=True to model separate learning rates for positive and negative prediction errors.\n",
    "m_dual = hddm.HDDMrl(data,dual=True)\n",
    "#set sample and burn-in\n",
    "m_dual.sample(1500,burn=500,dbname='traces.db',db='pickle')\n",
    "#print stats to get an overview of posterior distribution of estimated parameters\n",
    "m_dual.print_stats()"
   ]
  },
  {
   "cell_type": "code",
   "execution_count": null,
   "metadata": {},
   "outputs": [],
   "source": [
    "m_dual.plot_posteriors()"
   ]
  },
  {
   "cell_type": "markdown",
   "metadata": {},
   "source": [
    "__Fig.__ There's more autocorrelation in this model compared to the one with a single learning rate. First, let's test whether it converges."
   ]
  },
  {
   "cell_type": "code",
   "execution_count": null,
   "metadata": {},
   "outputs": [],
   "source": [
    "# estimate convergence\n",
    "models = []\n",
    "for i in range(3):\n",
    "    m = hddm.HDDMrl(data=data,dual=True)\n",
    "    m.sample(1500, burn=500,dbname='traces.db',db='pickle')\n",
    "    models.append(m)\n",
    "\n",
    "#get max gelman-statistic value. shouldn't be higher than 1.1\n",
    "np.max(list(gelman_rubin(models).values()))"
   ]
  },
  {
   "cell_type": "code",
   "execution_count": null,
   "metadata": {},
   "outputs": [],
   "source": [
    "gelman_rubin(models)"
   ]
  },
  {
   "cell_type": "markdown",
   "metadata": {},
   "source": [
    "Convergence looks good, i.e. no parameters with gelman-rubin statistic > 1.1."
   ]
  },
  {
   "cell_type": "code",
   "execution_count": null,
   "metadata": {},
   "outputs": [],
   "source": [
    "# Create a new model that has all traces concatenated\n",
    "# of individual models.\n",
    "m_dual = kabuki.utils.concat_models(models)"
   ]
  },
  {
   "cell_type": "markdown",
   "metadata": {},
   "source": [
    "And then we can have a look at the joint posterior distribution:"
   ]
  },
  {
   "cell_type": "code",
   "execution_count": null,
   "metadata": {},
   "outputs": [],
   "source": [
    "alpha, t, a, v, pos_alpha = m_dual.nodes_db.node[['alpha', 't', 'a','v','pos_alpha']]\n",
    "samples = {'alpha':alpha.trace(),'pos_alpha':pos_alpha.trace(),'t':t.trace(),'a':a.trace(),'v':v.trace()}\n",
    "samp = pd.DataFrame(data=samples)\n",
    "\n",
    "def corrfunc(x, y, **kws):\n",
    "    r, _ = stats.pearsonr(x, y)\n",
    "    ax = plt.gca()\n",
    "    ax.annotate(\"r = {:.2f}\".format(r),\n",
    "                xy=(.1, .9), xycoords=ax.transAxes)\n",
    "\n",
    "g = sns.PairGrid(samp, palette=[\"red\"])\n",
    "g.map_upper(plt.scatter, s=10)\n",
    "g.map_diag(sns.distplot, kde=False)\n",
    "g.map_lower(sns.kdeplot, cmap=\"Blues_d\")\n",
    "g.map_lower(corrfunc)\n",
    "g.savefig('matrix_plot.png')"
   ]
  },
  {
   "cell_type": "markdown",
   "metadata": {},
   "source": [
    "__Fig.__ The correlation between parameters is generally low. "
   ]
  },
  {
   "cell_type": "markdown",
   "metadata": {},
   "source": [
    "## Posterior predictive check\n",
    "The DIC for this dual learning rate model is better than for the single learning rate model. We can therefore check whether we can detect this improvement in the ability to recreate choice and RT patterns:"
   ]
  },
  {
   "cell_type": "code",
   "execution_count": null,
   "metadata": {},
   "outputs": [],
   "source": [
    "#create empty dataframe to store simulated data\n",
    "sim_data = pd.DataFrame()\n",
    "#create a column samp to be used to identify the simulated data sets\n",
    "data['samp'] = 0\n",
    "#get traces, note here we extract traces from m_dual\n",
    "traces = m_dual.get_traces()\n",
    "#decide how many times to repeat simulation process. repeating this multiple times is generally recommended as it better captures the uncertainty in the posterior distribution, but will also take some time\n",
    "for i in tqdm(range(1,51)):\n",
    "    #randomly select a row in the traces to use for extracting parameter values\n",
    "    sample = np.random.randint(0,traces.shape[0]-1)\n",
    "    #loop through all subjects in observed data\n",
    "    for s in data.subj_idx.unique():\n",
    "        #get number of trials for each condition.\n",
    "        size0 = len(data[(data['subj_idx']==s) & (data['split_by']==0)].trial.unique())\n",
    "        size1 = len(data[(data['subj_idx']==s) & (data['split_by']==1)].trial.unique())\n",
    "        size2 = len(data[(data['subj_idx']==s) & (data['split_by']==2)].trial.unique())\n",
    "        #set parameter values for simulation\n",
    "        a = traces.loc[sample,'a_subj.'+str(s)]\n",
    "        t = traces.loc[sample,'t_subj.'+str(s)]\n",
    "        scaler = traces.loc[sample,'v_subj.'+str(s)]\n",
    "        #when generating data with two learning rates pos_alpha represents learning rate for positive prediction errors and alpha for negative prediction errors\n",
    "        alphaInv = traces.loc[sample,'alpha_subj.'+str(s)]\n",
    "        pos_alphaInv = traces.loc[sample,'pos_alpha_subj.'+str(s)]\n",
    "        #take inverse logit of estimated alpha and pos_alpha\n",
    "        alpha = np.exp(alphaInv)/(1+np.exp(alphaInv))\n",
    "        pos_alpha = np.exp(pos_alphaInv)/(1+np.exp(pos_alphaInv))\n",
    "        #simulate data for each condition changing only values of size, p_upper, p_lower and split_by between conditions.\n",
    "        sim_data0 = hddm.generate.gen_rand_rlddm_data(a=a,t=t,scaler=scaler,alpha=alpha,pos_alpha=pos_alpha,size=size0,p_upper=0.8,p_lower=0.2,split_by=0)\n",
    "        sim_data1 = hddm.generate.gen_rand_rlddm_data(a=a,t=t,scaler=scaler,alpha=alpha,pos_alpha=pos_alpha,size=size1,p_upper=0.7,p_lower=0.3,split_by=1)\n",
    "        sim_data2 = hddm.generate.gen_rand_rlddm_data(a=a,t=t,scaler=scaler,alpha=alpha,pos_alpha=pos_alpha,size=size2,p_upper=0.6,p_lower=0.4,split_by=2)\n",
    "        #append the conditions\n",
    "        sim_data0 = sim_data0.append([sim_data1,sim_data2],ignore_index=True)\n",
    "        #assign subj_idx\n",
    "        sim_data0['subj_idx'] = s\n",
    "        #identify that these are simulated data\n",
    "        sim_data0['type'] = 'simulated'\n",
    "        #identify the simulated data\n",
    "        sim_data0['samp'] = i\n",
    "        #append data from each subject\n",
    "        sim_data = sim_data.append(sim_data0,ignore_index=True)\n",
    "#combine observed and simulated data\n",
    "ppc_dual_data = data[['subj_idx','response','split_by','rt','trial','feedback','samp']].copy()\n",
    "ppc_dual_data['type'] = 'observed'\n",
    "ppc_dual_sdata = sim_data[['subj_idx','response','split_by','rt','trial','feedback','type','samp']].copy()\n",
    "ppc_dual_data = ppc_dual_data.append(ppc_dual_sdata)"
   ]
  },
  {
   "cell_type": "code",
   "execution_count": null,
   "metadata": {},
   "outputs": [],
   "source": [
    "#for practical reasons we only look at the first 40 trials for each subject in a given condition\n",
    "plot_ppc_dual_data = ppc_dual_data[ppc_dual_data.trial<41].copy()"
   ]
  },
  {
   "cell_type": "markdown",
   "metadata": {},
   "source": [
    "### Choice"
   ]
  },
  {
   "cell_type": "code",
   "execution_count": null,
   "metadata": {},
   "outputs": [],
   "source": [
    "#bin trials to for smoother estimate of response proportion across learning\n",
    "plot_ppc_dual_data['bin_trial'] = pd.cut(plot_ppc_dual_data.trial,11,labels=np.linspace(0, 10,11)).astype('int64')\n",
    "#calculate means for each sample\n",
    "sums = plot_ppc_dual_data.groupby(['bin_trial','split_by','samp','type']).mean().reset_index()\n",
    "#calculate the overall mean response across samples\n",
    "ppc_dual_sim = sums.groupby(['bin_trial','split_by','type']).mean().reset_index()\n",
    "#initiate columns that will have the upper and lower bound of the hpd\n",
    "ppc_dual_sim['upper_hpd'] = 0\n",
    "ppc_dual_sim['lower_hpd'] = 0\n",
    "for i in range(0,ppc_dual_sim.shape[0]):\n",
    "    #calculate the hpd/hdi of the predicted mean responses across bin_trials\n",
    "    hdi = pymc.utils.hpd(sums.response[(sums['bin_trial']==ppc_dual_sim.bin_trial[i]) & (sums['split_by']==ppc_dual_sim.split_by[i]) & (sums['type']==ppc_dual_sim.type[i])],alpha=0.1)\n",
    "    ppc_dual_sim.loc[i,'upper_hpd'] = hdi[1]\n",
    "    ppc_dual_sim.loc[i,'lower_hpd'] = hdi[0]\n",
    "#calculate error term as the distance from upper bound to mean\n",
    "ppc_dual_sim['up_err'] = ppc_dual_sim['upper_hpd']-ppc_dual_sim['response']\n",
    "ppc_dual_sim['low_err'] = ppc_dual_sim['response']-ppc_dual_sim['lower_hpd']\n",
    "ppc_dual_sim['model'] = 'RLDDM_dual_learning'"
   ]
  },
  {
   "cell_type": "code",
   "execution_count": null,
   "metadata": {},
   "outputs": [],
   "source": [
    "#plotting evolution of choice proportion for best option across learning for observed and simulated data.\n",
    "fig, axs = plt.subplots(figsize=(15, 5),nrows=1, ncols=3, sharex=True,sharey=True)\n",
    "for i in range(0,3):\n",
    "    ax = axs[i]\n",
    "    d = ppc_dual_sim[(ppc_dual_sim.split_by==i) & (ppc_dual_sim.type=='simulated')]\n",
    "    ax.errorbar(d.bin_trial, d.response, yerr=[d.low_err,d.up_err], label='simulated',color='orange')\n",
    "    d = ppc_sim[(ppc_dual_sim.split_by==i) & (ppc_dual_sim.type=='observed')]\n",
    "    ax.plot(d.bin_trial, d.response,linewidth=3,label='observed')\n",
    "    ax.set_title('split_by = %i' %i,fontsize=20)\n",
    "    ax.set_ylabel('mean response')\n",
    "    ax.set_xlabel('trial')\n",
    "plt.legend()"
   ]
  },
  {
   "cell_type": "markdown",
   "metadata": {},
   "source": [
    "__Fig.__ The plots display the rate of choosing the best option (response = 1) across learning and condition. The model generates data (orange) that closely follows the observed behavior (blue), with the exception of performance early in the most difficult condition (split_by=2)."
   ]
  },
  {
   "cell_type": "markdown",
   "metadata": {},
   "source": [
    "### PPC for single vs. dual learning rate\n",
    "To get a better sense of differences in ability to predict data between the single and dual learning rate model we can plot them together:"
   ]
  },
  {
   "cell_type": "code",
   "execution_count": null,
   "metadata": {},
   "outputs": [],
   "source": [
    "#plotting evolution of choice proportion for best option across learning for observed and simulated data. Compared for model with single and dual learning rate.\n",
    "fig, axs = plt.subplots(figsize=(15, 5),nrows=1, ncols=3, sharex=True,sharey=True)\n",
    "for i in range(0,3):\n",
    "    ax = axs[i]\n",
    "    d_single = ppc_sim[(ppc_sim.split_by==i) & (ppc_sim.type=='simulated')]\n",
    "    #slightly move bin_trial to avoid overlap in errorbars\n",
    "    d_single['bin_trial'] += 0.2\n",
    "    ax.errorbar(d_single.bin_trial, d_single.response, yerr=[d_single.low_err,d_single.up_err],label='simulated_single',color='orange')\n",
    "    d_dual = ppc_dual_sim[(ppc_dual_sim.split_by==i) & (ppc_dual_sim.type=='simulated')]\n",
    "    ax.errorbar(d_dual.bin_trial, d_dual.response, yerr=[d_dual.low_err,d_dual.up_err],label='simulated_dual',color='green')\n",
    "    d = ppc_sim[(ppc_dual_sim.split_by==i) & (ppc_dual_sim.type=='observed')]\n",
    "    ax.plot(d.bin_trial, d.response,linewidth=3,label='observed')\n",
    "    ax.set_title('split_by = %i' %i,fontsize=20)\n",
    "    ax.set_ylabel('mean response')\n",
    "    ax.set_xlabel('trial')\n",
    "plt.xlim(-0.5,10.5)\n",
    "plt.legend()"
   ]
  },
  {
   "cell_type": "markdown",
   "metadata": {},
   "source": [
    "__Fig.__ The predictions from the model with two learning rates are not very different from the model with single learning rate, and a similar overprediction of performance early on for the most difficult condition (split_by =2)."
   ]
  },
  {
   "cell_type": "markdown",
   "metadata": {},
   "source": [
    "### RT"
   ]
  },
  {
   "cell_type": "code",
   "execution_count": null,
   "metadata": {},
   "outputs": [],
   "source": [
    "plot_ppc_data['type_compare'] = np.where(plot_ppc_data['type']=='observed',plot_ppc_data['type'],'simulated_single_learning')\n",
    "plot_ppc_dual_data['type_compare'] = np.where(plot_ppc_dual_data['type']=='observed',plot_ppc_dual_data['type'],'simulated_dual_learning')\n",
    "dual_vs_single_pcc = plot_ppc_data.append(plot_ppc_dual_data)\n",
    "dual_vs_single_pcc['reaction time'] = np.where(dual_vs_single_pcc['response']==1,dual_vs_single_pcc.rt,0-dual_vs_single_pcc.rt)\n",
    "#plotting evolution of choice proportion for best option across learning for observed and simulated data. We use bins of trials because plotting individual trials would be very noisy. \n",
    "g = sns.FacetGrid(dual_vs_single_pcc,col='split_by',hue='type_compare',height=5)\n",
    "g.map(sns.kdeplot, 'reaction time',bw=0.01).set_ylabels(\"Density\")\n",
    "g.add_legend()"
   ]
  },
  {
   "cell_type": "markdown",
   "metadata": {},
   "source": [
    "__Fig.__ Again there's not a big difference between the two models. Both models slightly overpredict performance for the medium (split_by =1) and hard (split_by = 2) conditions, as identified by lower densities for the negative (worst option choices) in the simulated compared to observed data."
   ]
  },
  {
   "cell_type": "markdown",
   "metadata": {},
   "source": [
    "### Transform alpha and pos_alpha\n",
    "To interpret the parameter estimates for alpha and pos_alpha you have to transform them with the inverse logit where learning rate for negative prediction error is alpha and learning rate for positive prediction errors is pos_alpha. For this dataset the learning rate is estimated to be higher for positive than negative prediction errors."
   ]
  },
  {
   "cell_type": "code",
   "execution_count": null,
   "metadata": {},
   "outputs": [],
   "source": [
    "#plot alpha for positive and negative learning rate\n",
    "traces = m_dual.get_traces()\n",
    "neg_alpha = np.exp(traces['alpha'])/(1+np.exp(traces['alpha']))\n",
    "pos_alpha = np.exp(traces['pos_alpha'])/(1+np.exp(traces['pos_alpha']))\n",
    "sns.kdeplot(neg_alpha, color='r', label=\"neg_alpha: \" + str(np.round(np.mean(neg_alpha),3)))\n",
    "sns.kdeplot(pos_alpha, color='b', label=\"pos_alpha: \" + str(np.round(np.mean(pos_alpha),3)))"
   ]
  },
  {
   "cell_type": "markdown",
   "metadata": {},
   "source": [
    "__Fig.__ The positive learning rate is estimated to be stronger than the negative learning rate. Sticky choice, tendencies to repeat choices, could be driving some of this difference. The current model does not allow to test for this, however, but it could be tested in the future if we implement a regression version of RLDDM (similar to HDDMRegressor)."
   ]
  },
  {
   "cell_type": "markdown",
   "metadata": {},
   "source": [
    "### Simulate data with learning rates for positive and negative prediction errors\n",
    "Here's how you would simulate data with a learning rate for positive and negative predictions of 0.2 and 0.4, respectively:"
   ]
  },
  {
   "cell_type": "code",
   "execution_count": null,
   "metadata": {},
   "outputs": [],
   "source": [
    "hddm.generate.gen_rand_rlddm_data(a=1,t=0.3,alpha=0.2,pos_alpha=0.4,scaler=2,p_upper=0.8,p_lower=0.2,size=10)"
   ]
  },
  {
   "cell_type": "markdown",
   "metadata": {},
   "source": [
    "## 10. depends_on vs. split_by\n",
    "HDDMrl can be used to estimate separate parameters just as in the standard HDDM. But in RL you typically estimate the same learning rates and inverse temperature across conditions. That's one reason why you have to specify condition in the split_by-column instead of depends_on. (The other is that if you use depends_on the expected rewards will not get updated properly). But depends_on is still useful, for example if you want to estimate the effect of group on parameters. As an example we can simulate a dataset with two groups that have different decision thresholds:"
   ]
  },
  {
   "cell_type": "code",
   "execution_count": null,
   "metadata": {},
   "outputs": [],
   "source": [
    "data1 = hddm.generate.gen_rand_rlddm_data(a=1,t=0.3,alpha=0.4,scaler=2,p_upper=0.8,p_lower=0.2,subjs=50,size=50)\n",
    "data1['group'] = 'group1'\n",
    "data2 = hddm.generate.gen_rand_rlddm_data(a=2,t=0.3,alpha=0.4,scaler=2,p_upper=0.8,p_lower=0.2,subjs=50,size=50)\n",
    "data2['group'] = 'group2'\n",
    "group_data = data1.append(data2)\n",
    "group_data['q_init'] = 0.5\n",
    "m = hddm.HDDMrl(group_data,depends_on={'v':'group','a':'group','t':'group','alpha':'group'})\n",
    "m.sample(1500,burn=500,dbname='traces.db',db='pickle')"
   ]
  },
  {
   "cell_type": "code",
   "execution_count": null,
   "metadata": {},
   "outputs": [],
   "source": [
    "#the plot shows that the model was able to recover the different decision threshold across groups.\n",
    "a_group1, a_group2 = m.nodes_db.node[['a(group1)', 'a(group2)']]\n",
    "hddm.analyze.plot_posterior_nodes([a_group1, a_group2])\n",
    "plt.xlabel('decision threshold')\n",
    "plt.ylabel('Posterior probability')\n",
    "plt.xlim(0.7,2.3)\n",
    "plt.title('Posterior of decision threshold group means')"
   ]
  },
  {
   "cell_type": "markdown",
   "metadata": {},
   "source": [
    "## 11. Probabilistic binary outcomes vs. normally distributed outcomes\n",
    "The examples so far have all been using a task structure where the outcomes are binary and probabilistic. But the model can also be applied to other types of outcomes. Here we show how you can generate and model data with normally distributed outcomes. As you will see you don't have to do any modifications to the model estimation process, but you have to change the input for generating data. Also note that the scaling parameter (v) will scale negatively with the values of the observed outcomes because the combined drift rate needs to be plausible."
   ]
  },
  {
   "cell_type": "code",
   "execution_count": null,
   "metadata": {},
   "outputs": [],
   "source": [
    "# This is how we generated data so far, defining the probability of reward (1) for actions/stimuli associated with upper and lower boundary.\n",
    "# binary probabilistic outcomes\n",
    "hddm.generate.gen_rand_rlddm_data(a=2,t=0.3,scaler=2,alpha=0.2,size=10,p_upper=0.2,p_lower=0.8)"
   ]
  },
  {
   "cell_type": "code",
   "execution_count": null,
   "metadata": {},
   "outputs": [],
   "source": [
    "# If instead the outcomes are drawn from a normal distribution you will have to set binary_outcome to False and instead of p_upper and p_upper define the mean (mu) and sd \n",
    "# of the normal distribution for both alternatives. Note that we change the initial q-value to 0, and that we reduce the scaling factor.\n",
    "# normally distributed outcomes\n",
    "hddm.generate.gen_rand_rlddm_data(a=2,t=0.3,scaler=0.2,alpha=0.2,size=10,mu_upper=8,mu_lower=2,sd_upper=1,sd_lower=1,binary_outcome=False,q_init=0)"
   ]
  },
  {
   "cell_type": "code",
   "execution_count": null,
   "metadata": {},
   "outputs": [],
   "source": [
    "# We can generate a dataset where 30 subjects perform 50 trials each. Note that we set the scaler to be lower than for the binary outcomes as otherwise \n",
    "# the resulting drift will be unrealistically high.\n",
    "norm_data = hddm.generate.gen_rand_rlddm_data(a=2,t=0.3,scaler=0.2,alpha=0.2,size=50,subjs=30,mu_upper=8,mu_lower=2,sd_upper=2,sd_lower=2,binary_outcome=False,q_init=0)"
   ]
  },
  {
   "cell_type": "code",
   "execution_count": null,
   "metadata": {},
   "outputs": [],
   "source": [
    "#and then we can do estimation as usual\n",
    "#but first we need to define inital q-value\n",
    "norm_data['q_init'] = 0\n",
    "m_norm = hddm.HDDMrl(norm_data)\n",
    "m_norm.sample(1500,burn=500,dbname='traces.db',db='pickle')\n",
    "m_norm.print_stats()"
   ]
  },
  {
   "cell_type": "markdown",
   "metadata": {},
   "source": [
    "## 12. HDDMrlRegressor\n",
    "\n",
    "As of version 0.7.6. HDDM includes a module for estimating the impact of continuous regressor onto RLDDM parameters. The module, called HDDMrlRegressor, works the same way as the HDDMRegressor for the normal DDM. The method allows estimation of the association of e.g. neural measures onto parameters. To illustrate the method we extend the function to generate rlddm_data by adding a normally distributed regressor and including a coefficient called 'neural'.Note that to run the HDDMrlRegressor you need to include alpha when specifying the model. For more information on how to set up regressor models look at the tutorial for HDDM."
   ]
  },
  {
   "cell_type": "code",
   "execution_count": null,
   "metadata": {},
   "outputs": [],
   "source": [
    "#function to generate rlddm-data that adds a neural regressor to decision threshold\n",
    "def gen_rand_reg_rlddm_data(a, t, scaler, alpha, neural, size=1, p_upper=1, p_lower=0, z=0.5, q_init=0.5, split_by=0, subjs=1):\n",
    "    all_data = []\n",
    "    n = size\n",
    "    # set sd for variables to generate subject-parameters from group distribution\n",
    "    sd_t = 0.02\n",
    "    sd_a = 0.1\n",
    "    sd_alpha = 0.1\n",
    "    sd_v = 0.25\n",
    "    #save parameter values as group-values\n",
    "    tg = t\n",
    "    ag = a\n",
    "    alphag = alpha\n",
    "    scalerg = scaler\n",
    "    for s in range(0, subjs):\n",
    "        t = np.maximum(0.05, np.random.normal(\n",
    "            loc=tg, scale=sd_t, size=1)) if subjs > 1 else tg\n",
    "        a = np.maximum(0.05, np.random.normal(\n",
    "            loc=ag, scale=sd_a, size=1)) if subjs > 1 else ag\n",
    "        alpha = np.minimum(np.minimum(np.maximum(0.001, np.random.normal(loc=alphag, scale=sd_a, size=1)), alphag+alphag),1) if subjs > 1 else alphag\n",
    "        scaler = np.random.normal(loc=scalerg, scale=sd_v, size=1) if subjs > 1 else scalerg\n",
    "        #create a normalized regressor that is combined with the neural coefficient to create trial-by-trial values for decision threshold\n",
    "        neural_reg = np.random.normal(0,1,size=n)\n",
    "        q_up = np.tile([q_init], n)\n",
    "        q_low = np.tile([q_init], n)\n",
    "        response = np.tile([0.5], n)\n",
    "        feedback = np.tile([0.5], n)\n",
    "        rt = np.tile([0], n)\n",
    "        rew_up = np.random.binomial(1, p_upper, n).astype(float)\n",
    "        rew_low = np.random.binomial(1, p_lower, n).astype(float)\n",
    "        sim_drift = np.tile([0], n)\n",
    "        subj_idx = np.tile([s], n)\n",
    "        d = {'q_up': q_up, 'q_low': q_low, 'sim_drift': sim_drift, 'rew_up': rew_up, 'rew_low': rew_low,\n",
    "             'response': response, 'rt': rt, 'feedback': feedback, 'subj_idx': subj_idx, 'split_by': split_by, 'trial': 1, 'neural_reg': neural_reg}\n",
    "        df = pd.DataFrame(data=d)\n",
    "        df = df[['q_up', 'q_low', 'sim_drift', 'rew_up', 'rew_low',\n",
    "                 'response', 'rt', 'feedback', 'subj_idx', 'split_by', 'trial','neural_reg']]\n",
    "        #generate data trial-by-trial using the Intercept (a), regressor (neural_reg) and coefficient (neural) for decision threshold.\n",
    "        data, params = hddm.generate.gen_rand_data(\n",
    "            {'a': a + neural*df.loc[0, 'neural_reg'], 't': t, 'v': df.loc[0, 'sim_drift'], 'z': z}, subjs=1, size=1)\n",
    "        df.loc[0, 'response'] = data.response[0]\n",
    "        df.loc[0, 'rt'] = data.rt[0]\n",
    "        if (data.response[0] == 1.0):\n",
    "            df.loc[0, 'feedback'] = df.loc[0, 'rew_up']\n",
    "        else:\n",
    "            df.loc[0, 'feedback'] = df.loc[0, 'rew_low']\n",
    "\n",
    "        for i in range(1, n):\n",
    "            df.loc[i, 'trial'] = i + 1\n",
    "            df.loc[i, 'q_up'] = (df.loc[i - 1, 'q_up'] * (1 - df.loc[i - 1, 'response'])) + ((df.loc[i - 1, 'response'])\n",
    "                                                                                             * (df.loc[i - 1, 'q_up'] + (alpha * (df.loc[i - 1, 'rew_up'] - df.loc[i - 1, 'q_up']))))\n",
    "            df.loc[i, 'q_low'] = (df.loc[i - 1, 'q_low'] * (df.loc[i - 1, 'response'])) + ((1 - df.loc[i - 1, 'response'])\n",
    "                                                                                           * (df.loc[i - 1, 'q_low'] + (alpha * (df.loc[i - 1, 'rew_low'] - df.loc[i - 1, 'q_low']))))\n",
    "            df.loc[i, 'sim_drift'] = (df.loc[i, 'q_up'] - df.loc[i, 'q_low']) * (scaler)\n",
    "            data, params = hddm.generate.gen_rand_data(\n",
    "                {'a': a + neural*df.loc[i, 'neural_reg'], 't': t, 'v': df.loc[i, 'sim_drift'] , 'z': z}, subjs=1, size=1)\n",
    "            df.loc[i, 'response'] = data.response[0]\n",
    "            df.loc[i, 'rt'] = data.rt[0]\n",
    "            if (data.response[0] == 1.0):\n",
    "                df.loc[i, 'feedback'] = df.loc[i, 'rew_up']\n",
    "            else:\n",
    "                df.loc[i, 'feedback'] = df.loc[i, 'rew_low']\n",
    "        all_data.append(df)\n",
    "    all_data = pd.concat(all_data, axis=0)\n",
    "    all_data = all_data[['q_up', 'q_low', 'sim_drift', 'response',\n",
    "                         'rt', 'feedback', 'subj_idx', 'split_by', 'trial','neural_reg']]\n",
    "\n",
    "    return all_data"
   ]
  },
  {
   "cell_type": "code",
   "execution_count": null,
   "metadata": {},
   "outputs": [],
   "source": [
    "#Create data with function defined above. \n",
    "#This will create trial-by-trial values for decision threshold (a) by adding the coefficient neural (here set to 0.2) \n",
    "#multiplied by a normalized regressor (neural_reg) to the 'Intercept' value of a (here set to 1) \n",
    "data_neural = gen_rand_reg_rlddm_data(a=1,t=0.3,scaler=2,alpha=0.2,neural = 0.2,size=100,p_upper=0.7,p_lower=0.3,subjs=25)\n",
    "data_neural['q_init'] = 0.5\n",
    "data_neural.head()"
   ]
  },
  {
   "cell_type": "code",
   "execution_count": null,
   "metadata": {},
   "outputs": [],
   "source": [
    "#run a regressor model estimating the impact of 'neural' on decision threshold a. This should estimate the coefficient a_neural_reg to be 0.2\n",
    "#to run the HDDMrlRegressor you need to include alpha\n",
    "m_reg = hddm.HDDMrlRegressor(data_neural,'a ~ neural_reg',include='alpha')\n",
    "m_reg.sample(1000,burn=250)\n",
    "m_reg.print_stats()"
   ]
  },
  {
   "cell_type": "markdown",
   "metadata": {},
   "source": [
    "## 13. Regular RL without RT\n",
    "HDDMrl also includes a module to run an RL-model that uses softmax to transform q-values to probability of choosing options associated with upper (response=1) or lower (response=0) boundary. To run this model you type hddm.Hrl instead of hddm.HDDMrl. The setup is the same as for HDDMrl, and for now, the model won't run if you don't include an rt-column. This will be fixed for a future version, but for now, if you don't have RTs you can just create an rt-column where you set all rts to e.g. 0.5. You can choose to estimate separate learning rates for positive and negative learning rate by setting dual=True (see [here](#9.-Separate-learning-rates-for-positive-and-negative-prediction-errors) for more information). The model will by default estimate posterior distributions for the alpha and v parameters. The probability of choosing upper boundary is captured as: <br><br>\n",
    "&nbsp;&nbsp;&nbsp;&nbsp;&nbsp;&nbsp;$p_{up} =(e^{-2*z*d_t}-1)/ (e^{-2*d_t}-1)$, <br><br>\n",
    "where ${d_t}=q_{up_t}-q_{low}*v$ and z represents starting point (which for now is fixed to be 0.5). <br>\n",
    "This calculation is equivalent to soft-max transformation when z=0.5."
   ]
  },
  {
   "cell_type": "code",
   "execution_count": null,
   "metadata": {},
   "outputs": [],
   "source": [
    "#run the model by calling hddm.Hrl (instead of hddm.HDDM for normal model and hddm.HDDMrl for rlddm-model)\n",
    "m_rl = hddm.Hrl(data)\n",
    "#set sample and burn-in\n",
    "m_rl.sample(1500,burn=500,dbname='traces.db',db='pickle')\n",
    "#print stats to get an overview of posterior distribution of estimated parameters\n",
    "m_rl.print_stats()"
   ]
  },
  {
   "cell_type": "markdown",
   "metadata": {},
   "source": [
    "Parameter estimates from the pure RL-model are a bit different compared to the RLDDM. This is to be expected as probability of choice in DDM is dependent both on the decsision threshold and the scaled difference in q-values, whereas the RL model only uses the scaled difference in q-values. "
   ]
  },
  {
   "cell_type": "code",
   "execution_count": null,
   "metadata": {},
   "outputs": [],
   "source": [
    "m_rl.plot_posteriors()"
   ]
  },
  {
   "cell_type": "markdown",
   "metadata": {},
   "source": [
    "__Fig.__ Mixing and autocorrelation looks good."
   ]
  },
  {
   "cell_type": "code",
   "execution_count": null,
   "metadata": {},
   "outputs": [],
   "source": [
    "# estimate convergence\n",
    "models = []\n",
    "for i in range(3):\n",
    "    m = hddm.Hrl(data=data)\n",
    "    m.sample(1500, burn=500,dbname='traces.db',db='pickle')\n",
    "    models.append(m)\n",
    "#get max gelman-statistic value. shouldn't be higher than 1.1\n",
    "np.max(list(gelman_rubin(models).values()))"
   ]
  },
  {
   "cell_type": "markdown",
   "metadata": {},
   "source": [
    "Convergence looks good, i.e. no parameters with gelman-rubin statistic > 1.1."
   ]
  },
  {
   "cell_type": "code",
   "execution_count": null,
   "metadata": {},
   "outputs": [],
   "source": [
    "# Create a new model that has all traces concatenated\n",
    "# of individual models.\n",
    "m_rl = kabuki.utils.concat_models(models)"
   ]
  },
  {
   "cell_type": "code",
   "execution_count": null,
   "metadata": {},
   "outputs": [],
   "source": [
    "alpha, v = m_rl.nodes_db.node[['alpha','v']]\n",
    "samples = {'alpha':alpha.trace(),'v':v.trace()}\n",
    "samp = pd.DataFrame(data=samples)\n",
    "\n",
    "def corrfunc(x, y, **kws):\n",
    "    r, _ = stats.pearsonr(x, y)\n",
    "    ax = plt.gca()\n",
    "    ax.annotate(\"r = {:.2f}\".format(r),\n",
    "                xy=(.1, .9), xycoords=ax.transAxes)\n",
    "\n",
    "g = sns.PairGrid(samp, palette=[\"red\"])\n",
    "g.map_upper(plt.scatter, s=10)\n",
    "g.map_diag(sns.distplot, kde=False)\n",
    "g.map_lower(sns.kdeplot, cmap=\"Blues_d\")\n",
    "\n",
    "g.map_lower(corrfunc)"
   ]
  },
  {
   "cell_type": "markdown",
   "metadata": {},
   "source": [
    "__Fig.__ The correlation in the posterior distribution for alpha and v/scaling is somewhat negative."
   ]
  },
  {
   "cell_type": "markdown",
   "metadata": {},
   "source": [
    "## Posterior predictive check\n",
    "We can also do posterior predictive check on the RL-model by generating new data with hddm.generate.gen_rand_rl_data."
   ]
  },
  {
   "cell_type": "code",
   "execution_count": null,
   "metadata": {},
   "outputs": [],
   "source": [
    "#create empty dataframe to store simulated data\n",
    "sim_data = pd.DataFrame()\n",
    "#create a column samp to be used to identify the simulated data sets\n",
    "data['samp'] = 0\n",
    "#load traces\n",
    "traces = m_rl.get_traces()\n",
    "#decide how many times to repeat simulation process. repeating this multiple times is generally recommended as it better captures the uncertainty in the posterior distribution, but will also take some time\n",
    "for i in tqdm(range(1,51)):\n",
    "    #randomly select a row in the traces to use for extracting parameter values\n",
    "    sample = np.random.randint(0,traces.shape[0]-1)\n",
    "    #loop through all subjects in observed data\n",
    "    for s in data.subj_idx.unique():\n",
    "        #get number of trials for each condition.\n",
    "        size0 = len(data[(data['subj_idx']==s) & (data['split_by']==0)].trial.unique())\n",
    "        size1 = len(data[(data['subj_idx']==s) & (data['split_by']==1)].trial.unique())\n",
    "        size2 = len(data[(data['subj_idx']==s) & (data['split_by']==2)].trial.unique())\n",
    "        #set parameter values for simulation\n",
    "        scaler = traces.loc[sample,'v_subj.'+str(s)]\n",
    "        alphaInv = traces.loc[sample,'alpha_subj.'+str(s)]\n",
    "        #take inverse logit of estimated alpha\n",
    "        alpha = np.exp(alphaInv)/(1+np.exp(alphaInv))\n",
    "        #simulate data for each condition changing only values of size, p_upper, p_lower and split_by between conditions.\n",
    "        sim_data0 = hddm.generate.gen_rand_rl_data(scaler=scaler,alpha=alpha,size=size0,p_upper=0.8,p_lower=0.2,split_by=0)\n",
    "        sim_data1 = hddm.generate.gen_rand_rl_data(scaler=scaler,alpha=alpha,size=size1,p_upper=0.7,p_lower=0.3,split_by=1)\n",
    "        sim_data2 = hddm.generate.gen_rand_rl_data(scaler=scaler,alpha=alpha,size=size2,p_upper=0.6,p_lower=0.4,split_by=2)\n",
    "        #append the conditions\n",
    "        sim_data0 = sim_data0.append([sim_data1,sim_data2],ignore_index=True)\n",
    "        #assign subj_idx\n",
    "        sim_data0['subj_idx'] = s\n",
    "        #identify that these are simulated data\n",
    "        sim_data0['type'] = 'simulated'\n",
    "        #identify the simulated data\n",
    "        sim_data0['samp'] = i\n",
    "        #append data from each subject\n",
    "        sim_data = sim_data.append(sim_data0,ignore_index=True)\n",
    "#combine observed and simulated data\n",
    "ppc_rl_data = data[['subj_idx','response','split_by','trial','feedback','samp']].copy()\n",
    "ppc_rl_data['type'] = 'observed'\n",
    "ppc_rl_sdata = sim_data[['subj_idx','response','split_by','trial','feedback','type','samp']].copy()\n",
    "ppc_rl_data = ppc_rl_data.append(ppc_rl_sdata)"
   ]
  },
  {
   "cell_type": "code",
   "execution_count": null,
   "metadata": {},
   "outputs": [],
   "source": [
    "#for practical reasons we only look at the first 40 trials for each subject in a given condition\n",
    "plot_ppc_rl_data = ppc_rl_data[ppc_rl_data.trial<41].copy()"
   ]
  },
  {
   "cell_type": "code",
   "execution_count": null,
   "metadata": {},
   "outputs": [],
   "source": [
    "#bin trials to for smoother estimate of response proportion across learning\n",
    "plot_ppc_rl_data['bin_trial'] = pd.cut(plot_ppc_rl_data.trial,11,labels=np.linspace(0, 10,11)).astype('int64')\n",
    "#calculate means for each sample\n",
    "sums = plot_ppc_rl_data.groupby(['bin_trial','split_by','samp','type']).mean().reset_index()\n",
    "#calculate the overall mean response across samples\n",
    "ppc_rl_sim = sums.groupby(['bin_trial','split_by','type']).mean().reset_index()\n",
    "#initiate columns that will have the upper and lower bound of the hpd\n",
    "ppc_rl_sim['upper_hpd'] = 0\n",
    "ppc_rl_sim['lower_hpd'] = 0\n",
    "for i in range(0,ppc_rl_sim.shape[0]):\n",
    "    #calculate the hpd/hdi of the predicted mean responses across bin_trials\n",
    "    hdi = pymc.utils.hpd(sums.response[(sums['bin_trial']==ppc_rl_sim.bin_trial[i]) & (sums['split_by']==ppc_rl_sim.split_by[i]) & (sums['type']==ppc_rl_sim.type[i])],alpha=0.1)\n",
    "    ppc_rl_sim.loc[i,'upper_hpd'] = hdi[1]\n",
    "    ppc_rl_sim.loc[i,'lower_hpd'] = hdi[0]\n",
    "#calculate error term as the distance from upper bound to mean\n",
    "ppc_rl_sim['up_err'] = ppc_rl_sim['upper_hpd']-ppc_rl_sim['response']\n",
    "ppc_rl_sim['low_err'] = ppc_rl_sim['response']-ppc_rl_sim['lower_hpd']\n",
    "ppc_rl_sim['model'] = 'RL'"
   ]
  },
  {
   "cell_type": "code",
   "execution_count": null,
   "metadata": {},
   "outputs": [],
   "source": [
    "#plotting evolution of choice proportion for best option across learning for observed and simulated data. Compared for RL and RLDDM models, both with single learnign rate.\n",
    "fig, axs = plt.subplots(figsize=(15, 5),nrows=1, ncols=3, sharex=True,sharey=True)\n",
    "for i in range(0,3):\n",
    "    ax = axs[i]\n",
    "    d_single = ppc_sim[(ppc_sim.split_by==i) & (ppc_sim.type=='simulated')]\n",
    "    #slightly move bin_trial to avoid overlap in errorbars\n",
    "    d_single['bin_trial'] += 0.2\n",
    "    ax.errorbar(d_single.bin_trial, d_single.response, yerr=[d_single.low_err,d_single.up_err], label='simulated_RLDDM',color='orange')\n",
    "    ax = axs[i]\n",
    "    d_rl = ppc_rl_sim[(ppc_rl_sim.split_by==i) & (ppc_rl_sim.type=='simulated')]\n",
    "    ax.errorbar(d_rl.bin_trial, d_rl.response, yerr=[d_rl.low_err,d_rl.up_err], label='simulated_RL',color='green')\n",
    "    ax = axs[i]\n",
    "    d = ppc_sim[(ppc_dual_sim.split_by==i) & (ppc_dual_sim.type=='observed')]\n",
    "    ax.plot(d.bin_trial, d.response,linewidth=3,label='observed')\n",
    "    ax.set_title('split_by = %i' %i,fontsize=20)\n",
    "    ax.set_ylabel('mean response')\n",
    "    ax.set_xlabel('trial')\n",
    "plt.xlim(-0.5,10.5)\n",
    "plt.legend()"
   ]
  },
  {
   "cell_type": "markdown",
   "metadata": {},
   "source": [
    "__Fig.__ The predicted choice for the RL-model is very similar to what was predicted in the RLDDM. That is not surprising given that they use the same calculation to get the choice likelihood. The difference between them is instead that the RLDDM could potentially detect the unique contribution of the scaling/drift parameter and the decision threshold onto choice."
   ]
  },
  {
   "cell_type": "markdown",
   "metadata": {},
   "source": [
    "### Misprediction across learning\n",
    "Another way to visualize this is to look at how the predicted choice misses on the observed across learning, i.e. predicted-observed. As for the other plots we see that the two methods are very similar. "
   ]
  },
  {
   "cell_type": "code",
   "execution_count": null,
   "metadata": {},
   "outputs": [],
   "source": [
    "#rl\n",
    "error_prediction = plot_ppc_rl_data.groupby(['split_by','type','bin_trial'])['response'].mean().reset_index()\n",
    "ep = error_prediction.pivot_table(index=['split_by','bin_trial'],columns='type',values='response').reset_index()\n",
    "ep['diff'] = ep['simulated']-ep['observed']\n",
    "ep['model'] = 'RL'\n",
    "#rlddm\n",
    "error_prediction = plot_ppc_data.groupby(['split_by','type','bin_trial'])['response'].mean().reset_index()\n",
    "ep_rlddm = error_prediction.pivot_table(index=['split_by','bin_trial'],columns='type',values='response').reset_index()\n",
    "ep_rlddm['diff'] = ep_rlddm['simulated']-ep_rlddm['observed']\n",
    "ep_rlddm['model'] = 'RLDDM'\n",
    "#combine\n",
    "ep = ep.append(ep_rlddm)\n",
    "#plot\n",
    "g = sns.relplot(x='bin_trial',y='diff',col='split_by',hue='model',kind='line',ci=False,data=ep,palette=\"Set2_r\")\n",
    "g.map(plt.axhline, y=0, ls=\":\", c=\".5\")"
   ]
  },
  {
   "cell_type": "code",
   "execution_count": null,
   "metadata": {},
   "outputs": [],
   "source": []
  }
 ],
 "metadata": {
  "interpreter": {
   "hash": "a445e8b86844784ad439c05402e9f190af217ba9ac3e10cbacead74ef6ea1c6a"
  },
  "kernelspec": {
   "display_name": "Python 3",
   "language": "python",
   "name": "python3"
  },
  "language_info": {
   "codemirror_mode": {
    "name": "ipython",
    "version": 3
   },
   "file_extension": ".py",
   "mimetype": "text/x-python",
   "name": "python",
   "nbconvert_exporter": "python",
   "pygments_lexer": "ipython3",
   "version": "3.8.12"
  }
 },
 "nbformat": 4,
 "nbformat_minor": 4
}
